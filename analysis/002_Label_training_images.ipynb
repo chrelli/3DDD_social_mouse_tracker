{
 "cells": [
  {
   "cell_type": "code",
   "execution_count": 1,
   "metadata": {},
   "outputs": [],
   "source": [
    "# annontate\n",
    "import numpy as np\n",
    "import cv2\n",
    "import h5py\n",
    "import matplotlib.pyplot as plt\n",
    "# from deepposekit import VideoReader, KMeansSampler\n",
    "import sys\n",
    "sys.path.append('/home/chrelli/git/3d_sandbox/mouseposev0p2/chrelli_annotator/')\n",
    "# sys.path.append('/home/chrelli/git/3d_sandbox/mousepose_0p1/deepposekit-annotator/')\n",
    "\n",
    "from dpk_annotator import Annotator\n",
    "import tqdm\n",
    "import glob\n",
    "import itertools\n",
    "\n",
    "from os.path import expanduser\n",
    "home = expanduser(\"~\")\n"
   ]
  },
  {
   "cell_type": "markdown",
   "metadata": {},
   "source": [
    "# Point to the training images, label using the 'DeepPoseKit' annotator (Graving et al. 2019)"
   ]
  },
  {
   "cell_type": "code",
   "execution_count": 2,
   "metadata": {},
   "outputs": [
    {
     "name": "stdout",
     "output_type": "stream",
     "text": [
      "['training_sets/mouse_training_set.h5']\n",
      "['training_sets/skeleton_v2_mice.csv']\n"
     ]
    }
   ],
   "source": [
    "# The skeleton file specifies the affinity fields (nose-to-tail, ear-to-nose, etc) \n",
    "# between the clicked keypoints (nose, ears, tail, implant).\n",
    "\n",
    "training_sets = glob.glob('training_sets' + '/*.h5')\n",
    "skeletons = glob.glob('training_sets' + '/*skeleton_v2*')\n",
    "\n",
    "print(training_sets)\n",
    "print(skeletons)\n"
   ]
  },
  {
   "cell_type": "code",
   "execution_count": 4,
   "metadata": {},
   "outputs": [
    {
     "name": "stdout",
     "output_type": "stream",
     "text": [
      "Saved\n",
      "Saved\n"
     ]
    }
   ],
   "source": [
    "\n",
    "app = Annotator(datapath=training_sets[0],\n",
    "                dataset='c_images',\n",
    "                skeleton=skeletons[0],\n",
    "                shuffle_colors=False,\n",
    "                text_scale=.3)\n",
    "\n",
    "app.run()"
   ]
  },
  {
   "cell_type": "code",
   "execution_count": null,
   "metadata": {},
   "outputs": [],
   "source": []
  }
 ],
 "metadata": {
  "kernelspec": {
   "display_name": "Python 3",
   "language": "python",
   "name": "python3"
  },
  "language_info": {
   "codemirror_mode": {
    "name": "ipython",
    "version": 3
   },
   "file_extension": ".py",
   "mimetype": "text/x-python",
   "name": "python",
   "nbconvert_exporter": "python",
   "pygments_lexer": "ipython3",
   "version": "3.6.9"
  }
 },
 "nbformat": 4,
 "nbformat_minor": 4
}

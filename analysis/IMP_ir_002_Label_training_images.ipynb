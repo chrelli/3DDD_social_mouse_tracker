{
 "cells": [
  {
   "cell_type": "code",
   "execution_count": 1,
   "metadata": {},
   "outputs": [],
   "source": [
    "# annontate\n",
    "import numpy as np\n",
    "import cv2\n",
    "import h5py\n",
    "import matplotlib.pyplot as plt\n",
    "# from deepposekit import VideoReader, KMeansSampler\n",
    "import sys\n",
    "sys.path.append('chrelli_annotator/')\n",
    "# sys.path.append('/home/chrelli/git/3d_sandbox/mousepose_0p1/deepposekit-annotator/')\n",
    "\n",
    "from dpk_annotator import Annotator\n",
    "import tqdm\n",
    "import glob\n",
    "import itertools\n",
    "\n",
    "from os.path import expanduser\n",
    "home = expanduser(\"~\")\n"
   ]
  },
  {
   "cell_type": "code",
   "execution_count": null,
   "metadata": {},
   "outputs": [],
   "source": []
  },
  {
   "cell_type": "markdown",
   "metadata": {},
   "source": [
    "# Point to the training images, label using the 'DeepPoseKit' annotator (Graving et al. 2019)"
   ]
  },
  {
   "cell_type": "code",
   "execution_count": 2,
   "metadata": {},
   "outputs": [
    {
     "name": "stdout",
     "output_type": "stream",
     "text": [
      "['/media/chrelli/Data0/recording_20201110-104449/mouse_training_set.h5']\n",
      "['training_sets/skeleton_v2_mice.csv']\n"
     ]
    }
   ],
   "source": [
    "# The skeleton file specifies the affinity fields (nose-to-tail, ear-to-nose, etc) \n",
    "# between the clicked keypoints (nose, ears, tail, implant).\n",
    "\n",
    "# high-res training data \n",
    "top_folder_0 = '/media/chrelli/Data0/recording_20200821-123841'\n",
    "top_folder_1 = '/media/chrelli/Data1/recording_20200821-123841'\n",
    "# training data with different exposure\n",
    "top_folder_0 = '/media/chrelli/Data0/recording_20200828-113642/'\n",
    "top_folder_1 = '/media/chrelli/Data1/recording_20200828-113642/'\n",
    "\n",
    "# validation dataset with LASER ON 90 fps\n",
    "top_folder_0 = '/media/chrelli/Data0/recording_20200828-114251/'\n",
    "top_folder_1 = '/media/chrelli/Data1/recording_20200828-114251/'\n",
    "\n",
    "# training data with implant \n",
    "top_folder_0 = '/media/chrelli/Data0/recording_20201107-092409/'\n",
    "top_folder_1 = '/media/chrelli/Data1/recording_20201107-092409/'\n",
    "\n",
    "# training data with implant with SPIKES\n",
    "top_folder_0 = '/media/chrelli/Data0/recording_20201108-092537/'\n",
    "top_folder_1 = '/media/chrelli/Data1/recording_20201108-092537/'\n",
    "\n",
    "# GOOD SPIKES< female, no laser\n",
    "top_folder_0 = '/media/chrelli/Data0/recording_20201110-104449'\n",
    "top_folder_1 = '/media/chrelli/Data1/recording_20201110-104449'\n",
    "\n",
    "# ALSO good spikes, more light\n",
    "top_folder_0 = '/media/chrelli/SSD4TB/Data0_backup/recording_20201111-103049'\n",
    "top_folder_1 = '/media/chrelli/SSD4TB/Data1_backup/recording_20201111-103049'\n",
    "\n",
    "\n",
    "training_sets = glob.glob( top_folder_0 + '/*.h5')\n",
    "skeletons = glob.glob('training_sets' + '/*skeleton_v2*')\n",
    "\n",
    "print(training_sets)\n",
    "print(skeletons)\n"
   ]
  },
  {
   "cell_type": "code",
   "execution_count": 4,
   "metadata": {},
   "outputs": [
    {
     "name": "stdout",
     "output_type": "stream",
     "text": [
      "Saved\n",
      "Saved\n"
     ]
    }
   ],
   "source": [
    "\n",
    "app = Annotator(datapath=training_sets[0],\n",
    "                dataset='c_images',\n",
    "                skeleton=skeletons[0],\n",
    "                shuffle_colors=False,\n",
    "                text_scale=.3)\n",
    "\n",
    "app.run()"
   ]
  },
  {
   "cell_type": "code",
   "execution_count": null,
   "metadata": {},
   "outputs": [],
   "source": []
  }
 ],
 "metadata": {
  "kernelspec": {
   "display_name": "Python 3",
   "language": "python",
   "name": "python3"
  },
  "language_info": {
   "codemirror_mode": {
    "name": "ipython",
    "version": 3
   },
   "file_extension": ".py",
   "mimetype": "text/x-python",
   "name": "python",
   "nbconvert_exporter": "python",
   "pygments_lexer": "ipython3",
   "version": "3.7.7"
  }
 },
 "nbformat": 4,
 "nbformat_minor": 4
}

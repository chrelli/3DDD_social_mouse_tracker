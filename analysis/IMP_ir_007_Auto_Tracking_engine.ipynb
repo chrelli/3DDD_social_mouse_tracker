{
 "cells": [
  {
   "cell_type": "code",
   "execution_count": 1,
   "metadata": {},
   "outputs": [],
   "source": [
    "from IPython import get_ipython\n",
    "\n",
    "%matplotlib qt\n",
    "%load_ext autoreload\n",
    "%autoreload 2\n",
    "\n",
    "\n",
    "import time, os, sys, shutil\n",
    "from utils.fitting_utils import *\n",
    "\n",
    "# for math and plotting\n",
    "import pandas as pd\n",
    "import numpy as np\n",
    "import scipy as sp\n",
    "import matplotlib.pyplot as plt\n",
    "\n",
    "import matplotlib\n",
    "matplotlib.use('Qt5Agg')\n",
    "# %matplotlib notebook\n",
    "# %matplotlib widget\n",
    "# %matplotlib qt5\n",
    "# %matplotlib nbagg\n",
    "\n",
    "from itertools import compress # for list selection with logical\n",
    "from tqdm import tqdm\n",
    "\n",
    "from multiprocessing import Process\n",
    "\n",
    "# ALLSO JIT STUFF\n",
    "from numba import jit, njit\n",
    "\n",
    "# and pytorch\n",
    "import torch\n",
    "\n",
    "import sys, os, pickle\n",
    "# import cv2\n",
    "from colour import Color\n",
    "import h5py\n",
    "from tqdm import tqdm, tqdm_notebook\n",
    "import glob\n",
    "import itertools"
   ]
  },
  {
   "cell_type": "code",
   "execution_count": 2,
   "metadata": {},
   "outputs": [
    {
     "name": "stdout",
     "output_type": "stream",
     "text": [
      "True\n",
      "1\n",
      "GeForce RTX 2080 Ti\n",
      "cuda:0\n"
     ]
    }
   ],
   "source": [
    "# Check CUDA\n",
    "print(torch.cuda.is_available())\n",
    "print(torch.cuda.device_count())\n",
    "print(torch.cuda.get_device_name(0))\n",
    "torch_device = torch.device(\"cuda:0\" if torch.cuda.is_available() else \"cpu\")\n",
    "\n",
    "# torch_device = \"cpu\"\n",
    "\n",
    "print(torch_device)"
   ]
  },
  {
   "cell_type": "code",
   "execution_count": 3,
   "metadata": {},
   "outputs": [],
   "source": [
    "# setup for pretty plotting\n",
    "matplotlib.rcParams['font.sans-serif'] = \"Liberation Sans\"\n",
    "# Then, \"ALWAYS use sans-serif fonts\"\n",
    "matplotlib.rcParams['font.family'] = \"sans-serif\"\n",
    "\n",
    "matplotlib.rc('font', family='sans-serif') \n",
    "matplotlib.rc('text', usetex='false') \n",
    "matplotlib.rcParams.update({'font.size': 13})\n",
    "\n",
    "from palettable.cmocean.sequential import Algae_6\n",
    "cmpl = Algae_6.mpl_colors\n",
    "\n",
    "def adjust_spines(ax, spines):\n",
    "    for loc, spine in ax.spines.items():\n",
    "        if loc in spines:\n",
    "            spine.set_position(('outward', 10))  # outward by 10 points\n",
    "            spine.set_smart_bounds(True)\n",
    "        else:\n",
    "            spine.set_color('none')  # don't draw spine\n",
    "\n",
    "    # turn off ticks where there is no spine\n",
    "    if 'left' in spines:\n",
    "        ax.yaxis.set_ticks_position('left')\n",
    "    else:\n",
    "        # no yaxis ticks\n",
    "        ax.yaxis.set_ticks([])\n",
    "\n",
    "    if 'bottom' in spines:\n",
    "        ax.xaxis.set_ticks_position('bottom')\n",
    "    else:\n",
    "        # no xaxis ticks\n",
    "        ax.xaxis.set_ticks([])\n"
   ]
  },
  {
   "cell_type": "markdown",
   "metadata": {},
   "source": [
    "# Load the pre-processed data and display an example frame"
   ]
  },
  {
   "cell_type": "code",
   "execution_count": 4,
   "metadata": {},
   "outputs": [
    {
     "name": "stdout",
     "output_type": "stream",
     "text": [
      "<KeysViewHDF5 ['dataset']>\n",
      "73123\n"
     ]
    }
   ],
   "source": [
    "data_folder = 'example_data/tracking/'\n",
    "\n",
    "top_folder_0 = '/media/chrelli/Data0/recording_20200821-131033'\n",
    "top_folder_1 = '/media/chrelli/Data1/recording_20200821-131033'\n",
    "\n",
    "# validation dataset with LASER ON 90 fps\n",
    "top_folder_0 = '/media/chrelli/Data0/recording_20200828-114251'\n",
    "top_folder_1 = '/media/chrelli/Data1/recording_20200828-114251'\n",
    "\n",
    "# Data with female partner 3500 exposure\n",
    "top_folder_0 = '/media/chrelli/Data0/recording_20201110-102009/'\n",
    "top_folder_1 = '/media/chrelli/Data1/recording_20201110-102009/'\n",
    "\n",
    "top_folder_0 = '/media/chrelli/SSD4TB/Data0_backup/recording_20201110-102009/'\n",
    "top_folder_1 = '/media/chrelli/SSD4TB/Data1_backup/recording_20201110-102009/'\n",
    "\n",
    "\n",
    "# # Data with male partner 3500 exposure\n",
    "# top_folder_0 = '/media/chrelli/Data0/recording_20201110-105540/'\n",
    "# top_folder_1 = '/media/chrelli/Data1/recording_20201110-105540/'\n",
    "# top_folder_0 = '/media/chrelli/SSD4TB/Data0_backup/recording_20201110-105540'\n",
    "# top_folder_1 = '/media/chrelli/SSD4TB/Data1_backup/recording_20201110-105540'\n",
    "\n",
    "\n",
    "\n",
    "# # Thrusting data\n",
    "# top_folder_0 = '/media/chrelli/Data0/recording_20201112-104816/'\n",
    "# top_folder_1 = '/media/chrelli/Data1/recording_20201112-104816/'\n",
    "\n",
    "\n",
    "\n",
    "data_folder = top_folder_0\n",
    "\n",
    "\n",
    "# load ALL the frames as jagged lines \n",
    "with h5py.File(data_folder+'/pre_processed_frames.hdf5', mode='r') as hdf5_file:\n",
    "    print(hdf5_file.keys())\n",
    "    print(len(hdf5_file['dataset']))\n",
    "    jagged_lines = hdf5_file['dataset'][...] \n"
   ]
  },
  {
   "cell_type": "code",
   "execution_count": 5,
   "metadata": {},
   "outputs": [
    {
     "name": "stdout",
     "output_type": "stream",
     "text": [
      "[1 1 3 1 1 2 1 1 2 3 2]\n",
      "(3163, 3)\n"
     ]
    }
   ],
   "source": [
    "from utils.cuda_tracking_utils import unpack_from_jagged, cheap4d\n",
    "# kill first 6 secs of the frames (delay is ~180)\n",
    "start_frame = 10*60\n",
    "pos, pos_weights, keyp, pkeyp, ikeyp = unpack_from_jagged(jagged_lines[start_frame])\n",
    "print(ikeyp)\n",
    "print(pos.shape)\n",
    "fig = plt.gcf()\n",
    "plt.title(\"N positions is {}\".format(pos.shape))\n",
    "plt.show()\n",
    "cheap4d(pos,keyp,ikeyp)\n"
   ]
  },
  {
   "cell_type": "code",
   "execution_count": null,
   "metadata": {},
   "outputs": [],
   "source": []
  },
  {
   "cell_type": "code",
   "execution_count": 6,
   "metadata": {},
   "outputs": [
    {
     "name": "stdout",
     "output_type": "stream",
     "text": [
      "Found a good starting point on frame # 1400 !\n"
     ]
    },
    {
     "name": "stderr",
     "output_type": "stream",
     "text": [
      "/home/chrelli/anaconda2/envs/mousepose/lib/python3.6/site-packages/numpy/core/fromnumeric.py:3335: RuntimeWarning: Mean of empty slice.\n",
      "  out=out, **kwargs)\n",
      "/home/chrelli/anaconda2/envs/mousepose/lib/python3.6/site-packages/numpy/core/_methods.py:154: RuntimeWarning: invalid value encountered in true_divide\n",
      "  ret, rcount, out=ret, casting='unsafe', subok=False)\n"
     ]
    }
   ],
   "source": [
    "# AUTO-start the tracking, start with frame 0, and loop until there is a frame, where the animals are reasonably far apart!\n",
    "\n",
    "plt.close('all')\n",
    "\n",
    "from utils.cuda_tracking_utils_weights_for_figures import body_constants, particles_to_distance_cuda, clean_keyp_by_r\n",
    "from utils.cuda_tracking_utils_weights_for_figures import loading_wrapper\n",
    "from utils.clicking import *\n",
    "\n",
    "from scipy.spatial.distance import pdist, squareform\n",
    "from scipy.stats import kurtosis\n",
    "from scipy.stats import skew\n",
    "from scipy.cluster.vq import vq, kmeans, whiten\n",
    "\n",
    "def bimodality_coeff(dat):\n",
    "    # from https://www.ncbi.nlm.nih.gov/pmc/articles/PMC3791391/\n",
    "    m3 = skew(dat)\n",
    "    m4 = kurtosis(dat)\n",
    "    n = len(dat)\n",
    "    BC = (m3**2 + 1)/(m4**2 + 3 * ((n-1)**2)/( (n-2)*(n-3) ) )\n",
    "    return BC\n",
    "\n",
    "def check_mouse_separation(keyp,ikeyp, has_implant = False):\n",
    "    # get the xy-coordinates of the keypoints\n",
    "    xy_head = keyp[(ikeyp == 1)| (ikeyp == 2) ,:].cpu().numpy()\n",
    "    xy_tail = keyp[ikeyp == 3,:].cpu().numpy()\n",
    "    \n",
    "    if len(xy_head) < 2 or len(xy_tail) < 2:\n",
    "        return False, np.nan*np.ones((2,3)), np.nan*np.ones((2,3))\n",
    "    \n",
    "    # kmeans two clusters # a bit slow, but w/e\n",
    "    c_head,distortion_head = kmeans(xy_head, 2)\n",
    "    c_tail,distortion_tail = kmeans(xy_tail, 2)\n",
    "    \n",
    "    # associate to partners, since there are only two, we can do it this way\n",
    "    match_0 = np.argmin(np.sum((c_tail - c_head[0,:])**2,1))\n",
    "    match_1 = np.argmin(np.sum((c_tail - c_head[1,:])**2,1))\n",
    "    \n",
    "    # assemble the mice\n",
    "    mouse_0 = np.vstack((c_head[0,:],c_tail[match_0,:]))\n",
    "    mouse_1 = np.vstack((c_head[1,:],c_tail[match_1,:]))\n",
    "    \n",
    "    # check that all the cross-mouse distances are larger than a threshold\n",
    "    # h2h, t2t, and the two h2t\n",
    "    cross_difference = mouse_0[[0,1,0,1],:] - mouse_1[[0,1,1,0],:] \n",
    "    cross_dist = np.sqrt( np.sum(cross_difference**2,1) )\n",
    "    \n",
    "    # Hmm\n",
    "    separation_cutoff = 0.05 # let's do 7 cm!\n",
    "    sep_criterion = np.all(cross_dist > separation_cutoff)\n",
    "    \n",
    "    #also make sure the two mice are long enough!\n",
    "    mouse_lengths = np.array([np.linalg.norm(np.diff(mouse_0,axis = 0)), \n",
    "                              np.linalg.norm(np.diff(mouse_1,axis = 0))])\n",
    "    length_cutoff = 0.05 # let's do 7 cm!\n",
    "    l_criterion = np.all(mouse_lengths > length_cutoff)\n",
    "\n",
    "    criterion = sep_criterion * l_criterion\n",
    "    \n",
    "    # If we are looking for an implant, we also want to make sure that there are visible implant keypoints\n",
    "    if has_implant:\n",
    "        impl_criterion = np.sum(ikeyp.cpu().numpy() == 0) > 0\n",
    "        criterion = criterion * impl_criterion\n",
    "        \n",
    "        # make sure that mouse0 has the implant!\n",
    "        xy_impl = keyp[ikeyp == 0,:].cpu().numpy()\n",
    "        c_impl = np.mean(xy_impl,axis=0)\n",
    "        \n",
    "        # distance to mice, sorting by the head, see above\n",
    "        mice= [mouse_0,mouse_1]\n",
    "        d1 = np.sqrt(np.sum( (c_head - c_impl)**2 ,axis = 1))\n",
    "\n",
    "        # since there are only two, we can just do logic, little bit hacky \n",
    "        implanted_index = np.argmin(d1).astype('bool')\n",
    "        mouse_0 = np.vstack([mice[implanted_index.astype(int)],c_impl])\n",
    "        mouse_1 = mice[ (~implanted_index).astype(int) ]\n",
    "        \n",
    "    return criterion, mouse_0, mouse_1\n",
    "\n",
    "def plot_top_view(pos,keyp,ikeyp,mouse_0=None,mouse_1=None):\n",
    "    keyp_colors = ['dodgerblue','green','red','orange']\n",
    "    plt.figure()\n",
    "\n",
    "    posi = pos.cpu().numpy()\n",
    "    plt.plot(posi[:,0],posi[:,1],'.',alpha=.1,c='k')\n",
    "\n",
    "    if mouse_0 is not None:\n",
    "        lw = 3\n",
    "        plt.plot(mouse_0[:,0],mouse_0[:,1],':',lw=lw,c='k')\n",
    "        plt.plot(mouse_1[:,0],mouse_1[:,1],':',lw=lw,c='peru')\n",
    "\n",
    "        ss = 10\n",
    "        plt.plot(mouse_0[0,0],mouse_0[0,1],'v',markersize=ss,c='k')\n",
    "        plt.plot(mouse_1[0,0],mouse_1[0,1],'v',markersize=ss,c='peru')\n",
    "\n",
    "        plt.plot(mouse_0[1,0],mouse_0[1,1],'o',markersize=ss,c='k')\n",
    "        plt.plot(mouse_1[1,0],mouse_1[1,1],'o',markersize=ss,c='peru')\n",
    "\n",
    "    for ik,colors in enumerate(keyp_colors):\n",
    "        xy = keyp[ikeyp == ik,:2].cpu().numpy()\n",
    "        xy = keyp[ikeyp == ik,:2].cpu().numpy()\n",
    "        x = xy[:,0]\n",
    "        y = xy[:,1]\n",
    "\n",
    "        plt.plot(x,y,'o',c=keyp_colors[ik])\n",
    "\n",
    "    plt.show()\n",
    "\n",
    "def plot_3_views(pos,keyp,ikeyp,mouse_0=None,mouse_1=None,has_implant=False,savepath=None):\n",
    "    keyp_colors = ['dodgerblue','green','red','orange']\n",
    "    plt.figure(figsize = (9,6))\n",
    "\n",
    "    for i_row in range(2):\n",
    "        for i_sub,(p1,p2) in enumerate(zip([0,0,1],[1,2,2])):\n",
    "            plt.subplot(2,3,1+i_sub+3*i_row)\n",
    "\n",
    "\n",
    "            if i_row ==0:\n",
    "                posi = pos.cpu().numpy()\n",
    "                plt.plot(posi[:,p1],posi[:,p2],'.',alpha=.01,c='k')\n",
    "\n",
    "                for ik,colors in enumerate(keyp_colors):\n",
    "                    xy = keyp[ikeyp == ik,:].cpu().numpy()\n",
    "                    xy = keyp[ikeyp == ik,:].cpu().numpy()\n",
    "                    x = xy[:,p1]\n",
    "                    y = xy[:,p2]\n",
    "\n",
    "                    plt.plot(x,y,'o',c=keyp_colors[ik],alpha = 0.3)\n",
    "\n",
    "\n",
    "            if mouse_0 is not None:\n",
    "                lw = 1.5\n",
    "                mz = 2\n",
    "                if mouse_0.shape[0] > 2:\n",
    "                    plt.plot(mouse_0[[2,0,1],p1],mouse_0[[2,0,1],p2],'o-',markersize=mz,lw=lw,c='k')\n",
    "                else:\n",
    "                    plt.plot(mouse_0[:,p1],mouse_0[:,p2],'o-',markersize=mz,lw=lw,c='k')\n",
    "                plt.plot(mouse_1[:,p1],mouse_1[:,p2],'o-',markersize=mz,lw=lw,c='peru')\n",
    "                    \n",
    "            plt.xlim([-.2,.2])\n",
    "            plt.ylim([-.2,.2])\n",
    "            \n",
    "    if savepath is not None:\n",
    "        plt.savefig(savepath,dpi=300)\n",
    "\n",
    "    plt.show()    \n",
    "\n",
    "def generate_starting_x0(pos,keyp,ikeyp,mouse_0,mouse_1, has_implant = False):\n",
    "\n",
    "    # x0_start is a,b,s, theta, phi, xyz\n",
    "    # negative angle on b, because the rotation is down\n",
    "    vec_0 = mouse_0[0,:] - mouse_0[1,:]\n",
    "    center_0 = mouse_0[1,:] + 0.5 *vec_0\n",
    "    # gamma and beta:\n",
    "    g_0 = angle_between(np.array([1,0,0]),vec_0 *np.array([1,1,0]) )\n",
    "    b_0 = - angle_between(vec_0 * np.array([1,1,0]),vec_0) \n",
    "\n",
    "    # x0_start is a,b,s, theta, phi, xyz\n",
    "    vec_1 = mouse_1[0,:] - mouse_1[1,:]\n",
    "    center_1 = mouse_1[1,:] + 0.5 *vec_1\n",
    "    g_1 = angle_between(np.array([1,0,0]),vec_1 *np.array([1,1,0]) )\n",
    "    b_1 = - angle_between(vec_1 * np.array([1,1,0]),vec_1)  \n",
    "\n",
    "\n",
    "    if has_implant: # if there is an implant, we just squeeze it in to the right place!\n",
    "        mouse_0_start = np.hstack([ np.array([b_0,g_0,.9,0.,0.,0.]), center_0])\n",
    "    else:\n",
    "        mouse_0_start = np.hstack([ np.array([b_0,g_0,.9,0.,0.]), center_0])\n",
    "\n",
    "    mouse_1_start = np.hstack([ np.array([b_1,g_1,.9,0.,0.]), center_1])        \n",
    "    x0_start = np.hstack([mouse_0_start, mouse_1_start])\n",
    "    \n",
    "    return x0_start\n",
    "\n",
    "has_implant = True\n",
    "\n",
    "# skip first 5 secs to make sure all cameras are going:\n",
    "for start_frame in np.arange(5*60,30000,100):\n",
    "    pos,pos_weights,keyp,ikeyp = loading_wrapper(start_frame,jagged_lines)\n",
    "    \n",
    "    criterion, mouse_0, mouse_1 = check_mouse_separation(keyp,ikeyp,has_implant = has_implant)\n",
    "    \n",
    "    if criterion:\n",
    "#         plot_top_view(pos,keyp,ikeyp,mouse_0,mouse_1)\n",
    "        print(\"Found a good starting point on frame # {} !\".format(start_frame) )\n",
    "    \n",
    "        # # convert the mouse_0, mouse_1 into a starting guess\n",
    "        x0_start = generate_starting_x0(pos,keyp,ikeyp,mouse_0,mouse_1, has_implant = has_implant)\n",
    "\n",
    "        plot_3_views(pos,keyp,ikeyp,mouse_0,mouse_1,has_implant=has_implant,savepath='../st')          \n",
    "        \n",
    "        break\n",
    "        \n"
   ]
  },
  {
   "cell_type": "code",
   "execution_count": 8,
   "metadata": {},
   "outputs": [
    {
     "name": "stdout",
     "output_type": "stream",
     "text": [
      "tensor([[-0.4757,  1.3763,  0.9000,  0.0000,  0.0000,  0.0000, -0.1049,  0.0409,\n",
      "          0.0219,  0.3951, -0.1016,  0.9000,  0.0000,  0.0000, -0.0779, -0.0545,\n",
      "          0.0239]], device='cuda:0')\n",
      "torch.Size([1, 17])\n",
      "torch.Size([3854, 3])\n"
     ]
    }
   ],
   "source": [
    "pos,pos_weights,keyp,ikeyp = loading_wrapper(start_frame,jagged_lines)\n",
    "\n",
    "part = torch.Tensor(x0_start).to(torch_device).unsqueeze(0)\n",
    "# no need for the the particle to have gradients\n",
    "part.requires_grad = False\n",
    "\n",
    "print(part)\n",
    "print(part.shape)\n",
    "print(pos.shape)"
   ]
  },
  {
   "cell_type": "markdown",
   "metadata": {},
   "source": [
    "# Import the actual particle filter tracking engine, 'MousePFilt', and fit the first frame"
   ]
  },
  {
   "cell_type": "code",
   "execution_count": 9,
   "metadata": {},
   "outputs": [
    {
     "name": "stdout",
     "output_type": "stream",
     "text": [
      "tensor([[   inf,    inf, 1.0000, 1.0467, 1.0467,    inf,    inf, 0.0700,    inf,\n",
      "            inf, 1.0000, 1.0467, 1.0467,    inf,    inf, 0.0700]],\n",
      "       device='cuda:0')\n",
      "tensor([[   -inf,    -inf,  0.3000, -1.0467, -1.0467,    -inf,    -inf,  0.0000,\n",
      "            -inf,    -inf,  0.3000, -1.0467, -1.0467,    -inf,    -inf,  0.0000]],\n",
      "       device='cuda:0')\n",
      "tensor([[   inf,    inf, 1.0000,    inf, 1.0467, 1.0467,    inf,    inf, 0.0700,\n",
      "            inf,    inf, 1.0000, 1.0467, 1.0467,    inf,    inf, 0.0700]],\n",
      "       device='cuda:0')\n",
      "tensor([[   -inf,    -inf,  0.3000,    -inf, -1.0467, -1.0467,    -inf,    -inf,\n",
      "          0.0000,    -inf,    -inf,  0.3000, -1.0467, -1.0467,    -inf,    -inf,\n",
      "          0.0000]], device='cuda:0')\n"
     ]
    }
   ],
   "source": [
    "# get the limits for the tracking and the residual functions\n",
    "from utils.cuda_tracking_utils_weights_for_figures import search_cone, global_min, global_max\n",
    "from utils.cuda_tracking_utils_weights_for_figures import add_implant_residual,add_body_residual,add_ass_residual, add_ear_residual, add_nose_residual\n",
    "\n",
    "# for single mice\n",
    "# global_min = global_min[:3,4:]\n",
    "# global_max = global_max[:,:3]\n",
    "from utils.cuda_tracking_utils_weights_for_figures import search_cone_noimp, global_min_noimp, global_max_noimp\n",
    "\n",
    "print(global_max_noimp)\n",
    "print(global_min_noimp)\n",
    "\n",
    "print(global_max)\n",
    "print(global_min)"
   ]
  },
  {
   "cell_type": "code",
   "execution_count": 10,
   "metadata": {},
   "outputs": [
    {
     "name": "stdout",
     "output_type": "stream",
     "text": [
      "it 0 of 1, best loss is 1987.0142822265625, time 0.03353850399980729\n",
      "0.03353850399980729\n"
     ]
    }
   ],
   "source": [
    "from utils.cuda_tracking_utils_weights_for_figures import MousePFilt, make_some_bounds,particles_to_body_supports_cuda\n",
    "\n",
    "if has_implant:\n",
    "    upper_bound,lower_bound = make_some_bounds(part,search_cone/3,global_max,global_min)\n",
    "    pzo = MousePFilt(swarm_size = 150)\n",
    "else:\n",
    "    part_noimp = part\n",
    "    upper_bound,lower_bound = make_some_bounds(part_noimp,search_cone_noimp/3,global_max_noimp,global_min_noimp)    \n",
    "    pzo = MousePFilt(swarm_size = 150,has_implant = False) # fix\n",
    "\n",
    "pzo.search_space(upper_bound,lower_bound)\n",
    "\n",
    "# populate the tracker\n",
    "pzo.populate(sobol = True)\n",
    "\n",
    "# send the data for tracking\n",
    "pzo.pos = pos[::1,:]\n",
    "pzo.pos_weights = pos_weights\n",
    "pzo.keyp = keyp\n",
    "pzo.ikeyp = ikeyp\n",
    "\n",
    "pzo.max_iterations = 1\n",
    "self = pzo\n",
    "pzo.run2(cinema=False, fast_sort = False)\n",
    "plt.close('all')\n",
    "print(np.mean(self.time_benchmarking))\n",
    "# if has_implant:\n",
    "#     pzo.plot_status(reduce_mean=True,keep_open=True,plot_ellipsoids=True)\n",
    "# else:\n",
    "#     pzo.plot_status_noimpl(reduce_mean=False,keep_open=True,plot_ellipsoids=True)"
   ]
  },
  {
   "cell_type": "code",
   "execution_count": 35,
   "metadata": {},
   "outputs": [],
   "source": [
    "# \n",
    "plt.close('all')\n",
    "swarm_sizes = [10,50,100,200,400,600]\n",
    "gpu_fast_sort = [15.2,15.4,17.8,21.3,35.0,51.5]\n",
    "gpu_normal_sort = [14.7,15.3,17.1,20.8,34.6,50]\n",
    "\n",
    "\n",
    "plt.figure(figsize = (2.5,2))\n",
    "# plt.plot(swarm_sizes,gpu_fast_sort,'--o', label = 'GPU, topk')\n",
    "plt.plot(swarm_sizes,gpu_normal_sort,'-ok', label = 'GPU, sort')\n",
    "# swarm_sizes = [10,50,100,150,200,400,600]\n",
    "# cpu_fast_sort = [23.6, 49.3, 117.8, 177.8, 266.8, 12.8, 1654.0]\n",
    "# cpu_normal_sort = [24.8, 48.3, 116.5, 181.7, 280.3, 816.7, 1658.6]\n",
    "\n",
    "swarm_sizes = [10,50,100,200,400,600]\n",
    "cpu_fast_sort = [23.6, 49.3, 117.8, 266.8, 812.8, 1654.0]\n",
    "cpu_normal_sort = [24.8, 48.3, 116.5, 280.3, 816.7, 1658.6]\n",
    "\n",
    "\n",
    "# plt.plot(swarm_sizes,cpu_fast_sort,'--o', label = 'CPU, topk')\n",
    "plt.plot(swarm_sizes,cpu_normal_sort,'--ok', label = 'CPU, sort')\n",
    "# plt.legend()\n",
    "# plt.xlabel(\"Particles\")\n",
    "# plt.ylabel(\"Iteration time [ms]\")\n",
    "plt.xticks(swarm_sizes,rotation=90)\n",
    "ax = plt.gca()\n",
    "# ax.set_xticklabels('')\n",
    "\n",
    "ax = plt.gca()\n",
    "# ax.set_ylim([0, None])\n",
    "plt.yscale('log')\n",
    "plt.yticks([10,100,1000])\n",
    "ax.set_yticklabels(['10 ms','100 ms','1 s'\n",
    "                   ])\n",
    "\n",
    "ax.set_yticklabels([])\n",
    "ax.set_xticklabels([])\n",
    "\n",
    "# plt.tight_layout()\n",
    "\n",
    "plt.savefig('revision_figures/profile_network/GPUspeed.pdf',transparent= True)\n",
    "\n",
    "plt.show()"
   ]
  },
  {
   "cell_type": "code",
   "execution_count": 30,
   "metadata": {},
   "outputs": [],
   "source": [
    "plt.close('all')"
   ]
  },
  {
   "cell_type": "markdown",
   "metadata": {},
   "source": [
    "# Make a wrapper to run the particle filter across all frames, set options"
   ]
  },
  {
   "cell_type": "code",
   "execution_count": 27,
   "metadata": {},
   "outputs": [],
   "source": [
    "\n",
    "if has_implant:\n",
    "    pzo = MousePFilt(swarm_size = 200)\n",
    "    def pzo_wrapper(part,pos,pos_weights,keyp,ikeyp,pzo):\n",
    "        upper_bound,lower_bound = make_some_bounds(part,search_cone/3,global_max,global_min)\n",
    "\n",
    "        pzo.search_space(upper_bound,lower_bound)\n",
    "        pzo.populate(sobol = True)\n",
    "\n",
    "        pzo.pos = pos\n",
    "        pzo.pos_weights = pos_weights\n",
    "\n",
    "        pzo.keyp = keyp\n",
    "        pzo.ikeyp = ikeyp\n",
    "\n",
    "        pzo.max_iterations = 3\n",
    "\n",
    "        pzo.run2(verbose=False,use_weights = False,barrier = True,fast_sort = True)\n",
    "\n",
    "        return pzo.meanwinner\n",
    "else:\n",
    "    pzo = MousePFilt(swarm_size = 200,has_implant = False) # fix\n",
    "    def pzo_wrapper(part,pos,pos_weights,keyp,ikeyp,pzo):\n",
    "        upper_bound,lower_bound = make_some_bounds(part,search_cone_noimp/3,global_max_noimp,global_min_noimp)    \n",
    "\n",
    "        pzo.search_space(upper_bound,lower_bound)\n",
    "        pzo.populate(sobol = True)\n",
    "\n",
    "        pzo.pos = pos\n",
    "        pzo.pos_weights = pos_weights\n",
    "\n",
    "        pzo.keyp = keyp\n",
    "        pzo.ikeyp = ikeyp\n",
    "\n",
    "        pzo.max_iterations = 3\n",
    "\n",
    "        pzo.run2(verbose=False,use_weights = False,barrier = True,fast_sort = True)\n",
    "\n",
    "        return pzo.meanwinner\n"
   ]
  },
  {
   "cell_type": "markdown",
   "metadata": {},
   "source": [
    "# Make a function to dump plots during tracking"
   ]
  },
  {
   "cell_type": "code",
   "execution_count": 28,
   "metadata": {},
   "outputs": [],
   "source": [
    "plt.close('all')\n",
    "\n",
    "from utils.plotting_during_tracking import *\n",
    "\n",
    "def plot_single_frame(part,pos, keyp, ikeyp,frame):\n",
    "    plt.ioff()\n",
    "    plt.close('all')\n",
    "    # the winning mouse is the one, with the lowest final loss\n",
    "    #end_loss = [np.mean(ll[-1:]) for ll in ll_holder]\n",
    "    dist0,_,body_support_0 = particles_to_distance_cuda(part[:,:8],pos,implant = False)\n",
    "    dist1,_,body_support_1 = particles_to_distance_cuda(part[:,8:],pos,implant = False)\n",
    "    body_supports = [body_support_0,body_support_1]\n",
    "    \n",
    "    #best_idx = np.argmin(end_loss)\n",
    "    #best_mouse = best_holder[best_idx]\n",
    "\n",
    "    fig = plt.figure(figsize=(7.5,7.5))\n",
    "\n",
    "    ax = fig.add_subplot(1, 1, 1, projection='3d')\n",
    "    plot_particles_new_nose(ax,part.cpu().numpy(),pos.cpu().numpy(),body_constants,alpha = .5,keyp = keyp.cpu(), ikeyp = ikeyp.cpu(),body_supports = [ [i.cpu() for i in j] for j in body_supports] )\n",
    "    \n",
    "    plt.axis('tight')\n",
    "    \n",
    "    ax.set_xlim(-.10,.20)\n",
    "    ax.set_ylim(-.20,.1)\n",
    "    ax.set_zlim(0,.3)\n",
    "    \n",
    "\n",
    "    ax.view_init(elev=60., azim=-147.)\n",
    "\n",
    "    \n",
    "    plt.savefig('frames/temp/frame_'+str(frame).zfill(6)+'.png')\n",
    "#     plt.show()\n",
    "    \n",
    "    plt.close('all')\n",
    "    \n",
    "# frame = start_frame\n",
    "# plot_single_frame(part,pos, keyp, ikeyp,frame)"
   ]
  },
  {
   "cell_type": "markdown",
   "metadata": {},
   "source": [
    "# And import a bank for online filtering and prediction"
   ]
  },
  {
   "cell_type": "code",
   "execution_count": 29,
   "metadata": {},
   "outputs": [],
   "source": [
    "plt.close('all')\n",
    "\n",
    "from utils.cuda_tracking_utils import rls_bank\n",
    "\n",
    "def ML_predict(bank,i_frame,embedding,tracking_holder,guessing_holder):\n",
    "    # # do the RLS step to predict the next step\n",
    "    if (i_frame > embedding + 2)*True:\n",
    "        x_train = np.flip( tracking_holder[:-1,(i_frame-embedding):i_frame],axis = 1)\n",
    "        y_train = tracking_holder[:-1,i_frame]\n",
    "        d = torch.from_numpy(y_train.copy())\n",
    "        x = torch.from_numpy(x_train.copy())\n",
    "        # make sure the type is right\n",
    "        d = torch.tensor(d,dtype = torch.float32)\n",
    "        x = torch.tensor(x,dtype = torch.float32)\n",
    "\n",
    "        # and send to the holder\n",
    "        bank.adapt(d,x)\n",
    "\n",
    "        # guess the upcoming step!\n",
    "        x_predict = torch.cat((d.unsqueeze(1),x[:,:-1]),1)\n",
    "        \n",
    "        part_guess = bank.predict(x_predict)\n",
    "        if ( i_frame +1 ) < ( guessing_holder.shape[1] - 2 ):\n",
    "            guessing_holder[:-1,i_frame+1] = part_guess[:].numpy()\n",
    "        return bank,part_guess.unsqueeze(0),guessing_holder\n",
    "    else:\n",
    "        return bank,0.,guessing_holder\n",
    "    "
   ]
  },
  {
   "cell_type": "markdown",
   "metadata": {},
   "source": [
    "# Now, run the tracking across all frames and save to disk"
   ]
  },
  {
   "cell_type": "code",
   "execution_count": 30,
   "metadata": {},
   "outputs": [
    {
     "name": "stderr",
     "output_type": "stream",
     "text": [
      "  0%|          | 1/71722 [00:00<2:39:30,  7.49it/s]"
     ]
    },
    {
     "name": "stdout",
     "output_type": "stream",
     "text": [
      "saving tracking at frame 0 of 73122...\n",
      "tracking saved!\n",
      "pickling tracking at frame 0...\n",
      "behavior tracking pickled!\n"
     ]
    },
    {
     "name": "stderr",
     "output_type": "stream",
     "text": [
      "  0%|          | 8/71722 [00:00<2:01:49,  9.81it/s]/home/chrelli/anaconda2/envs/mousepose/lib/python3.6/site-packages/ipykernel_launcher.py:13: UserWarning: To copy construct from a tensor, it is recommended to use sourceTensor.clone().detach() or sourceTensor.clone().detach().requires_grad_(True), rather than torch.tensor(sourceTensor).\n",
      "  del sys.path[0]\n",
      "/home/chrelli/anaconda2/envs/mousepose/lib/python3.6/site-packages/ipykernel_launcher.py:14: UserWarning: To copy construct from a tensor, it is recommended to use sourceTensor.clone().detach() or sourceTensor.clone().detach().requires_grad_(True), rather than torch.tensor(sourceTensor).\n",
      "  \n",
      "  1%|          | 502/71722 [00:47<1:59:14,  9.95it/s]"
     ]
    },
    {
     "name": "stdout",
     "output_type": "stream",
     "text": [
      "saving tracking at frame 500 of 73122...\n",
      "tracking saved!\n",
      "pickling tracking at frame 500...\n",
      "behavior tracking pickled!\n"
     ]
    },
    {
     "name": "stderr",
     "output_type": "stream",
     "text": [
      "  1%|▏         | 1003/71722 [01:34<2:15:34,  8.69it/s]"
     ]
    },
    {
     "name": "stdout",
     "output_type": "stream",
     "text": [
      "saving tracking at frame 1000 of 73122...\n",
      "tracking saved!\n",
      "pickling tracking at frame 1000...\n",
      "behavior tracking pickled!\n"
     ]
    },
    {
     "name": "stderr",
     "output_type": "stream",
     "text": [
      "  2%|▏         | 1501/71722 [02:16<2:03:13,  9.50it/s]"
     ]
    },
    {
     "name": "stdout",
     "output_type": "stream",
     "text": [
      "saving tracking at frame 1500 of 73122...\n",
      "tracking saved!\n",
      "pickling tracking at frame 1500...\n",
      "behavior tracking pickled!\n"
     ]
    },
    {
     "name": "stderr",
     "output_type": "stream",
     "text": [
      "  3%|▎         | 2001/71722 [02:58<1:43:42, 11.21it/s]"
     ]
    },
    {
     "name": "stdout",
     "output_type": "stream",
     "text": [
      "saving tracking at frame 2000 of 73122...\n",
      "tracking saved!\n",
      "pickling tracking at frame 2000...\n",
      "behavior tracking pickled!\n"
     ]
    },
    {
     "name": "stderr",
     "output_type": "stream",
     "text": [
      "  3%|▎         | 2503/71722 [03:40<1:39:37, 11.58it/s]"
     ]
    },
    {
     "name": "stdout",
     "output_type": "stream",
     "text": [
      "saving tracking at frame 2500 of 73122...\n",
      "tracking saved!\n",
      "pickling tracking at frame 2500...\n",
      "behavior tracking pickled!\n"
     ]
    },
    {
     "name": "stderr",
     "output_type": "stream",
     "text": [
      "  4%|▍         | 3001/71722 [04:21<1:44:59, 10.91it/s]"
     ]
    },
    {
     "name": "stdout",
     "output_type": "stream",
     "text": [
      "saving tracking at frame 3000 of 73122...\n",
      "tracking saved!\n",
      "pickling tracking at frame 3000...\n",
      "behavior tracking pickled!\n"
     ]
    },
    {
     "name": "stderr",
     "output_type": "stream",
     "text": [
      "  5%|▍         | 3501/71722 [05:03<1:40:54, 11.27it/s]"
     ]
    },
    {
     "name": "stdout",
     "output_type": "stream",
     "text": [
      "saving tracking at frame 3500 of 73122...\n",
      "tracking saved!\n",
      "pickling tracking at frame 3500...\n",
      "behavior tracking pickled!\n"
     ]
    },
    {
     "name": "stderr",
     "output_type": "stream",
     "text": [
      "  6%|▌         | 4001/71722 [05:45<1:41:21, 11.14it/s]"
     ]
    },
    {
     "name": "stdout",
     "output_type": "stream",
     "text": [
      "saving tracking at frame 4000 of 73122...\n",
      "tracking saved!\n",
      "pickling tracking at frame 4000...\n",
      "behavior tracking pickled!\n"
     ]
    },
    {
     "name": "stderr",
     "output_type": "stream",
     "text": [
      "  6%|▋         | 4501/71722 [06:28<1:41:08, 11.08it/s]"
     ]
    },
    {
     "name": "stdout",
     "output_type": "stream",
     "text": [
      "saving tracking at frame 4500 of 73122...\n",
      "tracking saved!\n",
      "pickling tracking at frame 4500...\n",
      "behavior tracking pickled!\n"
     ]
    },
    {
     "name": "stderr",
     "output_type": "stream",
     "text": [
      "  7%|▋         | 5001/71722 [07:10<1:43:01, 10.79it/s]"
     ]
    },
    {
     "name": "stdout",
     "output_type": "stream",
     "text": [
      "saving tracking at frame 5000 of 73122...\n",
      "tracking saved!\n",
      "pickling tracking at frame 5000...\n",
      "behavior tracking pickled!\n"
     ]
    },
    {
     "name": "stderr",
     "output_type": "stream",
     "text": [
      "  8%|▊         | 5501/71722 [08:01<1:46:32, 10.36it/s]"
     ]
    },
    {
     "name": "stdout",
     "output_type": "stream",
     "text": [
      "saving tracking at frame 5500 of 73122...\n",
      "tracking saved!\n",
      "pickling tracking at frame 5500...\n",
      "behavior tracking pickled!\n"
     ]
    },
    {
     "name": "stderr",
     "output_type": "stream",
     "text": [
      "  8%|▊         | 6002/71722 [08:49<1:47:29, 10.19it/s]"
     ]
    },
    {
     "name": "stdout",
     "output_type": "stream",
     "text": [
      "saving tracking at frame 6000 of 73122...\n",
      "tracking saved!\n",
      "pickling tracking at frame 6000...\n",
      "behavior tracking pickled!\n"
     ]
    },
    {
     "name": "stderr",
     "output_type": "stream",
     "text": [
      "  9%|▉         | 6502/71722 [09:36<1:47:50, 10.08it/s]"
     ]
    },
    {
     "name": "stdout",
     "output_type": "stream",
     "text": [
      "saving tracking at frame 6500 of 73122...\n",
      "tracking saved!\n",
      "pickling tracking at frame 6500...\n",
      "behavior tracking pickled!\n"
     ]
    },
    {
     "name": "stderr",
     "output_type": "stream",
     "text": [
      " 10%|▉         | 7001/71722 [10:20<1:37:57, 11.01it/s]"
     ]
    },
    {
     "name": "stdout",
     "output_type": "stream",
     "text": [
      "saving tracking at frame 7000 of 73122...\n",
      "tracking saved!\n",
      "pickling tracking at frame 7000...\n",
      "behavior tracking pickled!\n"
     ]
    },
    {
     "name": "stderr",
     "output_type": "stream",
     "text": [
      " 10%|█         | 7502/71722 [11:09<1:38:10, 10.90it/s]"
     ]
    },
    {
     "name": "stdout",
     "output_type": "stream",
     "text": [
      "saving tracking at frame 7500 of 73122...\n",
      "tracking saved!\n",
      "pickling tracking at frame 7500...\n",
      "behavior tracking pickled!\n"
     ]
    },
    {
     "name": "stderr",
     "output_type": "stream",
     "text": [
      " 11%|█         | 8002/71722 [11:54<1:37:45, 10.86it/s]"
     ]
    },
    {
     "name": "stdout",
     "output_type": "stream",
     "text": [
      "saving tracking at frame 8000 of 73122...\n",
      "tracking saved!\n",
      "pickling tracking at frame 8000...\n",
      "behavior tracking pickled!\n"
     ]
    },
    {
     "name": "stderr",
     "output_type": "stream",
     "text": [
      " 12%|█▏        | 8502/71722 [12:39<1:34:54, 11.10it/s]"
     ]
    },
    {
     "name": "stdout",
     "output_type": "stream",
     "text": [
      "saving tracking at frame 8500 of 73122...\n",
      "tracking saved!\n",
      "pickling tracking at frame 8500...\n",
      "behavior tracking pickled!\n"
     ]
    },
    {
     "name": "stderr",
     "output_type": "stream",
     "text": [
      " 13%|█▎        | 9001/71722 [13:29<2:02:51,  8.51it/s]"
     ]
    },
    {
     "name": "stdout",
     "output_type": "stream",
     "text": [
      "saving tracking at frame 9000 of 73122...\n",
      "tracking saved!\n",
      "pickling tracking at frame 9000...\n",
      "behavior tracking pickled!\n"
     ]
    },
    {
     "name": "stderr",
     "output_type": "stream",
     "text": [
      " 13%|█▎        | 9503/71722 [14:20<1:30:28, 11.46it/s]"
     ]
    },
    {
     "name": "stdout",
     "output_type": "stream",
     "text": [
      "saving tracking at frame 9500 of 73122...\n",
      "tracking saved!\n",
      "pickling tracking at frame 9500...\n",
      "behavior tracking pickled!\n"
     ]
    },
    {
     "name": "stderr",
     "output_type": "stream",
     "text": [
      " 14%|█▍        | 10002/71722 [15:04<1:37:04, 10.60it/s]"
     ]
    },
    {
     "name": "stdout",
     "output_type": "stream",
     "text": [
      "saving tracking at frame 10000 of 73122...\n",
      "tracking saved!\n",
      "pickling tracking at frame 10000...\n",
      "behavior tracking pickled!\n"
     ]
    },
    {
     "name": "stderr",
     "output_type": "stream",
     "text": [
      " 15%|█▍        | 10502/71722 [15:48<1:38:15, 10.38it/s]"
     ]
    },
    {
     "name": "stdout",
     "output_type": "stream",
     "text": [
      "saving tracking at frame 10500 of 73122...\n",
      "tracking saved!\n",
      "pickling tracking at frame 10500...\n",
      "behavior tracking pickled!\n"
     ]
    },
    {
     "name": "stderr",
     "output_type": "stream",
     "text": [
      " 15%|█▌        | 11001/71722 [16:31<1:36:37, 10.47it/s]"
     ]
    },
    {
     "name": "stdout",
     "output_type": "stream",
     "text": [
      "saving tracking at frame 11000 of 73122...\n",
      "tracking saved!\n",
      "pickling tracking at frame 11000...\n",
      "behavior tracking pickled!\n"
     ]
    },
    {
     "name": "stderr",
     "output_type": "stream",
     "text": [
      " 16%|█▌        | 11501/71722 [17:15<1:29:19, 11.24it/s]"
     ]
    },
    {
     "name": "stdout",
     "output_type": "stream",
     "text": [
      "saving tracking at frame 11500 of 73122...\n",
      "tracking saved!\n",
      "pickling tracking at frame 11500...\n",
      "behavior tracking pickled!\n"
     ]
    },
    {
     "name": "stderr",
     "output_type": "stream",
     "text": [
      " 17%|█▋        | 12001/71722 [17:58<1:30:37, 10.98it/s]"
     ]
    },
    {
     "name": "stdout",
     "output_type": "stream",
     "text": [
      "saving tracking at frame 12000 of 73122...\n",
      "tracking saved!\n",
      "pickling tracking at frame 12000...\n",
      "behavior tracking pickled!\n"
     ]
    },
    {
     "name": "stderr",
     "output_type": "stream",
     "text": [
      " 17%|█▋        | 12502/71722 [18:43<1:35:12, 10.37it/s]"
     ]
    },
    {
     "name": "stdout",
     "output_type": "stream",
     "text": [
      "saving tracking at frame 12500 of 73122...\n",
      "tracking saved!\n",
      "pickling tracking at frame 12500...\n",
      "behavior tracking pickled!\n"
     ]
    },
    {
     "name": "stderr",
     "output_type": "stream",
     "text": [
      " 18%|█▊        | 13002/71722 [19:28<1:33:52, 10.42it/s]"
     ]
    },
    {
     "name": "stdout",
     "output_type": "stream",
     "text": [
      "saving tracking at frame 13000 of 73122...\n",
      "tracking saved!\n",
      "pickling tracking at frame 13000...\n",
      "behavior tracking pickled!\n"
     ]
    },
    {
     "name": "stderr",
     "output_type": "stream",
     "text": [
      " 19%|█▉        | 13502/71722 [20:18<1:39:49,  9.72it/s]"
     ]
    },
    {
     "name": "stdout",
     "output_type": "stream",
     "text": [
      "saving tracking at frame 13500 of 73122...\n",
      "tracking saved!\n",
      "pickling tracking at frame 13500...\n",
      "behavior tracking pickled!\n"
     ]
    },
    {
     "name": "stderr",
     "output_type": "stream",
     "text": [
      " 20%|█▉        | 14002/71722 [21:07<1:51:24,  8.64it/s]"
     ]
    },
    {
     "name": "stdout",
     "output_type": "stream",
     "text": [
      "saving tracking at frame 14000 of 73122...\n",
      "tracking saved!\n",
      "pickling tracking at frame 14000...\n",
      "behavior tracking pickled!\n"
     ]
    },
    {
     "name": "stderr",
     "output_type": "stream",
     "text": [
      " 20%|██        | 14502/71722 [22:00<1:25:27, 11.16it/s]"
     ]
    },
    {
     "name": "stdout",
     "output_type": "stream",
     "text": [
      "saving tracking at frame 14500 of 73122...\n",
      "tracking saved!\n",
      "pickling tracking at frame 14500...\n",
      "behavior tracking pickled!\n"
     ]
    },
    {
     "name": "stderr",
     "output_type": "stream",
     "text": [
      " 21%|██        | 15002/71722 [22:44<1:26:05, 10.98it/s]"
     ]
    },
    {
     "name": "stdout",
     "output_type": "stream",
     "text": [
      "saving tracking at frame 15000 of 73122...\n",
      "tracking saved!\n",
      "pickling tracking at frame 15000...\n",
      "behavior tracking pickled!\n"
     ]
    },
    {
     "name": "stderr",
     "output_type": "stream",
     "text": [
      " 22%|██▏       | 15502/71722 [23:29<1:27:55, 10.66it/s]"
     ]
    },
    {
     "name": "stdout",
     "output_type": "stream",
     "text": [
      "saving tracking at frame 15500 of 73122...\n",
      "tracking saved!\n",
      "pickling tracking at frame 15500...\n",
      "behavior tracking pickled!\n"
     ]
    },
    {
     "name": "stderr",
     "output_type": "stream",
     "text": [
      " 22%|██▏       | 16002/71722 [24:13<1:24:14, 11.02it/s]"
     ]
    },
    {
     "name": "stdout",
     "output_type": "stream",
     "text": [
      "saving tracking at frame 16000 of 73122...\n",
      "tracking saved!\n",
      "pickling tracking at frame 16000...\n",
      "behavior tracking pickled!\n"
     ]
    },
    {
     "name": "stderr",
     "output_type": "stream",
     "text": [
      " 23%|██▎       | 16502/71722 [24:58<1:41:20,  9.08it/s]"
     ]
    },
    {
     "name": "stdout",
     "output_type": "stream",
     "text": [
      "saving tracking at frame 16500 of 73122...\n",
      "tracking saved!\n",
      "pickling tracking at frame 16500...\n",
      "behavior tracking pickled!\n"
     ]
    },
    {
     "name": "stderr",
     "output_type": "stream",
     "text": [
      " 24%|██▎       | 17001/71722 [25:47<1:24:19, 10.82it/s]"
     ]
    },
    {
     "name": "stdout",
     "output_type": "stream",
     "text": [
      "saving tracking at frame 17000 of 73122...\n",
      "tracking saved!\n",
      "pickling tracking at frame 17000...\n",
      "behavior tracking pickled!\n"
     ]
    },
    {
     "name": "stderr",
     "output_type": "stream",
     "text": [
      " 24%|██▍       | 17502/71722 [26:31<1:39:36,  9.07it/s]"
     ]
    },
    {
     "name": "stdout",
     "output_type": "stream",
     "text": [
      "saving tracking at frame 17500 of 73122...\n",
      "tracking saved!\n",
      "pickling tracking at frame 17500...\n",
      "behavior tracking pickled!\n"
     ]
    },
    {
     "name": "stderr",
     "output_type": "stream",
     "text": [
      " 25%|██▌       | 18002/71722 [27:12<1:17:17, 11.58it/s]"
     ]
    },
    {
     "name": "stdout",
     "output_type": "stream",
     "text": [
      "saving tracking at frame 18000 of 73122...\n",
      "tracking saved!\n",
      "pickling tracking at frame 18000...\n",
      "behavior tracking pickled!\n"
     ]
    },
    {
     "name": "stderr",
     "output_type": "stream",
     "text": [
      " 26%|██▌       | 18502/71722 [27:54<1:17:53, 11.39it/s]"
     ]
    },
    {
     "name": "stdout",
     "output_type": "stream",
     "text": [
      "saving tracking at frame 18500 of 73122...\n",
      "tracking saved!\n",
      "pickling tracking at frame 18500...\n",
      "behavior tracking pickled!\n"
     ]
    },
    {
     "name": "stderr",
     "output_type": "stream",
     "text": [
      " 26%|██▋       | 19002/71722 [28:35<1:15:51, 11.58it/s]"
     ]
    },
    {
     "name": "stdout",
     "output_type": "stream",
     "text": [
      "saving tracking at frame 19000 of 73122...\n",
      "tracking saved!\n",
      "pickling tracking at frame 19000...\n",
      "behavior tracking pickled!\n"
     ]
    },
    {
     "name": "stderr",
     "output_type": "stream",
     "text": [
      " 27%|██▋       | 19502/71722 [29:17<1:16:31, 11.37it/s]"
     ]
    },
    {
     "name": "stdout",
     "output_type": "stream",
     "text": [
      "saving tracking at frame 19500 of 73122...\n",
      "tracking saved!\n",
      "pickling tracking at frame 19500...\n",
      "behavior tracking pickled!\n"
     ]
    },
    {
     "name": "stderr",
     "output_type": "stream",
     "text": [
      " 28%|██▊       | 20002/71722 [29:59<1:16:46, 11.23it/s]"
     ]
    },
    {
     "name": "stdout",
     "output_type": "stream",
     "text": [
      "saving tracking at frame 20000 of 73122...\n",
      "tracking saved!\n",
      "pickling tracking at frame 20000...\n",
      "behavior tracking pickled!\n"
     ]
    },
    {
     "name": "stderr",
     "output_type": "stream",
     "text": [
      " 29%|██▊       | 20502/71722 [30:42<1:18:51, 10.82it/s]"
     ]
    },
    {
     "name": "stdout",
     "output_type": "stream",
     "text": [
      "saving tracking at frame 20500 of 73122...\n",
      "tracking saved!\n",
      "pickling tracking at frame 20500...\n",
      "behavior tracking pickled!\n"
     ]
    },
    {
     "name": "stderr",
     "output_type": "stream",
     "text": [
      " 29%|██▉       | 21002/71722 [31:24<1:13:44, 11.46it/s]"
     ]
    },
    {
     "name": "stdout",
     "output_type": "stream",
     "text": [
      "saving tracking at frame 21000 of 73122...\n",
      "tracking saved!\n",
      "pickling tracking at frame 21000...\n",
      "behavior tracking pickled!\n"
     ]
    },
    {
     "name": "stderr",
     "output_type": "stream",
     "text": [
      " 30%|██▉       | 21502/71722 [32:05<1:11:51, 11.65it/s]"
     ]
    },
    {
     "name": "stdout",
     "output_type": "stream",
     "text": [
      "saving tracking at frame 21500 of 73122...\n",
      "tracking saved!\n",
      "pickling tracking at frame 21500...\n",
      "behavior tracking pickled!\n"
     ]
    },
    {
     "name": "stderr",
     "output_type": "stream",
     "text": [
      " 31%|███       | 22002/71722 [32:47<1:16:21, 10.85it/s]"
     ]
    },
    {
     "name": "stdout",
     "output_type": "stream",
     "text": [
      "saving tracking at frame 22000 of 73122...\n",
      "tracking saved!\n",
      "pickling tracking at frame 22000...\n",
      "behavior tracking pickled!\n"
     ]
    },
    {
     "name": "stderr",
     "output_type": "stream",
     "text": [
      " 31%|███▏      | 22502/71722 [33:29<1:10:38, 11.61it/s]"
     ]
    },
    {
     "name": "stdout",
     "output_type": "stream",
     "text": [
      "saving tracking at frame 22500 of 73122...\n",
      "tracking saved!\n",
      "pickling tracking at frame 22500...\n",
      "behavior tracking pickled!\n"
     ]
    },
    {
     "name": "stderr",
     "output_type": "stream",
     "text": [
      " 32%|███▏      | 23002/71722 [34:10<1:12:45, 11.16it/s]"
     ]
    },
    {
     "name": "stdout",
     "output_type": "stream",
     "text": [
      "saving tracking at frame 23000 of 73122...\n",
      "tracking saved!\n",
      "pickling tracking at frame 23000...\n",
      "behavior tracking pickled!\n"
     ]
    },
    {
     "name": "stderr",
     "output_type": "stream",
     "text": [
      " 33%|███▎      | 23502/71722 [34:52<1:11:34, 11.23it/s]"
     ]
    },
    {
     "name": "stdout",
     "output_type": "stream",
     "text": [
      "saving tracking at frame 23500 of 73122...\n",
      "tracking saved!\n",
      "pickling tracking at frame 23500...\n",
      "behavior tracking pickled!\n"
     ]
    },
    {
     "name": "stderr",
     "output_type": "stream",
     "text": [
      " 33%|███▎      | 24002/71722 [35:34<1:10:03, 11.35it/s]"
     ]
    },
    {
     "name": "stdout",
     "output_type": "stream",
     "text": [
      "saving tracking at frame 24000 of 73122...\n",
      "tracking saved!\n",
      "pickling tracking at frame 24000...\n",
      "behavior tracking pickled!\n"
     ]
    },
    {
     "name": "stderr",
     "output_type": "stream",
     "text": [
      " 34%|███▍      | 24502/71722 [36:16<1:07:39, 11.63it/s]"
     ]
    },
    {
     "name": "stdout",
     "output_type": "stream",
     "text": [
      "saving tracking at frame 24500 of 73122...\n",
      "tracking saved!\n",
      "pickling tracking at frame 24500...\n",
      "behavior tracking pickled!\n"
     ]
    },
    {
     "name": "stderr",
     "output_type": "stream",
     "text": [
      " 35%|███▍      | 25002/71722 [36:59<1:08:40, 11.34it/s]"
     ]
    },
    {
     "name": "stdout",
     "output_type": "stream",
     "text": [
      "saving tracking at frame 25000 of 73122...\n",
      "tracking saved!\n",
      "pickling tracking at frame 25000...\n",
      "behavior tracking pickled!\n"
     ]
    },
    {
     "name": "stderr",
     "output_type": "stream",
     "text": [
      " 36%|███▌      | 25502/71722 [37:40<1:07:01, 11.49it/s]"
     ]
    },
    {
     "name": "stdout",
     "output_type": "stream",
     "text": [
      "saving tracking at frame 25500 of 73122...\n",
      "tracking saved!\n",
      "pickling tracking at frame 25500...\n",
      "behavior tracking pickled!\n"
     ]
    },
    {
     "name": "stderr",
     "output_type": "stream",
     "text": [
      " 36%|███▋      | 26002/71722 [38:22<1:08:13, 11.17it/s]"
     ]
    },
    {
     "name": "stdout",
     "output_type": "stream",
     "text": [
      "saving tracking at frame 26000 of 73122...\n",
      "tracking saved!\n",
      "pickling tracking at frame 26000...\n",
      "behavior tracking pickled!\n"
     ]
    },
    {
     "name": "stderr",
     "output_type": "stream",
     "text": [
      " 37%|███▋      | 26502/71722 [39:04<1:06:17, 11.37it/s]"
     ]
    },
    {
     "name": "stdout",
     "output_type": "stream",
     "text": [
      "saving tracking at frame 26500 of 73122...\n",
      "tracking saved!\n",
      "pickling tracking at frame 26500...\n",
      "behavior tracking pickled!\n"
     ]
    },
    {
     "name": "stderr",
     "output_type": "stream",
     "text": [
      " 38%|███▊      | 27002/71722 [39:47<1:11:18, 10.45it/s]"
     ]
    },
    {
     "name": "stdout",
     "output_type": "stream",
     "text": [
      "saving tracking at frame 27000 of 73122...\n",
      "tracking saved!\n",
      "pickling tracking at frame 27000...\n",
      "behavior tracking pickled!\n"
     ]
    },
    {
     "name": "stderr",
     "output_type": "stream",
     "text": [
      " 38%|███▊      | 27502/71722 [40:30<1:06:29, 11.09it/s]"
     ]
    },
    {
     "name": "stdout",
     "output_type": "stream",
     "text": [
      "saving tracking at frame 27500 of 73122...\n",
      "tracking saved!\n",
      "pickling tracking at frame 27500...\n",
      "behavior tracking pickled!\n"
     ]
    },
    {
     "name": "stderr",
     "output_type": "stream",
     "text": [
      " 39%|███▉      | 28002/71722 [41:12<1:03:58, 11.39it/s]"
     ]
    },
    {
     "name": "stdout",
     "output_type": "stream",
     "text": [
      "saving tracking at frame 28000 of 73122...\n",
      "tracking saved!\n",
      "pickling tracking at frame 28000...\n",
      "behavior tracking pickled!\n"
     ]
    },
    {
     "name": "stderr",
     "output_type": "stream",
     "text": [
      " 40%|███▉      | 28502/71722 [41:54<1:03:57, 11.26it/s]"
     ]
    },
    {
     "name": "stdout",
     "output_type": "stream",
     "text": [
      "saving tracking at frame 28500 of 73122...\n",
      "tracking saved!\n",
      "pickling tracking at frame 28500...\n",
      "behavior tracking pickled!\n"
     ]
    },
    {
     "name": "stderr",
     "output_type": "stream",
     "text": [
      " 40%|████      | 29002/71722 [42:37<1:03:02, 11.29it/s]"
     ]
    },
    {
     "name": "stdout",
     "output_type": "stream",
     "text": [
      "saving tracking at frame 29000 of 73122...\n",
      "tracking saved!\n",
      "pickling tracking at frame 29000...\n",
      "behavior tracking pickled!\n"
     ]
    },
    {
     "name": "stderr",
     "output_type": "stream",
     "text": [
      " 41%|████      | 29502/71722 [43:19<1:02:25, 11.27it/s]"
     ]
    },
    {
     "name": "stdout",
     "output_type": "stream",
     "text": [
      "saving tracking at frame 29500 of 73122...\n",
      "tracking saved!\n",
      "pickling tracking at frame 29500...\n",
      "behavior tracking pickled!\n"
     ]
    },
    {
     "name": "stderr",
     "output_type": "stream",
     "text": [
      " 42%|████▏     | 30002/71722 [44:01<1:01:22, 11.33it/s]"
     ]
    },
    {
     "name": "stdout",
     "output_type": "stream",
     "text": [
      "saving tracking at frame 30000 of 73122...\n",
      "tracking saved!\n",
      "pickling tracking at frame 30000...\n",
      "behavior tracking pickled!\n"
     ]
    },
    {
     "name": "stderr",
     "output_type": "stream",
     "text": [
      " 43%|████▎     | 30502/71722 [44:44<1:00:02, 11.44it/s]"
     ]
    },
    {
     "name": "stdout",
     "output_type": "stream",
     "text": [
      "saving tracking at frame 30500 of 73122...\n",
      "tracking saved!\n",
      "pickling tracking at frame 30500...\n",
      "behavior tracking pickled!\n"
     ]
    },
    {
     "name": "stderr",
     "output_type": "stream",
     "text": [
      " 43%|████▎     | 31002/71722 [45:26<59:19, 11.44it/s]  "
     ]
    },
    {
     "name": "stdout",
     "output_type": "stream",
     "text": [
      "saving tracking at frame 31000 of 73122...\n",
      "tracking saved!\n",
      "pickling tracking at frame 31000...\n",
      "behavior tracking pickled!\n"
     ]
    },
    {
     "name": "stderr",
     "output_type": "stream",
     "text": [
      " 44%|████▍     | 31502/71722 [46:08<58:23, 11.48it/s]  "
     ]
    },
    {
     "name": "stdout",
     "output_type": "stream",
     "text": [
      "saving tracking at frame 31500 of 73122...\n",
      "tracking saved!\n",
      "pickling tracking at frame 31500...\n",
      "behavior tracking pickled!\n"
     ]
    },
    {
     "name": "stderr",
     "output_type": "stream",
     "text": [
      " 45%|████▍     | 32002/71722 [46:51<1:01:18, 10.80it/s]"
     ]
    },
    {
     "name": "stdout",
     "output_type": "stream",
     "text": [
      "saving tracking at frame 32000 of 73122...\n",
      "tracking saved!\n",
      "pickling tracking at frame 32000...\n",
      "behavior tracking pickled!\n"
     ]
    },
    {
     "name": "stderr",
     "output_type": "stream",
     "text": [
      " 45%|████▌     | 32502/71722 [47:35<1:00:02, 10.89it/s]"
     ]
    },
    {
     "name": "stdout",
     "output_type": "stream",
     "text": [
      "saving tracking at frame 32500 of 73122...\n",
      "tracking saved!\n",
      "pickling tracking at frame 32500...\n",
      "behavior tracking pickled!\n"
     ]
    },
    {
     "name": "stderr",
     "output_type": "stream",
     "text": [
      " 46%|████▌     | 33002/71722 [48:17<57:45, 11.17it/s]  "
     ]
    },
    {
     "name": "stdout",
     "output_type": "stream",
     "text": [
      "saving tracking at frame 33000 of 73122...\n",
      "tracking saved!\n",
      "pickling tracking at frame 33000...\n",
      "behavior tracking pickled!\n"
     ]
    },
    {
     "name": "stderr",
     "output_type": "stream",
     "text": [
      " 47%|████▋     | 33502/71722 [49:00<1:13:34,  8.66it/s]"
     ]
    },
    {
     "name": "stdout",
     "output_type": "stream",
     "text": [
      "saving tracking at frame 33500 of 73122...\n",
      "tracking saved!\n",
      "pickling tracking at frame 33500...\n",
      "behavior tracking pickled!\n"
     ]
    },
    {
     "name": "stderr",
     "output_type": "stream",
     "text": [
      " 47%|████▋     | 34003/71722 [49:42<54:05, 11.62it/s]  "
     ]
    },
    {
     "name": "stdout",
     "output_type": "stream",
     "text": [
      "saving tracking at frame 34000 of 73122...\n",
      "tracking saved!\n",
      "pickling tracking at frame 34000...\n",
      "behavior tracking pickled!\n"
     ]
    },
    {
     "name": "stderr",
     "output_type": "stream",
     "text": [
      " 48%|████▊     | 34501/71722 [50:24<57:00, 10.88it/s]"
     ]
    },
    {
     "name": "stdout",
     "output_type": "stream",
     "text": [
      "saving tracking at frame 34500 of 73122...\n",
      "tracking saved!\n",
      "pickling tracking at frame 34500...\n",
      "behavior tracking pickled!\n"
     ]
    },
    {
     "name": "stderr",
     "output_type": "stream",
     "text": [
      " 49%|████▉     | 35003/71722 [51:07<52:48, 11.59it/s]"
     ]
    },
    {
     "name": "stdout",
     "output_type": "stream",
     "text": [
      "saving tracking at frame 35000 of 73122...\n",
      "tracking saved!\n",
      "pickling tracking at frame 35000...\n",
      "behavior tracking pickled!\n"
     ]
    },
    {
     "name": "stderr",
     "output_type": "stream",
     "text": [
      " 49%|████▉     | 35501/71722 [51:49<53:45, 11.23it/s]"
     ]
    },
    {
     "name": "stdout",
     "output_type": "stream",
     "text": [
      "saving tracking at frame 35500 of 73122...\n",
      "tracking saved!\n",
      "pickling tracking at frame 35500...\n",
      "behavior tracking pickled!\n"
     ]
    },
    {
     "name": "stderr",
     "output_type": "stream",
     "text": [
      " 50%|█████     | 36001/71722 [52:31<52:55, 11.25it/s]"
     ]
    },
    {
     "name": "stdout",
     "output_type": "stream",
     "text": [
      "saving tracking at frame 36000 of 73122...\n",
      "tracking saved!\n",
      "pickling tracking at frame 36000...\n",
      "behavior tracking pickled!\n"
     ]
    },
    {
     "name": "stderr",
     "output_type": "stream",
     "text": [
      " 51%|█████     | 36503/71722 [53:14<51:43, 11.35it/s]"
     ]
    },
    {
     "name": "stdout",
     "output_type": "stream",
     "text": [
      "saving tracking at frame 36500 of 73122...\n",
      "tracking saved!\n",
      "pickling tracking at frame 36500...\n",
      "behavior tracking pickled!\n"
     ]
    },
    {
     "name": "stderr",
     "output_type": "stream",
     "text": [
      " 52%|█████▏    | 37001/71722 [53:57<53:25, 10.83it/s]"
     ]
    },
    {
     "name": "stdout",
     "output_type": "stream",
     "text": [
      "saving tracking at frame 37000 of 73122...\n",
      "tracking saved!\n",
      "pickling tracking at frame 37000...\n",
      "behavior tracking pickled!\n"
     ]
    },
    {
     "name": "stderr",
     "output_type": "stream",
     "text": [
      " 52%|█████▏    | 37501/71722 [54:39<53:52, 10.59it/s]"
     ]
    },
    {
     "name": "stdout",
     "output_type": "stream",
     "text": [
      "saving tracking at frame 37500 of 73122...\n",
      "tracking saved!\n",
      "pickling tracking at frame 37500...\n",
      "behavior tracking pickled!\n"
     ]
    },
    {
     "name": "stderr",
     "output_type": "stream",
     "text": [
      " 53%|█████▎    | 38001/71722 [55:21<52:29, 10.71it/s]"
     ]
    },
    {
     "name": "stdout",
     "output_type": "stream",
     "text": [
      "saving tracking at frame 38000 of 73122...\n",
      "tracking saved!\n",
      "pickling tracking at frame 38000...\n",
      "behavior tracking pickled!\n"
     ]
    },
    {
     "name": "stderr",
     "output_type": "stream",
     "text": [
      " 54%|█████▎    | 38501/71722 [56:04<50:30, 10.96it/s]"
     ]
    },
    {
     "name": "stdout",
     "output_type": "stream",
     "text": [
      "saving tracking at frame 38500 of 73122...\n",
      "tracking saved!\n",
      "pickling tracking at frame 38500...\n",
      "behavior tracking pickled!\n"
     ]
    },
    {
     "name": "stderr",
     "output_type": "stream",
     "text": [
      " 54%|█████▍    | 39003/71722 [56:47<48:43, 11.19it/s]"
     ]
    },
    {
     "name": "stdout",
     "output_type": "stream",
     "text": [
      "saving tracking at frame 39000 of 73122...\n",
      "tracking saved!\n",
      "pickling tracking at frame 39000...\n",
      "behavior tracking pickled!\n"
     ]
    },
    {
     "name": "stderr",
     "output_type": "stream",
     "text": [
      " 55%|█████▌    | 39501/71722 [57:29<47:35, 11.28it/s]"
     ]
    },
    {
     "name": "stdout",
     "output_type": "stream",
     "text": [
      "saving tracking at frame 39500 of 73122...\n",
      "tracking saved!\n",
      "pickling tracking at frame 39500...\n",
      "behavior tracking pickled!\n"
     ]
    },
    {
     "name": "stderr",
     "output_type": "stream",
     "text": [
      " 56%|█████▌    | 40001/71722 [58:11<46:52, 11.28it/s]"
     ]
    },
    {
     "name": "stdout",
     "output_type": "stream",
     "text": [
      "saving tracking at frame 40000 of 73122...\n",
      "tracking saved!\n",
      "pickling tracking at frame 40000...\n",
      "behavior tracking pickled!\n"
     ]
    },
    {
     "name": "stderr",
     "output_type": "stream",
     "text": [
      " 56%|█████▋    | 40503/71722 [58:53<44:32, 11.68it/s]"
     ]
    },
    {
     "name": "stdout",
     "output_type": "stream",
     "text": [
      "saving tracking at frame 40500 of 73122...\n",
      "tracking saved!\n",
      "pickling tracking at frame 40500...\n",
      "behavior tracking pickled!\n"
     ]
    },
    {
     "name": "stderr",
     "output_type": "stream",
     "text": [
      " 57%|█████▋    | 41003/71722 [59:36<43:59, 11.64it/s]"
     ]
    },
    {
     "name": "stdout",
     "output_type": "stream",
     "text": [
      "saving tracking at frame 41000 of 73122...\n",
      "tracking saved!\n",
      "pickling tracking at frame 41000...\n",
      "behavior tracking pickled!\n"
     ]
    },
    {
     "name": "stderr",
     "output_type": "stream",
     "text": [
      " 58%|█████▊    | 41503/71722 [1:00:18<44:33, 11.30it/s]"
     ]
    },
    {
     "name": "stdout",
     "output_type": "stream",
     "text": [
      "saving tracking at frame 41500 of 73122...\n",
      "tracking saved!\n",
      "pickling tracking at frame 41500...\n",
      "behavior tracking pickled!\n"
     ]
    },
    {
     "name": "stderr",
     "output_type": "stream",
     "text": [
      " 59%|█████▊    | 42001/71722 [1:01:00<45:16, 10.94it/s]"
     ]
    },
    {
     "name": "stdout",
     "output_type": "stream",
     "text": [
      "saving tracking at frame 42000 of 73122...\n",
      "tracking saved!\n",
      "pickling tracking at frame 42000...\n",
      "behavior tracking pickled!\n"
     ]
    },
    {
     "name": "stderr",
     "output_type": "stream",
     "text": [
      " 59%|█████▉    | 42502/71722 [1:01:43<44:03, 11.05it/s]"
     ]
    },
    {
     "name": "stdout",
     "output_type": "stream",
     "text": [
      "saving tracking at frame 42500 of 73122...\n",
      "tracking saved!\n",
      "pickling tracking at frame 42500...\n",
      "behavior tracking pickled!\n"
     ]
    },
    {
     "name": "stderr",
     "output_type": "stream",
     "text": [
      " 60%|█████▉    | 43002/71722 [1:02:26<41:55, 11.42it/s]"
     ]
    },
    {
     "name": "stdout",
     "output_type": "stream",
     "text": [
      "saving tracking at frame 43000 of 73122...\n",
      "tracking saved!\n",
      "pickling tracking at frame 43000...\n",
      "behavior tracking pickled!\n"
     ]
    },
    {
     "name": "stderr",
     "output_type": "stream",
     "text": [
      " 61%|██████    | 43502/71722 [1:03:07<41:45, 11.26it/s]"
     ]
    },
    {
     "name": "stdout",
     "output_type": "stream",
     "text": [
      "saving tracking at frame 43500 of 73122...\n",
      "tracking saved!\n",
      "pickling tracking at frame 43500...\n",
      "behavior tracking pickled!\n"
     ]
    },
    {
     "name": "stderr",
     "output_type": "stream",
     "text": [
      " 61%|██████▏   | 44002/71722 [1:03:49<42:06, 10.97it/s]"
     ]
    },
    {
     "name": "stdout",
     "output_type": "stream",
     "text": [
      "saving tracking at frame 44000 of 73122...\n",
      "tracking saved!\n",
      "pickling tracking at frame 44000...\n",
      "behavior tracking pickled!\n"
     ]
    },
    {
     "name": "stderr",
     "output_type": "stream",
     "text": [
      " 62%|██████▏   | 44502/71722 [1:04:30<41:01, 11.06it/s]"
     ]
    },
    {
     "name": "stdout",
     "output_type": "stream",
     "text": [
      "saving tracking at frame 44500 of 73122...\n",
      "tracking saved!\n",
      "pickling tracking at frame 44500...\n",
      "behavior tracking pickled!\n"
     ]
    },
    {
     "name": "stderr",
     "output_type": "stream",
     "text": [
      " 63%|██████▎   | 45002/71722 [1:05:11<38:08, 11.67it/s]"
     ]
    },
    {
     "name": "stdout",
     "output_type": "stream",
     "text": [
      "saving tracking at frame 45000 of 73122...\n",
      "tracking saved!\n",
      "pickling tracking at frame 45000...\n",
      "behavior tracking pickled!\n"
     ]
    },
    {
     "name": "stderr",
     "output_type": "stream",
     "text": [
      " 63%|██████▎   | 45502/71722 [1:05:53<38:34, 11.33it/s]"
     ]
    },
    {
     "name": "stdout",
     "output_type": "stream",
     "text": [
      "saving tracking at frame 45500 of 73122...\n",
      "tracking saved!\n",
      "pickling tracking at frame 45500...\n",
      "behavior tracking pickled!\n"
     ]
    },
    {
     "name": "stderr",
     "output_type": "stream",
     "text": [
      " 64%|██████▍   | 46002/71722 [1:06:35<38:07, 11.24it/s]"
     ]
    },
    {
     "name": "stdout",
     "output_type": "stream",
     "text": [
      "saving tracking at frame 46000 of 73122...\n",
      "tracking saved!\n",
      "pickling tracking at frame 46000...\n",
      "behavior tracking pickled!\n"
     ]
    },
    {
     "name": "stderr",
     "output_type": "stream",
     "text": [
      " 65%|██████▍   | 46502/71722 [1:07:18<37:46, 11.13it/s]"
     ]
    },
    {
     "name": "stdout",
     "output_type": "stream",
     "text": [
      "saving tracking at frame 46500 of 73122...\n",
      "tracking saved!\n",
      "pickling tracking at frame 46500...\n",
      "behavior tracking pickled!\n"
     ]
    },
    {
     "name": "stderr",
     "output_type": "stream",
     "text": [
      " 66%|██████▌   | 47002/71722 [1:07:59<36:24, 11.31it/s]"
     ]
    },
    {
     "name": "stdout",
     "output_type": "stream",
     "text": [
      "saving tracking at frame 47000 of 73122...\n",
      "tracking saved!\n",
      "pickling tracking at frame 47000...\n",
      "behavior tracking pickled!\n"
     ]
    },
    {
     "name": "stderr",
     "output_type": "stream",
     "text": [
      " 66%|██████▌   | 47502/71722 [1:08:42<36:16, 11.13it/s]"
     ]
    },
    {
     "name": "stdout",
     "output_type": "stream",
     "text": [
      "saving tracking at frame 47500 of 73122...\n",
      "tracking saved!\n",
      "pickling tracking at frame 47500...\n",
      "behavior tracking pickled!\n"
     ]
    },
    {
     "name": "stderr",
     "output_type": "stream",
     "text": [
      " 67%|██████▋   | 48002/71722 [1:09:25<35:08, 11.25it/s]"
     ]
    },
    {
     "name": "stdout",
     "output_type": "stream",
     "text": [
      "saving tracking at frame 48000 of 73122...\n",
      "tracking saved!\n",
      "pickling tracking at frame 48000...\n",
      "behavior tracking pickled!\n"
     ]
    },
    {
     "name": "stderr",
     "output_type": "stream",
     "text": [
      " 68%|██████▊   | 48502/71722 [1:10:08<35:56, 10.77it/s]"
     ]
    },
    {
     "name": "stdout",
     "output_type": "stream",
     "text": [
      "saving tracking at frame 48500 of 73122...\n",
      "tracking saved!\n",
      "pickling tracking at frame 48500...\n",
      "behavior tracking pickled!\n"
     ]
    },
    {
     "name": "stderr",
     "output_type": "stream",
     "text": [
      " 68%|██████▊   | 49002/71722 [1:10:50<32:46, 11.55it/s]"
     ]
    },
    {
     "name": "stdout",
     "output_type": "stream",
     "text": [
      "saving tracking at frame 49000 of 73122...\n",
      "tracking saved!\n",
      "pickling tracking at frame 49000...\n",
      "behavior tracking pickled!\n"
     ]
    },
    {
     "name": "stderr",
     "output_type": "stream",
     "text": [
      " 69%|██████▉   | 49502/71722 [1:11:32<32:31, 11.39it/s]"
     ]
    },
    {
     "name": "stdout",
     "output_type": "stream",
     "text": [
      "saving tracking at frame 49500 of 73122...\n",
      "tracking saved!\n",
      "pickling tracking at frame 49500...\n",
      "behavior tracking pickled!\n"
     ]
    },
    {
     "name": "stderr",
     "output_type": "stream",
     "text": [
      " 70%|██████▉   | 50002/71722 [1:12:26<54:22,  6.66it/s]"
     ]
    },
    {
     "name": "stdout",
     "output_type": "stream",
     "text": [
      "saving tracking at frame 50000 of 73122...\n",
      "tracking saved!\n",
      "pickling tracking at frame 50000...\n",
      "behavior tracking pickled!\n"
     ]
    },
    {
     "name": "stderr",
     "output_type": "stream",
     "text": [
      " 70%|███████   | 50502/71722 [1:13:36<51:12,  6.91it/s]"
     ]
    },
    {
     "name": "stdout",
     "output_type": "stream",
     "text": [
      "saving tracking at frame 50500 of 73122...\n",
      "tracking saved!\n",
      "pickling tracking at frame 50500...\n",
      "behavior tracking pickled!\n"
     ]
    },
    {
     "name": "stderr",
     "output_type": "stream",
     "text": [
      " 71%|███████   | 51002/71722 [1:14:45<47:52,  7.21it/s]"
     ]
    },
    {
     "name": "stdout",
     "output_type": "stream",
     "text": [
      "saving tracking at frame 51000 of 73122...\n",
      "tracking saved!\n",
      "pickling tracking at frame 51000...\n",
      "behavior tracking pickled!\n"
     ]
    },
    {
     "name": "stderr",
     "output_type": "stream",
     "text": [
      " 72%|███████▏  | 51502/71722 [1:15:53<54:19,  6.20it/s]"
     ]
    },
    {
     "name": "stdout",
     "output_type": "stream",
     "text": [
      "saving tracking at frame 51500 of 73122...\n",
      "tracking saved!\n",
      "pickling tracking at frame 51500...\n",
      "behavior tracking pickled!\n"
     ]
    },
    {
     "name": "stderr",
     "output_type": "stream",
     "text": [
      " 73%|███████▎  | 52002/71722 [1:17:02<46:33,  7.06it/s]"
     ]
    },
    {
     "name": "stdout",
     "output_type": "stream",
     "text": [
      "saving tracking at frame 52000 of 73122...\n",
      "tracking saved!\n",
      "pickling tracking at frame 52000...\n",
      "behavior tracking pickled!\n"
     ]
    },
    {
     "name": "stderr",
     "output_type": "stream",
     "text": [
      " 73%|███████▎  | 52502/71722 [1:18:10<51:30,  6.22it/s]"
     ]
    },
    {
     "name": "stdout",
     "output_type": "stream",
     "text": [
      "saving tracking at frame 52500 of 73122...\n",
      "tracking saved!\n",
      "pickling tracking at frame 52500...\n",
      "behavior tracking pickled!\n"
     ]
    },
    {
     "name": "stderr",
     "output_type": "stream",
     "text": [
      " 74%|███████▍  | 53002/71722 [1:19:19<43:40,  7.14it/s]"
     ]
    },
    {
     "name": "stdout",
     "output_type": "stream",
     "text": [
      "saving tracking at frame 53000 of 73122...\n",
      "tracking saved!\n",
      "pickling tracking at frame 53000...\n",
      "behavior tracking pickled!\n"
     ]
    },
    {
     "name": "stderr",
     "output_type": "stream",
     "text": [
      " 75%|███████▍  | 53502/71722 [1:20:28<43:28,  6.98it/s]"
     ]
    },
    {
     "name": "stdout",
     "output_type": "stream",
     "text": [
      "saving tracking at frame 53500 of 73122...\n",
      "tracking saved!\n",
      "pickling tracking at frame 53500...\n",
      "behavior tracking pickled!\n"
     ]
    },
    {
     "name": "stderr",
     "output_type": "stream",
     "text": [
      " 75%|███████▌  | 54002/71722 [1:21:37<42:45,  6.91it/s]"
     ]
    },
    {
     "name": "stdout",
     "output_type": "stream",
     "text": [
      "saving tracking at frame 54000 of 73122...\n",
      "tracking saved!\n",
      "pickling tracking at frame 54000...\n",
      "behavior tracking pickled!\n"
     ]
    },
    {
     "name": "stderr",
     "output_type": "stream",
     "text": [
      " 76%|███████▌  | 54501/71722 [1:22:26<26:27, 10.85it/s]"
     ]
    },
    {
     "name": "stdout",
     "output_type": "stream",
     "text": [
      "saving tracking at frame 54500 of 73122...\n",
      "tracking saved!\n",
      "pickling tracking at frame 54500...\n",
      "behavior tracking pickled!\n"
     ]
    },
    {
     "name": "stderr",
     "output_type": "stream",
     "text": [
      " 77%|███████▋  | 55001/71722 [1:23:08<26:24, 10.56it/s]"
     ]
    },
    {
     "name": "stdout",
     "output_type": "stream",
     "text": [
      "saving tracking at frame 55000 of 73122...\n",
      "tracking saved!\n",
      "pickling tracking at frame 55000...\n",
      "behavior tracking pickled!\n"
     ]
    },
    {
     "name": "stderr",
     "output_type": "stream",
     "text": [
      " 77%|███████▋  | 55501/71722 [1:23:51<24:14, 11.15it/s]"
     ]
    },
    {
     "name": "stdout",
     "output_type": "stream",
     "text": [
      "saving tracking at frame 55500 of 73122...\n",
      "tracking saved!\n",
      "pickling tracking at frame 55500...\n",
      "behavior tracking pickled!\n"
     ]
    },
    {
     "name": "stderr",
     "output_type": "stream",
     "text": [
      " 78%|███████▊  | 56001/71722 [1:24:33<24:24, 10.73it/s]"
     ]
    },
    {
     "name": "stdout",
     "output_type": "stream",
     "text": [
      "saving tracking at frame 56000 of 73122...\n",
      "tracking saved!\n",
      "pickling tracking at frame 56000...\n",
      "behavior tracking pickled!\n"
     ]
    },
    {
     "name": "stderr",
     "output_type": "stream",
     "text": [
      " 79%|███████▉  | 56501/71722 [1:25:16<23:00, 11.03it/s]"
     ]
    },
    {
     "name": "stdout",
     "output_type": "stream",
     "text": [
      "saving tracking at frame 56500 of 73122...\n",
      "tracking saved!\n",
      "pickling tracking at frame 56500...\n",
      "behavior tracking pickled!\n"
     ]
    },
    {
     "name": "stderr",
     "output_type": "stream",
     "text": [
      " 79%|███████▉  | 57001/71722 [1:25:58<22:08, 11.08it/s]"
     ]
    },
    {
     "name": "stdout",
     "output_type": "stream",
     "text": [
      "saving tracking at frame 57000 of 73122...\n",
      "tracking saved!\n",
      "pickling tracking at frame 57000...\n",
      "behavior tracking pickled!\n"
     ]
    },
    {
     "name": "stderr",
     "output_type": "stream",
     "text": [
      " 80%|████████  | 57503/71722 [1:26:41<20:55, 11.33it/s]"
     ]
    },
    {
     "name": "stdout",
     "output_type": "stream",
     "text": [
      "saving tracking at frame 57500 of 73122...\n",
      "tracking saved!\n",
      "pickling tracking at frame 57500...\n",
      "behavior tracking pickled!\n"
     ]
    },
    {
     "name": "stderr",
     "output_type": "stream",
     "text": [
      " 81%|████████  | 58001/71722 [1:27:24<20:46, 11.01it/s]"
     ]
    },
    {
     "name": "stdout",
     "output_type": "stream",
     "text": [
      "saving tracking at frame 58000 of 73122...\n",
      "tracking saved!\n",
      "pickling tracking at frame 58000...\n",
      "behavior tracking pickled!\n"
     ]
    },
    {
     "name": "stderr",
     "output_type": "stream",
     "text": [
      " 82%|████████▏ | 58501/71722 [1:28:07<20:12, 10.90it/s]"
     ]
    },
    {
     "name": "stdout",
     "output_type": "stream",
     "text": [
      "saving tracking at frame 58500 of 73122...\n",
      "tracking saved!\n",
      "pickling tracking at frame 58500...\n",
      "behavior tracking pickled!\n"
     ]
    },
    {
     "name": "stderr",
     "output_type": "stream",
     "text": [
      " 82%|████████▏ | 59001/71722 [1:28:49<18:56, 11.19it/s]"
     ]
    },
    {
     "name": "stdout",
     "output_type": "stream",
     "text": [
      "saving tracking at frame 59000 of 73122...\n",
      "tracking saved!\n",
      "pickling tracking at frame 59000...\n",
      "behavior tracking pickled!\n"
     ]
    },
    {
     "name": "stderr",
     "output_type": "stream",
     "text": [
      " 83%|████████▎ | 59503/71722 [1:29:32<17:36, 11.56it/s]"
     ]
    },
    {
     "name": "stdout",
     "output_type": "stream",
     "text": [
      "saving tracking at frame 59500 of 73122...\n",
      "tracking saved!\n",
      "pickling tracking at frame 59500...\n",
      "behavior tracking pickled!\n"
     ]
    },
    {
     "name": "stderr",
     "output_type": "stream",
     "text": [
      " 84%|████████▎ | 60001/71722 [1:30:15<18:03, 10.82it/s]"
     ]
    },
    {
     "name": "stdout",
     "output_type": "stream",
     "text": [
      "saving tracking at frame 60000 of 73122...\n",
      "tracking saved!\n",
      "pickling tracking at frame 60000...\n",
      "behavior tracking pickled!\n"
     ]
    },
    {
     "name": "stderr",
     "output_type": "stream",
     "text": [
      " 84%|████████▍ | 60503/71722 [1:30:58<16:06, 11.60it/s]"
     ]
    },
    {
     "name": "stdout",
     "output_type": "stream",
     "text": [
      "saving tracking at frame 60500 of 73122...\n",
      "tracking saved!\n",
      "pickling tracking at frame 60500...\n",
      "behavior tracking pickled!\n"
     ]
    },
    {
     "name": "stderr",
     "output_type": "stream",
     "text": [
      " 85%|████████▌ | 61001/71722 [1:31:40<15:47, 11.32it/s]"
     ]
    },
    {
     "name": "stdout",
     "output_type": "stream",
     "text": [
      "saving tracking at frame 61000 of 73122...\n",
      "tracking saved!\n",
      "pickling tracking at frame 61000...\n",
      "behavior tracking pickled!\n"
     ]
    },
    {
     "name": "stderr",
     "output_type": "stream",
     "text": [
      " 86%|████████▌ | 61502/71722 [1:32:40<24:26,  6.97it/s]"
     ]
    },
    {
     "name": "stdout",
     "output_type": "stream",
     "text": [
      "saving tracking at frame 61500 of 73122...\n",
      "tracking saved!\n",
      "pickling tracking at frame 61500...\n",
      "behavior tracking pickled!\n"
     ]
    },
    {
     "name": "stderr",
     "output_type": "stream",
     "text": [
      " 86%|████████▋ | 62002/71722 [1:33:48<23:12,  6.98it/s]"
     ]
    },
    {
     "name": "stdout",
     "output_type": "stream",
     "text": [
      "saving tracking at frame 62000 of 73122...\n",
      "tracking saved!\n",
      "pickling tracking at frame 62000...\n",
      "behavior tracking pickled!\n"
     ]
    },
    {
     "name": "stderr",
     "output_type": "stream",
     "text": [
      " 87%|████████▋ | 62502/71722 [1:34:55<20:01,  7.67it/s]"
     ]
    },
    {
     "name": "stdout",
     "output_type": "stream",
     "text": [
      "saving tracking at frame 62500 of 73122...\n",
      "tracking saved!\n",
      "pickling tracking at frame 62500...\n",
      "behavior tracking pickled!\n"
     ]
    },
    {
     "name": "stderr",
     "output_type": "stream",
     "text": [
      " 88%|████████▊ | 63002/71722 [1:36:03<21:23,  6.79it/s]"
     ]
    },
    {
     "name": "stdout",
     "output_type": "stream",
     "text": [
      "saving tracking at frame 63000 of 73122...\n",
      "tracking saved!\n",
      "pickling tracking at frame 63000...\n",
      "behavior tracking pickled!\n"
     ]
    },
    {
     "name": "stderr",
     "output_type": "stream",
     "text": [
      " 89%|████████▊ | 63502/71722 [1:37:11<18:50,  7.27it/s]"
     ]
    },
    {
     "name": "stdout",
     "output_type": "stream",
     "text": [
      "saving tracking at frame 63500 of 73122...\n",
      "tracking saved!\n",
      "pickling tracking at frame 63500...\n",
      "behavior tracking pickled!\n"
     ]
    },
    {
     "name": "stderr",
     "output_type": "stream",
     "text": [
      " 89%|████████▉ | 64001/71722 [1:38:10<11:18, 11.38it/s]"
     ]
    },
    {
     "name": "stdout",
     "output_type": "stream",
     "text": [
      "saving tracking at frame 64000 of 73122...\n",
      "tracking saved!\n",
      "pickling tracking at frame 64000...\n",
      "behavior tracking pickled!\n"
     ]
    },
    {
     "name": "stderr",
     "output_type": "stream",
     "text": [
      " 90%|████████▉ | 64501/71722 [1:38:53<10:55, 11.02it/s]"
     ]
    },
    {
     "name": "stdout",
     "output_type": "stream",
     "text": [
      "saving tracking at frame 64500 of 73122...\n",
      "tracking saved!\n",
      "pickling tracking at frame 64500...\n",
      "behavior tracking pickled!\n"
     ]
    },
    {
     "name": "stderr",
     "output_type": "stream",
     "text": [
      " 91%|█████████ | 65001/71722 [1:39:35<09:52, 11.35it/s]"
     ]
    },
    {
     "name": "stdout",
     "output_type": "stream",
     "text": [
      "saving tracking at frame 65000 of 73122...\n",
      "tracking saved!\n",
      "pickling tracking at frame 65000...\n",
      "behavior tracking pickled!\n"
     ]
    },
    {
     "name": "stderr",
     "output_type": "stream",
     "text": [
      " 91%|█████████▏| 65503/71722 [1:40:18<08:51, 11.69it/s]"
     ]
    },
    {
     "name": "stdout",
     "output_type": "stream",
     "text": [
      "saving tracking at frame 65500 of 73122...\n",
      "tracking saved!\n",
      "pickling tracking at frame 65500...\n",
      "behavior tracking pickled!\n"
     ]
    },
    {
     "name": "stderr",
     "output_type": "stream",
     "text": [
      " 92%|█████████▏| 66003/71722 [1:41:00<08:09, 11.68it/s]"
     ]
    },
    {
     "name": "stdout",
     "output_type": "stream",
     "text": [
      "saving tracking at frame 66000 of 73122...\n",
      "tracking saved!\n",
      "pickling tracking at frame 66000...\n",
      "behavior tracking pickled!\n"
     ]
    },
    {
     "name": "stderr",
     "output_type": "stream",
     "text": [
      " 93%|█████████▎| 66501/71722 [1:41:44<08:10, 10.65it/s]"
     ]
    },
    {
     "name": "stdout",
     "output_type": "stream",
     "text": [
      "saving tracking at frame 66500 of 73122...\n",
      "tracking saved!\n",
      "pickling tracking at frame 66500...\n",
      "behavior tracking pickled!\n"
     ]
    },
    {
     "name": "stderr",
     "output_type": "stream",
     "text": [
      " 93%|█████████▎| 67002/71722 [1:42:29<07:36, 10.33it/s]"
     ]
    },
    {
     "name": "stdout",
     "output_type": "stream",
     "text": [
      "saving tracking at frame 67000 of 73122...\n",
      "tracking saved!\n",
      "pickling tracking at frame 67000...\n",
      "behavior tracking pickled!\n"
     ]
    },
    {
     "name": "stderr",
     "output_type": "stream",
     "text": [
      " 94%|█████████▍| 67502/71722 [1:43:12<06:31, 10.79it/s]"
     ]
    },
    {
     "name": "stdout",
     "output_type": "stream",
     "text": [
      "saving tracking at frame 67500 of 73122...\n",
      "tracking saved!\n",
      "pickling tracking at frame 67500...\n",
      "behavior tracking pickled!\n"
     ]
    },
    {
     "name": "stderr",
     "output_type": "stream",
     "text": [
      " 95%|█████████▍| 68001/71722 [1:43:57<05:38, 10.98it/s]"
     ]
    },
    {
     "name": "stdout",
     "output_type": "stream",
     "text": [
      "saving tracking at frame 68000 of 73122...\n",
      "tracking saved!\n",
      "pickling tracking at frame 68000...\n",
      "behavior tracking pickled!\n"
     ]
    },
    {
     "name": "stderr",
     "output_type": "stream",
     "text": [
      " 96%|█████████▌| 68501/71722 [1:44:41<04:58, 10.81it/s]"
     ]
    },
    {
     "name": "stdout",
     "output_type": "stream",
     "text": [
      "saving tracking at frame 68500 of 73122...\n",
      "tracking saved!\n",
      "pickling tracking at frame 68500...\n",
      "behavior tracking pickled!\n"
     ]
    },
    {
     "name": "stderr",
     "output_type": "stream",
     "text": [
      " 96%|█████████▌| 69001/71722 [1:45:25<04:21, 10.42it/s]"
     ]
    },
    {
     "name": "stdout",
     "output_type": "stream",
     "text": [
      "saving tracking at frame 69000 of 73122...\n",
      "tracking saved!\n",
      "pickling tracking at frame 69000...\n",
      "behavior tracking pickled!\n"
     ]
    },
    {
     "name": "stderr",
     "output_type": "stream",
     "text": [
      " 97%|█████████▋| 69502/71722 [1:46:09<03:58,  9.33it/s]"
     ]
    },
    {
     "name": "stdout",
     "output_type": "stream",
     "text": [
      "saving tracking at frame 69500 of 73122...\n",
      "tracking saved!\n",
      "pickling tracking at frame 69500...\n",
      "behavior tracking pickled!\n"
     ]
    },
    {
     "name": "stderr",
     "output_type": "stream",
     "text": [
      " 98%|█████████▊| 70002/71722 [1:46:54<02:42, 10.60it/s]"
     ]
    },
    {
     "name": "stdout",
     "output_type": "stream",
     "text": [
      "saving tracking at frame 70000 of 73122...\n",
      "tracking saved!\n",
      "pickling tracking at frame 70000...\n",
      "behavior tracking pickled!\n"
     ]
    },
    {
     "name": "stderr",
     "output_type": "stream",
     "text": [
      " 98%|█████████▊| 70501/71722 [1:47:39<02:08,  9.47it/s]"
     ]
    },
    {
     "name": "stdout",
     "output_type": "stream",
     "text": [
      "saving tracking at frame 70500 of 73122...\n",
      "tracking saved!\n",
      "pickling tracking at frame 70500...\n",
      "behavior tracking pickled!\n"
     ]
    },
    {
     "name": "stderr",
     "output_type": "stream",
     "text": [
      " 99%|█████████▉| 71002/71722 [1:48:31<01:15,  9.58it/s]"
     ]
    },
    {
     "name": "stdout",
     "output_type": "stream",
     "text": [
      "saving tracking at frame 71000 of 73122...\n",
      "tracking saved!\n",
      "pickling tracking at frame 71000...\n",
      "behavior tracking pickled!\n"
     ]
    },
    {
     "name": "stderr",
     "output_type": "stream",
     "text": [
      "100%|█████████▉| 71502/71722 [1:49:20<00:22,  9.97it/s]"
     ]
    },
    {
     "name": "stdout",
     "output_type": "stream",
     "text": [
      "saving tracking at frame 71500 of 73122...\n",
      "tracking saved!\n",
      "pickling tracking at frame 71500...\n",
      "behavior tracking pickled!\n"
     ]
    },
    {
     "name": "stderr",
     "output_type": "stream",
     "text": [
      "100%|██████████| 71722/71722 [1:49:40<00:00, 10.90it/s]"
     ]
    },
    {
     "name": "stdout",
     "output_type": "stream",
     "text": [
      "pickling tracking at frame 71721...\n",
      "behavior tracking pickled!\n"
     ]
    },
    {
     "name": "stderr",
     "output_type": "stream",
     "text": [
      "\n"
     ]
    }
   ],
   "source": [
    "# start_frame =  10*60\n",
    "\n",
    "n_frames = len(jagged_lines)-1-start_frame\n",
    "\n",
    "# do 1000 frames!\n",
    "# n_frames = 1000\n",
    "# do one min for profiling\n",
    "# n_frames = 1*30*60 \n",
    "\n",
    "end_frame = start_frame + n_frames\n",
    "\n",
    "if has_implant:\n",
    "    part = torch.Tensor(x0_start).to(torch_device).unsqueeze(0)\n",
    "    pzo = MousePFilt(swarm_size = 200)\n",
    "    pzo.has_implant = True\n",
    "    part = pzo_wrapper(part,pos,pos_weights,keyp,ikeyp,pzo)\n",
    "\n",
    "else:\n",
    "    part = torch.Tensor(x0_start).to(torch_device).unsqueeze(0)   \n",
    "    pzo = MousePFilt(swarm_size = 150,has_implant = False)\n",
    "    pzo.has_implant = False\n",
    "    part = pzo_wrapper(part,pos,pos_weights,keyp,ikeyp,pzo)\n",
    "\n",
    "# for naming the tracked behavior    \n",
    "if has_implant:\n",
    "    var_names = ['b','c','s','psi','theta','phi','x','y','z','b','c','s','theta','phi','x','y','z','frame']\n",
    "    ivar_names = ['b0','c0','s0','psi0','theta0','phi0','x0','y0','z0','b1','c1','s1','theta1','phi1','x1','y1','z1','frame']\n",
    "else:\n",
    "    var_names = ['b','c','s','theta','phi','x','y','z','b','c','s','theta','phi','x','y','z','frame']\n",
    "    ivar_names = ['b0','c0','s0','theta0','phi0','x0','y0','z0','b1','c1','s1','theta1','phi1','x1','y1','z1','frame']\n",
    "    \n",
    "    \n",
    "\n",
    "embedding = 5\n",
    "bank = rls_bank(n_vars = part.shape[1], embedding=embedding)\n",
    "bank.mu = .99\n",
    "\n",
    "x0_trace = []\n",
    "frame_trace = []\n",
    "history_trace = []\n",
    "# just make a numpy holder for it directly\n",
    "# and a frame index which tells us which frame we're currently tracking\n",
    "tracking_holder = np.zeros((part.shape[1]+1,n_frames))\n",
    "guessing_holder = np.zeros((part.shape[1]+1,n_frames))*np.nan\n",
    "\n",
    "from tqdm import tqdm, tqdm_notebook\n",
    "\n",
    "with torch.no_grad():\n",
    "    for i_frame, this_frame in enumerate(tqdm(range(start_frame,start_frame+n_frames))):\n",
    "        # if we've learned, preditc\n",
    "\n",
    "        # load and fit\n",
    "        pos,pos_weights,keyp,ikeyp = pos,pos_weights,keyp,ikeyp = loading_wrapper(this_frame,jagged_lines)\n",
    "        # optional, cut down the cloud a bit\n",
    "#         pos = pos[::3,:]\n",
    "\n",
    "#         keyp,ikeyp = clean_keyp_by_r(part,keyp,ikeyp,has_implant=has_implant)\n",
    "    #     part,history = klm_routine(part,pos,keyp,ikeyp,max_iters = 100,verbose=False,save_history = True,ftol = 1e-4)\n",
    "    #     part, histo = pzo_step(part,pos,keyp,ikeyp)\n",
    "        part = pzo_wrapper(part,pos,pos_weights,keyp,ikeyp,pzo)\n",
    "        # 3. add to fitting history\n",
    "        x0_trace.append(part.cpu().numpy())\n",
    "        frame_trace.append(this_frame)\n",
    "    #     history_trace.append(history)\n",
    "        # and update the frame index and the tracking_holder\n",
    "        tracking_holder[:-1,i_frame] = part[0,:].cpu().numpy()\n",
    "        tracking_holder[-1,i_frame] = this_frame\n",
    "\n",
    "        # always adapt!\n",
    "        if True:\n",
    "            bank,part_guess,guessing_holder = ML_predict(bank,i_frame,embedding,tracking_holder,guessing_holder)\n",
    "\n",
    "        if i_frame > 150 and True:\n",
    "            # do prediction after the first 150 frames\n",
    "            pass\n",
    "    #         part_guess[:,[5,13]] = part[:,[5,13]]\n",
    "    #         part = part_guess\n",
    "    #         part[:,[0,1,2,6,7,8,9,10,11,14,15,16]] = part_guess[:,[0,1,2,6,7,8,9,10,11,14,15,16]]\n",
    "            if has_implant:\n",
    "                part[:,[6,7,8,14,15,16]] = part_guess[:,[6,7,8,14,15,16]].to(torch_device)\n",
    "#                 part = part_guess.to(torch_device)\n",
    "            else:\n",
    "#                 part[:,[0,1,2,5,6,7,8,9,10,13,14,15]] = part_guess[:,[0,1,2,5,6,7,8,9,10,13,14,15]].to(torch_device)\n",
    "                #  part = part_guess.to(torch_device)\n",
    "                part[:,[5,6,7,13,14,15]] = part_guess[:,[5,6,7,13,14,15]].to(torch_device)\n",
    "    \n",
    "    \n",
    "        if i_frame%2 == 0 and False:\n",
    "            # fully update the \n",
    "            if i_frame > 150:\n",
    "                plot_single_frame(part_guess.to(torch_device),pos, keyp, ikeyp,this_frame)    \n",
    "            else:\n",
    "                plot_single_frame(part,pos, keyp, ikeyp,this_frame)    \n",
    "\n",
    "        if i_frame%500 == 0:\n",
    "            top_folder = 'frames/'\n",
    "            print(\"saving tracking at frame {} of {}...\".format(i_frame,start_frame+n_frames))\n",
    "            np.save(top_folder+'tracking_holder.npy',tracking_holder)\n",
    "            np.save(top_folder+'guessing_holder.npy',guessing_holder)\n",
    "            np.save(top_folder+'body_constants.npy',body_constants)\n",
    "            print(\"tracking saved!\")    \n",
    "            \n",
    "            tracked_behavior = {\n",
    "                \"var\": var_names,\n",
    "                \"ivar\": ivar_names,\n",
    "                \"body_constants\": body_constants,\n",
    "                \"body_constant_names\" : [\"body_scale\",\"a_hip_min\",\"a_hip_max\",\"b_hip_min\",\"b_hip_max\",\"a_nose\",\"b_nose\",\"d_nose\",\"x_impl\",\"z_impl\",\"r_impl\"],\n",
    "                \"start_frame\": start_frame,\n",
    "                \"end_frame\": this_frame, # this saves it druring running!\n",
    "                \"has_implant\": has_implant,\n",
    "                \"tracking_holder\": tracking_holder,\n",
    "                \"guessing_holder\": guessing_holder,\n",
    "                \"data_folder\": data_folder\n",
    "                }\n",
    "\n",
    "            print(\"pickling tracking at frame {}...\".format(i_frame))\n",
    "            with open(data_folder +'/tracked_behavior_in_progress.pkl', 'wb+') as f:\n",
    "                pickle.dump(tracked_behavior,f)\n",
    "            print(\"behavior tracking pickled!\")     \n",
    "\n",
    "            \n",
    "# TODO also add the date of the folder as a string?\n",
    "\n",
    "\n",
    "tracked_behavior = {\n",
    "    \"var\": var_names,\n",
    "    \"ivar\": ivar_names,\n",
    "    \"body_constants\": body_constants,\n",
    "    \"body_constant_names\" : [\"body_scale\",\"a_hip_min\",\"a_hip_max\",\"b_hip_min\",\"b_hip_max\",\"a_nose\",\"b_nose\",\"d_nose\",\"x_impl\",\"z_impl\",\"r_impl\"],\n",
    "    \"start_frame\": start_frame,\n",
    "    \"end_frame\": end_frame,\n",
    "    \"has_implant\": has_implant,\n",
    "    \"tracking_holder\": tracking_holder,\n",
    "    \"guessing_holder\": guessing_holder,\n",
    "    \"data_folder\": data_folder\n",
    "}\n",
    "\n",
    "print(\"pickling tracking at frame {}...\".format(i_frame))\n",
    "with open(data_folder +'/tracked_behavior.pkl', 'wb+') as f:\n",
    "    pickle.dump(tracked_behavior,f)\n",
    "print(\"behavior tracking pickled!\")                "
   ]
  },
  {
   "cell_type": "code",
   "execution_count": 15,
   "metadata": {},
   "outputs": [],
   "source": [
    "#%% Plot tracked data to see that everything is fine\n",
    "plt.close('all')\n",
    "plt.figure()\n",
    "\n",
    "if has_implant:\n",
    "    NNN = ['b','c','s','psi','theta','phi','x','y','z','b','c','s','theta','phi','x','y','z']\n",
    "else:\n",
    "    NNN = ['b','c','s','theta','phi','x','y','z','b','c','s','theta','phi','x','y','z']\n",
    "    \n",
    "for ii,name in enumerate(NNN):\n",
    "    plt.subplot(len(NNN),1,ii+1)\n",
    "    index = np.arange(tracking_holder.shape[1])\n",
    "    plt.plot(index[:i_frame],tracking_holder[ii,:i_frame])\n",
    "    plt.plot(index[:i_frame],guessing_holder[ii,:i_frame])\n",
    "    plt.ylabel(str(ii)+'_'+name)\n",
    "plt.show()\n",
    " "
   ]
  },
  {
   "cell_type": "code",
   "execution_count": 16,
   "metadata": {},
   "outputs": [],
   "source": [
    "# TRY to develop a kind of 3D kalman better version of the KRLS-T\n",
    "# TRY to penalize if the center of the implant is lower than the neck of the mouse\n",
    "# TRY to wrap it for Bonsai\n",
    "# TRY to make a much more lightweight GUI for playing the data as a video. Preferably for a \n",
    "# jupyter notebook\n",
    "# Add tracking time\n",
    "# Make nice GUI\n",
    "# ENsure that the TTL pulses are recorded \n",
    "# Penalize implant to the side of head\n",
    "# Penalize flying tail"
   ]
  },
  {
   "cell_type": "code",
   "execution_count": null,
   "metadata": {},
   "outputs": [],
   "source": []
  },
  {
   "cell_type": "code",
   "execution_count": null,
   "metadata": {},
   "outputs": [],
   "source": []
  },
  {
   "cell_type": "code",
   "execution_count": null,
   "metadata": {},
   "outputs": [],
   "source": []
  },
  {
   "cell_type": "code",
   "execution_count": null,
   "metadata": {},
   "outputs": [],
   "source": []
  }
 ],
 "metadata": {
  "kernelspec": {
   "display_name": "Python 3",
   "language": "python",
   "name": "python3"
  },
  "language_info": {
   "codemirror_mode": {
    "name": "ipython",
    "version": 3
   },
   "file_extension": ".py",
   "mimetype": "text/x-python",
   "name": "python",
   "nbconvert_exporter": "python",
   "pygments_lexer": "ipython3",
   "version": "3.6.9"
  }
 },
 "nbformat": 4,
 "nbformat_minor": 4
}

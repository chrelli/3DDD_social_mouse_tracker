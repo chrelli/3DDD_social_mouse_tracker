{
 "cells": [
  {
   "cell_type": "code",
   "execution_count": 1,
   "metadata": {},
   "outputs": [],
   "source": [
    "# plot the training performance!\n",
    "\n",
    "import time\n",
    "from pathlib import Path\n",
    "import numpy as np\n",
    "import matplotlib.pyplot as plt\n",
    "\n",
    "import torch\n",
    "\n",
    "import sys, os, pickle\n",
    "import h5py\n",
    "import cv2\n",
    "from colour import Color\n",
    "import glob, pathlib\n",
    "import pandas as pd"
   ]
  },
  {
   "cell_type": "markdown",
   "metadata": {},
   "source": [
    "# Load the loss function across training"
   ]
  },
  {
   "cell_type": "code",
   "execution_count": 2,
   "metadata": {},
   "outputs": [
    {
     "name": "stdout",
     "output_type": "stream",
     "text": [
      "run-Nov22_11-19-19_CE-01-tag-lr(1).csv\n",
      "run-Nov22_11-19-19_CE-01-tag-trn_frame_loss.csv\n",
      "run-Nov22_11-19-19_CE-01-tag-trn_loss.csv\n",
      "run-Nov22_11-19-19_CE-01-tag-val_frame_loss.csv\n",
      "run-Nov22_11-19-19_CE-01-tag-val_loss.csv\n"
     ]
    }
   ],
   "source": [
    "# you will find the training runs in ./Runs/\n",
    "# these training traces are just csv's exported from tensorboard, \n",
    "# They are exported to make a figrue for the manuscript -- you can just look at the runs in tensorboard\n",
    "\n",
    "run_csv_folder = 'example_data/training_traces/'\n",
    "files = os.listdir(run_csv_folder)\n",
    "files_txt = [i for i in files if i.endswith('.csv')]\n",
    "files_txt.sort()\n",
    "for f in files_txt:\n",
    "    print(f)"
   ]
  },
  {
   "cell_type": "code",
   "execution_count": 3,
   "metadata": {},
   "outputs": [
    {
     "name": "stdout",
     "output_type": "stream",
     "text": [
      "        Wall time    Step        Value\n",
      "0    1.574440e+09       0  5138.962891\n",
      "1    1.574440e+09       1  4729.284668\n",
      "2    1.574440e+09       2  4470.230469\n",
      "3    1.574440e+09       3  5048.220703\n",
      "4    1.574440e+09       4  5750.927246\n",
      "..            ...     ...          ...\n",
      "665  1.574443e+09  133000   894.225952\n",
      "666  1.574443e+09  133001  1448.598633\n",
      "667  1.574443e+09  133002  1281.904907\n",
      "668  1.574443e+09  133003  1145.183350\n",
      "669  1.574443e+09  133004  1027.295776\n",
      "\n",
      "[670 rows x 3 columns]\n"
     ]
    }
   ],
   "source": [
    "val_frame_loss = pd.read_csv(glob.glob(run_csv_folder+'*val_frame_loss*')[0])\n",
    "val_loss = pd.read_csv(glob.glob(run_csv_folder+'*val_loss*')[0])\n",
    "trn_frame_loss = pd.read_csv(glob.glob(run_csv_folder+'*trn_frame_loss*')[0])\n",
    "trn_loss = pd.read_csv(glob.glob(run_csv_folder+'*trn_loss*')[0])\n",
    "print(val_frame_loss)\n"
   ]
  },
  {
   "cell_type": "markdown",
   "metadata": {},
   "source": [
    "# Plot the training and validation loss"
   ]
  },
  {
   "cell_type": "code",
   "execution_count": 4,
   "metadata": {},
   "outputs": [],
   "source": [
    "import matplotlib\n",
    "\n",
    "# Say, \"the default sans-serif font is COMIC SANS\"\n",
    "matplotlib.rcParams['font.sans-serif'] = \"Liberation Sans\"\n",
    "# Then, \"ALWAYS use sans-serif fonts\"\n",
    "matplotlib.rcParams['font.family'] = \"sans-serif\"\n",
    "\n",
    "matplotlib.rc('font', family='sans-serif') \n",
    "matplotlib.rc('text', usetex='false') \n",
    "matplotlib.rcParams.update({'font.size': 13})"
   ]
  },
  {
   "cell_type": "code",
   "execution_count": 5,
   "metadata": {},
   "outputs": [
    {
     "name": "stdout",
     "output_type": "stream",
     "text": [
      "134\n"
     ]
    },
    {
     "data": {
      "image/png": "[encoded data removed]",
      "text/plain": [
       "<Figure size 252x216 with 2 Axes>"
      ]
     },
     "metadata": {
      "needs_background": "light"
     },
     "output_type": "display_data"
    }
   ],
   "source": [
    "fig, (ax1, ax2) = plt.subplots(2, gridspec_kw={'height_ratios': [3, 1]}, sharex=False,figsize=(3.5,3))\n",
    "from palettable.cmocean.sequential import Algae_6\n",
    "cmpl = Algae_6.mpl_colors\n",
    "\n",
    "def adjust_spines(ax, spines):\n",
    "    for loc, spine in ax.spines.items():\n",
    "        if loc in spines:\n",
    "            spine.set_position(('outward', 10))  # outward by 10 points\n",
    "            spine.set_smart_bounds(True)\n",
    "        else:\n",
    "            spine.set_color('none')  # don't draw spine\n",
    "\n",
    "    # turn off ticks where there is no spine\n",
    "    if 'left' in spines:\n",
    "        ax.yaxis.set_ticks_position('left')\n",
    "    else:\n",
    "        # no yaxis ticks\n",
    "        ax.yaxis.set_ticks([])\n",
    "\n",
    "    if 'bottom' in spines:\n",
    "        ax.xaxis.set_ticks_position('bottom')\n",
    "    else:\n",
    "        # no xaxis ticks\n",
    "        ax.xaxis.set_ticks([])\n",
    "\n",
    "\n",
    "def moving_average(data_set, periods=3):\n",
    "    weights = np.ones(periods) / periods\n",
    "    return np.convolve(data_set, weights, mode='same').ravel()\n",
    "\n",
    "total_time = (trn_frame_loss['Wall time'].max()-trn_frame_loss['Wall time'].min())/60\n",
    "time_stretch = total_time/len(trn_frame_loss['Value'])\n",
    "\n",
    "\n",
    "# plt.subplot(4,1,(1,2,3) )\n",
    "loss = trn_frame_loss['Value']\n",
    "loss_ = loss.copy()\n",
    "time = np.arange(len(loss)) * time_stretch\n",
    "time_ = time.copy() \n",
    "# ax1.plot(time_,loss_,'.',c=cmpl[1],label=\"training batch\",alpha = 1,markersize=4)\n",
    "\n",
    "loss = val_frame_loss['Value']\n",
    "scaling = len(loss_)/len(loss)\n",
    "time = np.arange(len(loss))*scaling * time_stretch\n",
    "ax1.plot(time,loss,'.',c=cmpl[4],label=\"validation batch\",alpha = 1,markersize=4)\n",
    "ax1.plot(time_,loss_,'.',c=cmpl[1],label=\"training batch\",alpha = .5,markersize=4)\n",
    "\n",
    "from scipy.signal import savgol_filter\n",
    "\n",
    "ax = plt.gca()\n",
    "ax1.spines['top'].set_visible(False)\n",
    "ax1.spines['right'].set_visible(False)\n",
    "ax1.spines['bottom'].set_visible(False)\n",
    "ax2.spines['top'].set_visible(False)\n",
    "ax2.spines['right'].set_visible(False)\n",
    "\n",
    "\n",
    "# ax1.legend(loc='upper right')\n",
    "\n",
    "ax1.set_ylim(300,10000)\n",
    "\n",
    "\n",
    "ax1.set_yscale('log')\n",
    "ax2.set_xlabel(\"Time [min]\")\n",
    "ax2.set_ylabel(\"Learning rate\")\n",
    "ax1.set_ylabel(\"Loss\")\n",
    "\n",
    "trn_lr = pd.read_csv(glob.glob(run_csv_folder+'*tag-lr*')[0])\n",
    "time = np.arange(len(trn_lr))/len(trn_lr)*total_time\n",
    "ax2.plot(time,trn_lr['Value'],c=cmpl[2])\n",
    "print(len(trn_lr))\n",
    "\n",
    "ax2.set_yscale('log')\n",
    "\n",
    "# plt.xlim(0,45)\n",
    "adjust_spines(ax1, ['left'])\n",
    "adjust_spines(ax2, ['left', 'bottom'])\n",
    "\n",
    "ax2.set_xticks([0,15,30,45,60])\n",
    "ax2.set_yticks([1e-8,1e-3])\n",
    "\n",
    "plt.show()\n"
   ]
  }
 ],
 "metadata": {
  "kernelspec": {
   "display_name": "Python 3",
   "language": "python",
   "name": "python3"
  },
  "language_info": {
   "codemirror_mode": {
    "name": "ipython",
    "version": 3
   },
   "file_extension": ".py",
   "mimetype": "text/x-python",
   "name": "python",
   "nbconvert_exporter": "python",
   "pygments_lexer": "ipython3",
   "version": "3.6.10"
  }
 },
 "nbformat": 4,
 "nbformat_minor": 4
}

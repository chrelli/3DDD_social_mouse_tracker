{
 "cells": [
  {
   "cell_type": "code",
   "execution_count": 2,
   "metadata": {},
   "outputs": [],
   "source": [
    "# annontate\n",
    "import numpy as np\n",
    "import cv2\n",
    "import h5py\n",
    "import matplotlib.pyplot as plt\n",
    "# from deepposekit import VideoReader, KMeansSampler\n",
    "import sys\n",
    "sys.path.append('chrelli_annotator/')\n",
    "# sys.path.append('/home/chrelli/git/3d_sandbox/mousepose_0p1/deepposekit-annotator/')\n",
    "\n",
    "from dpk_annotator import Annotator\n",
    "import tqdm\n",
    "import glob\n",
    "import itertools\n",
    "\n",
    "from os.path import expanduser\n",
    "home = expanduser(\"~\")\n"
   ]
  },
  {
   "cell_type": "code",
   "execution_count": null,
   "metadata": {},
   "outputs": [],
   "source": []
  },
  {
   "cell_type": "markdown",
   "metadata": {},
   "source": [
    "# Point to the training images, label using the 'DeepPoseKit' annotator (Graving et al. 2019)"
   ]
  },
  {
   "cell_type": "code",
   "execution_count": 3,
   "metadata": {},
   "outputs": [
    {
     "name": "stdout",
     "output_type": "stream",
     "text": [
      "['/media/chrelli/Data0/recording_20200828-114251/mouse_training_set.h5']\n",
      "['training_sets/skeleton_v2_mice.csv']\n"
     ]
    }
   ],
   "source": [
    "# The skeleton file specifies the affinity fields (nose-to-tail, ear-to-nose, etc) \n",
    "# between the clicked keypoints (nose, ears, tail, implant).\n",
    "\n",
    "# high-res training data \n",
    "top_folder_0 = '/media/chrelli/Data0/recording_20200821-123841'\n",
    "top_folder_1 = '/media/chrelli/Data1/recording_20200821-123841'\n",
    "# training data with different exposure\n",
    "top_folder_0 = '/media/chrelli/Data0/recording_20200828-113642/'\n",
    "top_folder_1 = '/media/chrelli/Data1/recording_20200828-113642/'\n",
    "\n",
    "# validation dataset with LASER ON 90 fps\n",
    "top_folder_0 = '/media/chrelli/Data0/recording_20200828-114251/'\n",
    "top_folder_1 = '/media/chrelli/Data1/recording_20200828-114251/'\n",
    "\n",
    "\n",
    "\n",
    "training_sets = glob.glob( top_folder_0 + '/*.h5')\n",
    "skeletons = glob.glob('training_sets' + '/*skeleton_v2*')\n",
    "\n",
    "print(training_sets)\n",
    "print(skeletons)\n"
   ]
  },
  {
   "cell_type": "code",
   "execution_count": 5,
   "metadata": {},
   "outputs": [
    {
     "name": "stderr",
     "output_type": "stream",
     "text": [
      "chrelli_annotator/dpk_annotator/gui/Annotator.py:205: H5pyDeprecationWarning: The default file mode will change to 'r' (read-only) in h5py 3.0. To suppress this warning, pass the mode you need to h5py.File(), or set the global default h5.get_config().default_file_mode, or set the environment variable H5PY_DEFAULT_READONLY=1. Available modes are: 'r', 'r+', 'w', 'w-'/'x', 'a'. See the docs for details.\n",
      "  with h5py.File(self.datapath) as h5file:\n"
     ]
    },
    {
     "name": "stdout",
     "output_type": "stream",
     "text": [
      "Saved\n",
      "Saved\n"
     ]
    }
   ],
   "source": [
    "\n",
    "app = Annotator(datapath=training_sets[0],\n",
    "                dataset='c_images',\n",
    "                skeleton=skeletons[0],\n",
    "                shuffle_colors=False,\n",
    "                text_scale=.3)\n",
    "\n",
    "app.run()"
   ]
  },
  {
   "cell_type": "code",
   "execution_count": null,
   "metadata": {},
   "outputs": [],
   "source": []
  }
 ],
 "metadata": {
  "kernelspec": {
   "display_name": "Python 3",
   "language": "python",
   "name": "python3"
  },
  "language_info": {
   "codemirror_mode": {
    "name": "ipython",
    "version": 3
   },
   "file_extension": ".py",
   "mimetype": "text/x-python",
   "name": "python",
   "nbconvert_exporter": "python",
   "pygments_lexer": "ipython3",
   "version": "3.7.7"
  }
 },
 "nbformat": 4,
 "nbformat_minor": 4
}

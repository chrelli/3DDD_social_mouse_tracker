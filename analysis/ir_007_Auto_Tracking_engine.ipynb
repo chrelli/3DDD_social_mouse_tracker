{
 "cells": [
  {
   "cell_type": "code",
   "execution_count": 38,
   "metadata": {},
   "outputs": [
    {
     "name": "stdout",
     "output_type": "stream",
     "text": [
      "The autoreload extension is already loaded. To reload it, use:\n",
      "  %reload_ext autoreload\n"
     ]
    },
    {
     "name": "stderr",
     "output_type": "stream",
     "text": [
      "[autoreload of utils.cuda_tracking_utils_weights_for_figures failed: Traceback (most recent call last):\n",
      "  File \"/home/chrelli/anaconda2/envs/mousepose/lib/python3.6/site-packages/IPython/extensions/autoreload.py\", line 245, in check\n",
      "    superreload(m, reload, self.old_objects)\n",
      "  File \"/home/chrelli/anaconda2/envs/mousepose/lib/python3.6/site-packages/IPython/extensions/autoreload.py\", line 450, in superreload\n",
      "    update_generic(old_obj, new_obj)\n",
      "  File \"/home/chrelli/anaconda2/envs/mousepose/lib/python3.6/site-packages/IPython/extensions/autoreload.py\", line 387, in update_generic\n",
      "    update(a, b)\n",
      "  File \"/home/chrelli/anaconda2/envs/mousepose/lib/python3.6/site-packages/IPython/extensions/autoreload.py\", line 357, in update_class\n",
      "    update_instances(old, new)\n",
      "  File \"/home/chrelli/anaconda2/envs/mousepose/lib/python3.6/site-packages/IPython/extensions/autoreload.py\", line 312, in update_instances\n",
      "    update_instances(old, new, obj.__dict__, visited)\n",
      "  File \"/home/chrelli/anaconda2/envs/mousepose/lib/python3.6/site-packages/IPython/extensions/autoreload.py\", line 312, in update_instances\n",
      "    update_instances(old, new, obj.__dict__, visited)\n",
      "  File \"/home/chrelli/anaconda2/envs/mousepose/lib/python3.6/site-packages/IPython/extensions/autoreload.py\", line 317, in update_instances\n",
      "    update_instances(old, new, obj, visited)\n",
      "  File \"/home/chrelli/anaconda2/envs/mousepose/lib/python3.6/site-packages/IPython/extensions/autoreload.py\", line 317, in update_instances\n",
      "    update_instances(old, new, obj, visited)\n",
      "  File \"/home/chrelli/anaconda2/envs/mousepose/lib/python3.6/site-packages/IPython/extensions/autoreload.py\", line 312, in update_instances\n",
      "    update_instances(old, new, obj.__dict__, visited)\n",
      "  File \"/home/chrelli/anaconda2/envs/mousepose/lib/python3.6/site-packages/IPython/extensions/autoreload.py\", line 317, in update_instances\n",
      "    update_instances(old, new, obj, visited)\n",
      "AttributeError: 'dict' object has no attribute 'iterkeys'\n",
      "]\n"
     ]
    }
   ],
   "source": [
    "from IPython import get_ipython\n",
    "\n",
    "%matplotlib qt\n",
    "%load_ext autoreload\n",
    "%autoreload 2\n",
    "\n",
    "\n",
    "import time, os, sys, shutil\n",
    "from utils.fitting_utils import *\n",
    "\n",
    "# for math and plotting\n",
    "import pandas as pd\n",
    "import numpy as np\n",
    "import scipy as sp\n",
    "import matplotlib.pyplot as plt\n",
    "\n",
    "import matplotlib\n",
    "matplotlib.use('Qt5Agg')\n",
    "# %matplotlib notebook\n",
    "# %matplotlib widget\n",
    "# %matplotlib qt5\n",
    "# %matplotlib nbagg\n",
    "\n",
    "from itertools import compress # for list selection with logical\n",
    "from tqdm import tqdm\n",
    "\n",
    "from multiprocessing import Process\n",
    "\n",
    "# ALLSO JIT STUFF\n",
    "from numba import jit, njit\n",
    "\n",
    "# and pytorch\n",
    "import torch\n",
    "\n",
    "import sys, os, pickle\n",
    "# import cv2\n",
    "from colour import Color\n",
    "import h5py\n",
    "from tqdm import tqdm, tqdm_notebook\n",
    "import glob\n",
    "import itertools"
   ]
  },
  {
   "cell_type": "code",
   "execution_count": 39,
   "metadata": {},
   "outputs": [
    {
     "name": "stdout",
     "output_type": "stream",
     "text": [
      "True\n",
      "1\n",
      "GeForce RTX 2080 Ti\n",
      "cuda:0\n"
     ]
    }
   ],
   "source": [
    "# Check CUDA\n",
    "print(torch.cuda.is_available())\n",
    "print(torch.cuda.device_count())\n",
    "print(torch.cuda.get_device_name(0))\n",
    "torch_device = torch.device(\"cuda:0\" if torch.cuda.is_available() else \"cpu\")\n",
    "print(torch_device)"
   ]
  },
  {
   "cell_type": "code",
   "execution_count": 40,
   "metadata": {},
   "outputs": [],
   "source": [
    "# setup for pretty plotting\n",
    "matplotlib.rcParams['font.sans-serif'] = \"Liberation Sans\"\n",
    "# Then, \"ALWAYS use sans-serif fonts\"\n",
    "matplotlib.rcParams['font.family'] = \"sans-serif\"\n",
    "\n",
    "matplotlib.rc('font', family='sans-serif') \n",
    "matplotlib.rc('text', usetex='false') \n",
    "matplotlib.rcParams.update({'font.size': 13})\n",
    "\n",
    "from palettable.cmocean.sequential import Algae_6\n",
    "cmpl = Algae_6.mpl_colors\n",
    "\n",
    "def adjust_spines(ax, spines):\n",
    "    for loc, spine in ax.spines.items():\n",
    "        if loc in spines:\n",
    "            spine.set_position(('outward', 10))  # outward by 10 points\n",
    "            spine.set_smart_bounds(True)\n",
    "        else:\n",
    "            spine.set_color('none')  # don't draw spine\n",
    "\n",
    "    # turn off ticks where there is no spine\n",
    "    if 'left' in spines:\n",
    "        ax.yaxis.set_ticks_position('left')\n",
    "    else:\n",
    "        # no yaxis ticks\n",
    "        ax.yaxis.set_ticks([])\n",
    "\n",
    "    if 'bottom' in spines:\n",
    "        ax.xaxis.set_ticks_position('bottom')\n",
    "    else:\n",
    "        # no xaxis ticks\n",
    "        ax.xaxis.set_ticks([])\n"
   ]
  },
  {
   "cell_type": "markdown",
   "metadata": {},
   "source": [
    "# Load the pre-processed data and display an example frame"
   ]
  },
  {
   "cell_type": "code",
   "execution_count": 41,
   "metadata": {},
   "outputs": [
    {
     "name": "stdout",
     "output_type": "stream",
     "text": [
      "<KeysViewHDF5 ['dataset']>\n",
      "32830\n"
     ]
    }
   ],
   "source": [
    "data_folder = 'example_data/tracking/'\n",
    "\n",
    "top_folder_0 = '/media/chrelli/Data0/recording_20200821-131033'\n",
    "top_folder_1 = '/media/chrelli/Data1/recording_20200821-131033'\n",
    "\n",
    "# validation dataset with LASER ON 90 fps\n",
    "top_folder_0 = '/media/chrelli/Data0/recording_20200828-114251'\n",
    "top_folder_1 = '/media/chrelli/Data1/recording_20200828-114251'\n",
    "\n",
    "\n",
    "data_folder = top_folder_0\n",
    "\n",
    "\n",
    "# load ALL the frames as jagged lines \n",
    "with h5py.File(data_folder+'/pre_processed_frames.hdf5', mode='r') as hdf5_file:\n",
    "    print(hdf5_file.keys())\n",
    "    print(len(hdf5_file['dataset']))\n",
    "    jagged_lines = hdf5_file['dataset'][...] \n"
   ]
  },
  {
   "cell_type": "code",
   "execution_count": 42,
   "metadata": {},
   "outputs": [
    {
     "name": "stdout",
     "output_type": "stream",
     "text": [
      "[1 1 2 3 3 1 1 1 1 2 2 3 1 1 1 2 2 3 1 1 1 1 2 3]\n",
      "(2764, 3)\n"
     ]
    }
   ],
   "source": [
    "from utils.cuda_tracking_utils import unpack_from_jagged, cheap4d\n",
    "# kill first 6 secs of the frames (delay is ~180)\n",
    "start_frame = 10*60\n",
    "pos, pos_weights, keyp, pkeyp, ikeyp = unpack_from_jagged(jagged_lines[start_frame])\n",
    "print(ikeyp)\n",
    "print(pos.shape)\n",
    "fig = plt.gcf()\n",
    "plt.title(\"N positions is {}\".format(pos.shape))\n",
    "plt.show()\n",
    "cheap4d(pos,keyp,ikeyp)\n"
   ]
  },
  {
   "cell_type": "code",
   "execution_count": null,
   "metadata": {},
   "outputs": [],
   "source": []
  },
  {
   "cell_type": "code",
   "execution_count": 43,
   "metadata": {},
   "outputs": [],
   "source": [
    "# AUTO-start the tracking, start with frame 0, and loop until there is a frame, where the animals are reasonably far apart!\n",
    "\n",
    "plt.close('all')\n",
    "\n",
    "from utils.cuda_tracking_utils_weights_for_figures import body_constants, particles_to_distance_cuda, clean_keyp_by_r\n",
    "from utils.cuda_tracking_utils_weights_for_figures import loading_wrapper\n",
    "from utils.clicking import *\n",
    "\n",
    "from scipy.spatial.distance import pdist, squareform\n",
    "from scipy.stats import kurtosis\n",
    "from scipy.stats import skew\n",
    "from scipy.cluster.vq import vq, kmeans, whiten\n",
    "\n",
    "def bimodality_coeff(dat):\n",
    "    # from https://www.ncbi.nlm.nih.gov/pmc/articles/PMC3791391/\n",
    "    m3 = skew(dat)\n",
    "    m4 = kurtosis(dat)\n",
    "    n = len(dat)\n",
    "    BC = (m3**2 + 1)/(m4**2 + 3 * ((n-1)**2)/( (n-2)*(n-3) ) )\n",
    "    return BC\n",
    "\n",
    "\n",
    "def check_mouse_separation(keyp,ikeyp):\n",
    "    # get the xy-coordinates of the keypoints\n",
    "    xy_head = keyp[ikeyp < 3,:].cpu().numpy()\n",
    "    xy_tail = keyp[ikeyp == 3,:].cpu().numpy()\n",
    "    \n",
    "    if len(xy_head) < 2 or len(xy_tail) < 2:\n",
    "        return False, np.nan*np.ones((2,3)), np.nan*np.ones((2,3))\n",
    "    \n",
    "    # kmeans two clusters # a bit slow, but w/e\n",
    "    c_head,distortion_head = kmeans(xy_head, 2)\n",
    "    c_tail,distortion_tail = kmeans(xy_tail, 2)\n",
    "    \n",
    "    # associate to partners, since there are only two, we can do it this way\n",
    "    match_0 = np.argmin(np.sum((c_tail - c_head[0,:])**2,1))\n",
    "    match_1 = np.argmin(np.sum((c_tail - c_head[1,:])**2,1))\n",
    "    \n",
    "    # assemble the mice\n",
    "    mouse_0 = np.vstack((c_head[0,:],c_tail[match_0,:]))\n",
    "    mouse_1 = np.vstack((c_head[1,:],c_tail[match_1,:]))\n",
    "    \n",
    "    # check that all the cross-mouse distances are larger than a threshold\n",
    "    # h2h, t2t, and the two h2t\n",
    "    cross_difference = mouse_0[[0,1,0,1],:] - mouse_1[[0,1,1,0],:] \n",
    "    cross_dist = np.sqrt( np.sum(cross_difference**2,1) )\n",
    "    \n",
    "    # Hmm\n",
    "    separation_cutoff = 0.05 # let's do 7 cm!\n",
    "    sep_criterion = np.all(cross_dist > separation_cutoff)\n",
    "    \n",
    "    #also make sure the two mice are long enough!\n",
    "    mouse_lengths = np.array([np.linalg.norm(np.diff(mouse_0,axis = 0)), \n",
    "                              np.linalg.norm(np.diff(mouse_1,axis = 0))])\n",
    "    length_cutoff = 0.05 # let's do 7 cm!\n",
    "    l_criterion = np.all(mouse_lengths > length_cutoff)\n",
    "\n",
    "    criterion = sep_criterion * l_criterion\n",
    "    \n",
    "    return criterion, mouse_0, mouse_1\n",
    "\n",
    "def plot_top_view(pos,keyp,ikeyp,mouse_0=None,mouse_1=None):\n",
    "    keyp_colors = ['dodgerblue','green','red','orange']\n",
    "    plt.figure()\n",
    "\n",
    "    posi = pos.cpu().numpy()\n",
    "    plt.plot(posi[:,0],posi[:,1],'.',alpha=.1,c='k')\n",
    "\n",
    "    if mouse_0 is not None:\n",
    "        lw = 3\n",
    "        plt.plot(mouse_0[:,0],mouse_0[:,1],':',lw=lw,c='k')\n",
    "        plt.plot(mouse_1[:,0],mouse_1[:,1],':',lw=lw,c='peru')\n",
    "\n",
    "        ss = 10\n",
    "        plt.plot(mouse_0[0,0],mouse_0[0,1],'v',markersize=ss,c='k')\n",
    "        plt.plot(mouse_1[0,0],mouse_1[0,1],'v',markersize=ss,c='peru')\n",
    "\n",
    "        plt.plot(mouse_0[1,0],mouse_0[1,1],'o',markersize=ss,c='k')\n",
    "        plt.plot(mouse_1[1,0],mouse_1[1,1],'o',markersize=ss,c='peru')\n",
    "\n",
    "    for ik,colors in enumerate(keyp_colors):\n",
    "        xy = keyp[ikeyp == ik,:2].cpu().numpy()\n",
    "        xy = keyp[ikeyp == ik,:2].cpu().numpy()\n",
    "        x = xy[:,0]\n",
    "        y = xy[:,1]\n",
    "\n",
    "        plt.plot(x,y,'o',c=keyp_colors[ik])\n",
    "\n",
    "    plt.show()\n",
    "\n",
    "def plot_3_views(pos,keyp,ikeyp,mouse_0=None,mouse_1=None):\n",
    "    keyp_colors = ['dodgerblue','green','red','orange']\n",
    "    plt.figure(figsize = (15,5))\n",
    "\n",
    "\n",
    "    for i_sub,(p1,p2) in enumerate(zip([0,0,1],[1,2,2])):\n",
    "        plt.subplot(1,3,1+i_sub)\n",
    "\n",
    "        posi = pos.cpu().numpy()\n",
    "        plt.plot(posi[:,p1],posi[:,p2],'.',alpha=.01,c='k')\n",
    "\n",
    "\n",
    "        if mouse_0 is not None:\n",
    "            lw = 3\n",
    "            plt.plot(mouse_0[:,p1],mouse_0[:,p2],'o-',lw=lw,c='k')\n",
    "            plt.plot(mouse_1[:,p1],mouse_1[:,p2],'o-',lw=lw,c='peru')\n",
    "\n",
    "#             ss = 10\n",
    "#             plt.plot(mouse_0[p1,p1],mouse_0[p1,p2],'v',markersize=ss,c='peru')\n",
    "#             plt.plot(mouse_1[p1,p1],mouse_1[p1,p2],'v',markersize=ss,c='black')\n",
    "\n",
    "#             plt.plot(mouse_0[p2,p1],mouse_0[p2,p2],'o',markersize=ss,c='peru')\n",
    "#             plt.plot(mouse_1[p2,p1],mouse_1[p2,p2],'o',markersize=ss,c='black')\n",
    "\n",
    "        for ik,colors in enumerate(keyp_colors):\n",
    "            xy = keyp[ikeyp == ik,:].cpu().numpy()\n",
    "            xy = keyp[ikeyp == ik,:].cpu().numpy()\n",
    "            x = xy[:,p1]\n",
    "            y = xy[:,p2]\n",
    "\n",
    "            plt.plot(x,y,'o',c=keyp_colors[ik],alpha = 0.3)\n",
    "        \n",
    "        plt.xlim([-.2,.2])\n",
    "        plt.ylim([-.2,.2])\n",
    "\n",
    "    plt.show()    \n",
    "    \n",
    "    \n",
    "click_start = True\n",
    "for start_frame in np.arange(0,30000,100):\n",
    "    pos,pos_weights,keyp,ikeyp = loading_wrapper(start_frame,jagged_lines)\n",
    "    \n",
    "    criterion, mouse_0, mouse_1 = check_mouse_separation(keyp,ikeyp)\n",
    "    \n",
    "    if criterion:\n",
    "        plot_top_view(pos,keyp,ikeyp,mouse_0,mouse_1)\n",
    "        plot_3_views(pos,keyp,ikeyp,mouse_0,mouse_1)\n",
    "        break\n",
    "\n"
   ]
  },
  {
   "cell_type": "code",
   "execution_count": null,
   "metadata": {},
   "outputs": [],
   "source": []
  },
  {
   "cell_type": "code",
   "execution_count": 44,
   "metadata": {},
   "outputs": [],
   "source": [
    "# OK now we have a good starting frame!\n",
    "\n",
    "from utils.cuda_tracking_utils_weights_for_figures import body_constants, particles_to_distance_cuda, clean_keyp_by_r\n",
    "from utils.cuda_tracking_utils_weights_for_figures import loading_wrapper\n",
    "from utils.clicking import *\n",
    "\n",
    "\n"
   ]
  },
  {
   "cell_type": "code",
   "execution_count": null,
   "metadata": {},
   "outputs": [],
   "source": []
  },
  {
   "cell_type": "code",
   "execution_count": 45,
   "metadata": {},
   "outputs": [],
   "source": [
    "# # convert the mouse_0, mouse_1 into a starting guess\n",
    "has_implant = False\n",
    "if has_implant:\n",
    "    pass # todo\n",
    "else:\n",
    "    # x0_start is a,b,s, theta, phi, xyz\n",
    "    # negative angle on b, because the rotation is down\n",
    "    vec_0 = mouse_0[0,:] - mouse_0[1,:]\n",
    "    center_0 = mouse_0[1,:] + 0.5 *vec_0\n",
    "    g_0 = angle_between(np.array([1,0,0]),vec_0 *np.array([1,1,0]) )\n",
    "    b_0 = - angle_between(vec_0 * np.array([1,1,0]),vec_0) \n",
    "    mouse_0_start = np.hstack([ np.array([b_0,g_0,.9,0.,0.]), center_0])\n",
    "    \n",
    "    # x0_start is a,b,s, theta, phi, xyz\n",
    "    vec_1 = mouse_1[0,:] - mouse_1[1,:]\n",
    "    center_1 = mouse_1[1,:] + 0.5 *vec_1\n",
    "    g_1 = angle_between(np.array([1,0,0]),vec_1 *np.array([1,1,0]) )\n",
    "    b_1 = - angle_between(vec_1 * np.array([1,1,0]),vec_1)  \n",
    "    mouse_1_start = np.hstack([ np.array([b_1,g_1,.9,0.,0.]), center_1])\n",
    "    \n",
    "    x0_start = np.hstack([mouse_0_start, mouse_1_start])\n",
    "    \n",
    "    \n",
    "    "
   ]
  },
  {
   "cell_type": "code",
   "execution_count": 46,
   "metadata": {},
   "outputs": [
    {
     "name": "stdout",
     "output_type": "stream",
     "text": [
      "tensor([[-0.1213, -2.6474,  0.9000,  0.0000,  0.0000,  0.0514,  0.0278,  0.0258,\n",
      "          0.9889, -2.8168,  0.9000,  0.0000,  0.0000, -0.1009,  0.0367,  0.0580]],\n",
      "       device='cuda:0')\n",
      "torch.Size([1, 16])\n",
      "torch.Size([3259, 3])\n"
     ]
    }
   ],
   "source": [
    "pos,pos_weights,keyp,ikeyp = loading_wrapper(start_frame,jagged_lines)\n",
    "\n",
    "part = torch.Tensor(x0_start).to(torch_device).unsqueeze(0)\n",
    "# no need for the the particle to have gradients\n",
    "part.requires_grad = False\n",
    "\n",
    "print(part)\n",
    "print(part.shape)\n",
    "print(pos.shape)"
   ]
  },
  {
   "cell_type": "markdown",
   "metadata": {},
   "source": [
    "# Import the actual particle filter tracking engine, 'MousePFilt', and fit the first frame"
   ]
  },
  {
   "cell_type": "code",
   "execution_count": 47,
   "metadata": {},
   "outputs": [
    {
     "name": "stdout",
     "output_type": "stream",
     "text": [
      "tensor([[   inf,    inf, 1.0000, 1.0467, 1.0467,    inf,    inf, 0.0700,    inf,\n",
      "            inf, 1.0000, 1.0467, 1.0467,    inf,    inf, 0.0700]],\n",
      "       device='cuda:0')\n",
      "tensor([[   -inf,    -inf,  0.3000, -1.0467, -1.0467,    -inf,    -inf,  0.0000,\n",
      "            -inf,    -inf,  0.3000, -1.0467, -1.0467,    -inf,    -inf,  0.0000]],\n",
      "       device='cuda:0')\n"
     ]
    }
   ],
   "source": [
    "# get the limits for the tracking and the residual functions\n",
    "from utils.cuda_tracking_utils_weights_for_figures import search_cone, global_min, global_max\n",
    "from utils.cuda_tracking_utils_weights_for_figures import add_implant_residual,add_body_residual,add_ass_residual, add_ear_residual, add_nose_residual\n",
    "\n",
    "# for single mice\n",
    "# global_min = global_min[:3,4:]\n",
    "# global_max = global_max[:,:3]\n",
    "from utils.cuda_tracking_utils_weights_for_figures import search_cone_noimp, global_min_noimp, global_max_noimp\n",
    "\n",
    "print(global_max_noimp)\n",
    "print(global_min_noimp)"
   ]
  },
  {
   "cell_type": "code",
   "execution_count": 48,
   "metadata": {},
   "outputs": [
    {
     "name": "stdout",
     "output_type": "stream",
     "text": [
      "it 0 of 1, best loss is 0.01000188384205103, time 0.016990891999739688\n"
     ]
    }
   ],
   "source": [
    "from utils.cuda_tracking_utils_weights_for_figures import MousePFilt, make_some_bounds,particles_to_body_supports_cuda\n",
    "\n",
    "has_implant = False\n",
    "if has_implant:\n",
    "    upper_bound,lower_bound = make_some_bounds(part,search_cone,global_max,global_min)\n",
    "    pzo = MousePFilt(swarm_size = 150)\n",
    "\n",
    "else:\n",
    "    part_noimp = part\n",
    "    upper_bound,lower_bound = make_some_bounds(part_noimp,search_cone_noimp/3,global_max_noimp,global_min_noimp)    \n",
    "    pzo = MousePFilt(swarm_size = 150,has_implant = False) # fix\n",
    "\n",
    "pzo.search_space(upper_bound,lower_bound)\n",
    "\n",
    "# populate the tracker\n",
    "pzo.populate(sobol = True)\n",
    "\n",
    "# send the data for tracking\n",
    "pzo.pos = pos[::1,:]\n",
    "pzo.pos_weights = pos_weights\n",
    "pzo.keyp = keyp\n",
    "pzo.ikeyp = ikeyp\n",
    "\n",
    "pzo.max_iterations = 1\n",
    "self = pzo\n",
    "pzo.run2(cinema=False)\n",
    "plt.close('all')\n",
    "pzo.plot_status_noimpl(reduce_mean=False,keep_open=True,plot_ellipsoids=True)"
   ]
  },
  {
   "cell_type": "code",
   "execution_count": 49,
   "metadata": {},
   "outputs": [
    {
     "data": {
      "text/plain": [
       "tensor([[-0.0819, -2.6768,  0.8871, -0.0382,  0.0445,  0.0586,  0.0345,  0.0256,\n",
       "          1.0379, -2.9151,  0.9248,  0.0272, -0.0330, -0.1044,  0.0421,  0.0451]],\n",
       "       device='cuda:0')"
      ]
     },
     "execution_count": 49,
     "metadata": {},
     "output_type": "execute_result"
    }
   ],
   "source": [
    "self.meanwinner"
   ]
  },
  {
   "cell_type": "markdown",
   "metadata": {},
   "source": [
    "# Make a wrapper to run the particle filter across all frames, set options"
   ]
  },
  {
   "cell_type": "code",
   "execution_count": 56,
   "metadata": {},
   "outputs": [],
   "source": [
    "\n",
    "if has_implant:\n",
    "    pzo = MousePFilt(swarm_size = 200)\n",
    "    def pzo_wrapper(part,pos,pos_weights,keyp,ikeyp,pzo):\n",
    "\n",
    "        upper_bound,lower_bound = make_some_bounds(part,search_cone,global_max,global_min)\n",
    "\n",
    "        pzo.search_space(upper_bound,lower_bound)\n",
    "        pzo.populate(sobol = True)\n",
    "\n",
    "        pzo.pos = pos\n",
    "        pzo.pos_weights = pos_weights\n",
    "\n",
    "        pzo.keyp = keyp\n",
    "        pzo.ikeyp = ikeyp\n",
    "\n",
    "        pzo.max_iterations = 5\n",
    "\n",
    "        pzo.run2(verbose=False,use_weights = False,barrier = True,fast_sort = True)\n",
    "\n",
    "        return pzo.meanwinner\n",
    "else:\n",
    "    pzo = MousePFilt(swarm_size = 200,has_implant = False) # fix\n",
    "    def pzo_wrapper(part,pos,pos_weights,keyp,ikeyp,pzo):\n",
    "        upper_bound,lower_bound = make_some_bounds(part,search_cone_noimp/3,global_max_noimp,global_min_noimp)    \n",
    "\n",
    "        pzo.search_space(upper_bound,lower_bound)\n",
    "        pzo.populate(sobol = True)\n",
    "\n",
    "        pzo.pos = pos\n",
    "        pzo.pos_weights = pos_weights\n",
    "\n",
    "        pzo.keyp = keyp\n",
    "        pzo.ikeyp = ikeyp\n",
    "\n",
    "        pzo.max_iterations = 3\n",
    "\n",
    "        pzo.run2(verbose=False,use_weights = False,barrier = True,fast_sort = True)\n",
    "\n",
    "        return pzo.meanwinner\n"
   ]
  },
  {
   "cell_type": "markdown",
   "metadata": {},
   "source": [
    "# Make a function to dump plots during tracking"
   ]
  },
  {
   "cell_type": "code",
   "execution_count": 57,
   "metadata": {},
   "outputs": [],
   "source": [
    "plt.close('all')\n",
    "\n",
    "from utils.plotting_during_tracking import *\n",
    "\n",
    "def plot_single_frame(part,pos, keyp, ikeyp,frame):\n",
    "    plt.ioff()\n",
    "    plt.close('all')\n",
    "    # the winning mouse is the one, with the lowest final loss\n",
    "    #end_loss = [np.mean(ll[-1:]) for ll in ll_holder]\n",
    "    dist0,_,body_support_0 = particles_to_distance_cuda(part[:,:8],pos,implant = False)\n",
    "    dist1,_,body_support_1 = particles_to_distance_cuda(part[:,8:],pos,implant = False)\n",
    "    body_supports = [body_support_0,body_support_1]\n",
    "    \n",
    "    #best_idx = np.argmin(end_loss)\n",
    "    #best_mouse = best_holder[best_idx]\n",
    "\n",
    "    fig = plt.figure(figsize=(7.5,7.5))\n",
    "\n",
    "    ax = fig.add_subplot(1, 1, 1, projection='3d')\n",
    "    plot_particles_new_nose(ax,part.cpu().numpy(),pos.cpu().numpy(),body_constants,alpha = .5,keyp = keyp.cpu(), ikeyp = ikeyp.cpu(),body_supports = [ [i.cpu() for i in j] for j in body_supports] )\n",
    "    \n",
    "    plt.axis('tight')\n",
    "    \n",
    "    ax.set_xlim(-.10,.20)\n",
    "    ax.set_ylim(-.20,.1)\n",
    "    ax.set_zlim(0,.3)\n",
    "    \n",
    "\n",
    "    ax.view_init(elev=60., azim=-147.)\n",
    "\n",
    "    \n",
    "    plt.savefig('frames/temp/frame_'+str(frame).zfill(6)+'.png')\n",
    "#     plt.show()\n",
    "    \n",
    "    plt.close('all')\n",
    "    \n",
    "# frame = start_frame\n",
    "# plot_single_frame(part,pos, keyp, ikeyp,frame)"
   ]
  },
  {
   "cell_type": "markdown",
   "metadata": {},
   "source": [
    "# And import a bank for online filtering and prediction"
   ]
  },
  {
   "cell_type": "code",
   "execution_count": 58,
   "metadata": {},
   "outputs": [],
   "source": [
    "plt.close('all')\n",
    "\n",
    "from utils.cuda_tracking_utils import rls_bank\n",
    "\n",
    "def ML_predict(bank,i_frame,embedding,tracking_holder,guessing_holder):\n",
    "    # # do the RLS step to predict the next step\n",
    "    if (i_frame > embedding + 2)*True:\n",
    "        x_train = np.flip( tracking_holder[:-1,(i_frame-embedding):i_frame],axis = 1)\n",
    "        y_train = tracking_holder[:-1,i_frame]\n",
    "        d = torch.from_numpy(y_train.copy())\n",
    "        x = torch.from_numpy(x_train.copy())\n",
    "        # make sure the type is right\n",
    "        d = torch.tensor(d,dtype = torch.float32)\n",
    "        x = torch.tensor(x,dtype = torch.float32)\n",
    "\n",
    "        # and send to the holder\n",
    "        bank.adapt(d,x)\n",
    "\n",
    "        # guess the upcoming step!\n",
    "        x_predict = torch.cat((d.unsqueeze(1),x[:,:-1]),1)\n",
    "        \n",
    "        part_guess = bank.predict(x_predict)\n",
    "        if ( i_frame +1 ) < ( guessing_holder.shape[1] - 2 ):\n",
    "            guessing_holder[:-1,i_frame+1] = part_guess[:].numpy()\n",
    "        return bank,part_guess.unsqueeze(0),guessing_holder\n",
    "    else:\n",
    "        return bank,0.,guessing_holder\n",
    "    "
   ]
  },
  {
   "cell_type": "markdown",
   "metadata": {},
   "source": [
    "# Now, run the tracking across all frames and save to disk"
   ]
  },
  {
   "cell_type": "code",
   "execution_count": 59,
   "metadata": {},
   "outputs": [
    {
     "data": {
      "application/vnd.jupyter.widget-view+json": {
       "model_id": "412a4f2e02f24e71890f28946516ebe5",
       "version_major": 2,
       "version_minor": 0
      },
      "text/plain": [
       "HBox(children=(IntProgress(value=0, max=32529), HTML(value='')))"
      ]
     },
     "metadata": {},
     "output_type": "display_data"
    },
    {
     "name": "stdout",
     "output_type": "stream",
     "text": [
      "saving tracking at frame 0 of 32829...\n",
      "tracking saved!\n"
     ]
    },
    {
     "name": "stderr",
     "output_type": "stream",
     "text": [
      "/home/chrelli/anaconda2/envs/mousepose/lib/python3.6/site-packages/ipykernel_launcher.py:13: UserWarning: To copy construct from a tensor, it is recommended to use sourceTensor.clone().detach() or sourceTensor.clone().detach().requires_grad_(True), rather than torch.tensor(sourceTensor).\n",
      "  del sys.path[0]\n",
      "/home/chrelli/anaconda2/envs/mousepose/lib/python3.6/site-packages/ipykernel_launcher.py:14: UserWarning: To copy construct from a tensor, it is recommended to use sourceTensor.clone().detach() or sourceTensor.clone().detach().requires_grad_(True), rather than torch.tensor(sourceTensor).\n",
      "  \n"
     ]
    },
    {
     "name": "stdout",
     "output_type": "stream",
     "text": [
      "saving tracking at frame 6000 of 32829...\n",
      "tracking saved!\n",
      "saving tracking at frame 12000 of 32829...\n",
      "tracking saved!\n",
      "saving tracking at frame 18000 of 32829...\n",
      "tracking saved!\n",
      "saving tracking at frame 24000 of 32829...\n",
      "tracking saved!\n",
      "saving tracking at frame 30000 of 32829...\n",
      "tracking saved!\n",
      "\n",
      "pickling tracking at frame 32528...\n",
      "behavior tracking pickled!\n"
     ]
    }
   ],
   "source": [
    "# start_frame =  10*60\n",
    "\n",
    "n_frames = len(jagged_lines)-1-start_frame\n",
    "\n",
    "# do 1000 frames!\n",
    "# n_frames = 1000\n",
    "# do one min for profiling\n",
    "# n_frames = 1*30*60 \n",
    "\n",
    "end_frame = start_frame + n_frames\n",
    "\n",
    "if has_implant:\n",
    "    part = torch.Tensor(x0_start).to(torch_device).unsqueeze(0)\n",
    "    pzo = MousePFilt(swarm_size = 200)\n",
    "    part = pzo_wrapper(part,pos,pos_weights,keyp,ikeyp,pzo)\n",
    "\n",
    "else:\n",
    "    part = torch.Tensor(x0_start).to(torch_device).unsqueeze(0)   \n",
    "    pzo = MousePFilt(swarm_size = 200,has_implant = False)\n",
    "    part = pzo_wrapper(part,pos,pos_weights,keyp,ikeyp,pzo)\n",
    "\n",
    "\n",
    "embedding = 5\n",
    "bank = rls_bank(n_vars = part.shape[1], embedding=embedding)\n",
    "bank.mu = .99\n",
    "\n",
    "x0_trace = []\n",
    "frame_trace = []\n",
    "history_trace = []\n",
    "# just make a numpy holder for it directly\n",
    "# and a frame index which tells us which frame we're currently tracking\n",
    "tracking_holder = np.zeros((part.shape[1]+1,n_frames))\n",
    "guessing_holder = np.zeros((part.shape[1]+1,n_frames))*np.nan\n",
    "\n",
    "from tqdm import tqdm\n",
    "\n",
    "with torch.no_grad():\n",
    "    for i_frame, this_frame in enumerate(tqdm_notebook(range(start_frame,start_frame+n_frames))):\n",
    "        # if we've learned, preditc\n",
    "\n",
    "        # load and fit\n",
    "        pos,pos_weights,keyp,ikeyp = pos,pos_weights,keyp,ikeyp = loading_wrapper(this_frame,jagged_lines)\n",
    "        # optional, cut down the cloud a bit\n",
    "#         pos = pos[::3,:]\n",
    "\n",
    "#         keyp,ikeyp = clean_keyp_by_r(part,keyp,ikeyp,has_implant=has_implant)\n",
    "    #     part,history = klm_routine(part,pos,keyp,ikeyp,max_iters = 100,verbose=False,save_history = True,ftol = 1e-4)\n",
    "    #     part, histo = pzo_step(part,pos,keyp,ikeyp)\n",
    "        part = pzo_wrapper(part,pos,pos_weights,keyp,ikeyp,pzo)\n",
    "        # 3. add to fitting history\n",
    "        x0_trace.append(part.cpu().numpy())\n",
    "        frame_trace.append(this_frame)\n",
    "    #     history_trace.append(history)\n",
    "        # and update the frame index and the tracking_holder\n",
    "        tracking_holder[:-1,i_frame] = part[0,:].cpu().numpy()\n",
    "        tracking_holder[-1,i_frame] = this_frame\n",
    "\n",
    "        # always adapt!\n",
    "        if True:\n",
    "            bank,part_guess,guessing_holder = ML_predict(bank,i_frame,embedding,tracking_holder,guessing_holder)\n",
    "\n",
    "        if i_frame > 150 and True:\n",
    "            # do prediction after the first 150 frames\n",
    "            pass\n",
    "    #         part_guess[:,[5,13]] = part[:,[5,13]]\n",
    "    #         part = part_guess\n",
    "    #         part[:,[0,1,2,6,7,8,9,10,11,14,15,16]] = part_guess[:,[0,1,2,6,7,8,9,10,11,14,15,16]]\n",
    "            if has_implant:\n",
    "                part[:,[6,7,8,14,15,16]] = part_guess[:,[6,7,8,14,15,16]].to(torch_device)\n",
    "#                 part = part_guess.to(torch_device)\n",
    "            else:\n",
    "#                 part[:,[0,1,2,5,6,7,8,9,10,13,14,15]] = part_guess[:,[0,1,2,5,6,7,8,9,10,13,14,15]].to(torch_device)\n",
    "                #  part = part_guess.to(torch_device)\n",
    "                part[:,[5,6,7,13,14,15]] = part_guess[:,[5,6,7,13,14,15]].to(torch_device)\n",
    "    \n",
    "    \n",
    "        if i_frame%2 == 0 and False:\n",
    "            # fully update the \n",
    "            if i_frame > 150:\n",
    "                plot_single_frame(part_guess.to(torch_device),pos, keyp, ikeyp,this_frame)    \n",
    "            else:\n",
    "                plot_single_frame(part,pos, keyp, ikeyp,this_frame)    \n",
    "\n",
    "        if i_frame%6000 == 0:\n",
    "            top_folder = 'frames/'\n",
    "            print(\"saving tracking at frame {} of {}...\".format(i_frame,start_frame+n_frames))\n",
    "            np.save(top_folder+'tracking_holder.npy',tracking_holder)\n",
    "            np.save(top_folder+'guessing_holder.npy',guessing_holder)\n",
    "            np.save(top_folder+'body_constants.npy',body_constants)\n",
    "            print(\"tracking saved!\")    \n",
    "\n",
    "            \n",
    "# TODO also add the date of the folder as a string?\n",
    "tracked_behavior = {\n",
    "    \"var\": ['b','c','s','psi','theta','phi','x','y','z','b','c','s','theta','phi','x','y','z'],\n",
    "    \"ivar\": ['b0','c0','s0','psi0','theta0','phi0','x0','y0','z0','b1','c1','s1','theta1','phi1','x1','y1','z1'],\n",
    "    \"body_constants\": body_constants,\n",
    "    \"start_frame\": start_frame,\n",
    "    \"end_frame\": end_frame,\n",
    "    \"tracking_holder\": tracking_holder,\n",
    "    \"guessing_holder\": guessing_holder,\n",
    "    \"data_folder\": data_folder\n",
    "}\n",
    "\n",
    "print(\"pickling tracking at frame {}...\".format(i_frame))\n",
    "with open(data_folder +'/tracked_behavior.pkl', 'wb+') as f:\n",
    "    pickle.dump(tracked_behavior,f)\n",
    "print(\"behavior tracking pickled!\")                "
   ]
  },
  {
   "cell_type": "code",
   "execution_count": 60,
   "metadata": {},
   "outputs": [],
   "source": [
    "#%% Plot tracked data to see that everything is fine\n",
    "plt.close('all')\n",
    "plt.figure()\n",
    "\n",
    "NNN = ['b','c','s','psi','theta','phi','x','y','z','b','c','s','theta','phi','x','y','z']\n",
    "for ii,name in enumerate(NNN):\n",
    "    plt.subplot(len(NNN),1,ii+1)\n",
    "    index = np.arange(tracking_holder.shape[1])\n",
    "    plt.plot(index[:i_frame],tracking_holder[ii,:i_frame])\n",
    "    plt.plot(index[:i_frame],guessing_holder[ii,:i_frame])\n",
    "    plt.ylabel(str(ii)+'_'+name)\n",
    "plt.show()\n",
    " "
   ]
  },
  {
   "cell_type": "code",
   "execution_count": 36,
   "metadata": {},
   "outputs": [],
   "source": [
    "# TRY to develop a kind of 3D kalman better version of the KRLS-T\n"
   ]
  },
  {
   "cell_type": "code",
   "execution_count": null,
   "metadata": {},
   "outputs": [],
   "source": []
  },
  {
   "cell_type": "code",
   "execution_count": null,
   "metadata": {},
   "outputs": [],
   "source": []
  },
  {
   "cell_type": "code",
   "execution_count": null,
   "metadata": {},
   "outputs": [],
   "source": []
  },
  {
   "cell_type": "code",
   "execution_count": null,
   "metadata": {},
   "outputs": [],
   "source": []
  }
 ],
 "metadata": {
  "kernelspec": {
   "display_name": "Python 3",
   "language": "python",
   "name": "python3"
  },
  "language_info": {
   "codemirror_mode": {
    "name": "ipython",
    "version": 3
   },
   "file_extension": ".py",
   "mimetype": "text/x-python",
   "name": "python",
   "nbconvert_exporter": "python",
   "pygments_lexer": "ipython3",
   "version": "3.7.7"
  }
 },
 "nbformat": 4,
 "nbformat_minor": 4
}

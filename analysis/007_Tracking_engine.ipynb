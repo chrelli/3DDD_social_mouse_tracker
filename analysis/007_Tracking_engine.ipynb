{
 "cells": [
  {
   "cell_type": "code",
   "execution_count": 1,
   "metadata": {},
   "outputs": [],
   "source": [
    "from IPython import get_ipython\n",
    "\n",
    "%matplotlib qt\n",
    "%load_ext autoreload\n",
    "%autoreload 2\n",
    "\n",
    "\n",
    "import time, os, sys, shutil\n",
    "from utils.fitting_utils import *\n",
    "\n",
    "# for math and plotting\n",
    "import pandas as pd\n",
    "import numpy as np\n",
    "import scipy as sp\n",
    "import matplotlib.pyplot as plt\n",
    "\n",
    "import matplotlib\n",
    "matplotlib.use('Qt5Agg')\n",
    "# %matplotlib notebook\n",
    "# %matplotlib widget\n",
    "# %matplotlib qt5\n",
    "# %matplotlib nbagg\n",
    "\n",
    "from itertools import compress # for list selection with logical\n",
    "from tqdm import tqdm\n",
    "\n",
    "from multiprocessing import Process\n",
    "\n",
    "# ALLSO JIT STUFF\n",
    "from numba import jit, njit\n",
    "\n",
    "# and pytorch\n",
    "import torch\n",
    "\n",
    "import sys, os, pickle\n",
    "# import cv2\n",
    "from colour import Color\n",
    "import h5py\n",
    "from tqdm import tqdm, tqdm_notebook\n",
    "import glob\n",
    "import itertools"
   ]
  },
  {
   "cell_type": "code",
   "execution_count": 2,
   "metadata": {},
   "outputs": [
    {
     "name": "stdout",
     "output_type": "stream",
     "text": [
      "True\n",
      "1\n",
      "GeForce RTX 2080 Ti\n",
      "cuda:0\n"
     ]
    }
   ],
   "source": [
    "# Check CUDA\n",
    "print(torch.cuda.is_available())\n",
    "print(torch.cuda.device_count())\n",
    "print(torch.cuda.get_device_name(0))\n",
    "torch_device = torch.device(\"cuda:0\" if torch.cuda.is_available() else \"cpu\")\n",
    "print(torch_device)"
   ]
  },
  {
   "cell_type": "code",
   "execution_count": 3,
   "metadata": {},
   "outputs": [],
   "source": [
    "# setup for pretty plotting\n",
    "matplotlib.rcParams['font.sans-serif'] = \"Liberation Sans\"\n",
    "# Then, \"ALWAYS use sans-serif fonts\"\n",
    "matplotlib.rcParams['font.family'] = \"sans-serif\"\n",
    "\n",
    "matplotlib.rc('font', family='sans-serif') \n",
    "matplotlib.rc('text', usetex='false') \n",
    "matplotlib.rcParams.update({'font.size': 13})\n",
    "\n",
    "from palettable.cmocean.sequential import Algae_6\n",
    "cmpl = Algae_6.mpl_colors\n",
    "\n",
    "def adjust_spines(ax, spines):\n",
    "    for loc, spine in ax.spines.items():\n",
    "        if loc in spines:\n",
    "            spine.set_position(('outward', 10))  # outward by 10 points\n",
    "            spine.set_smart_bounds(True)\n",
    "        else:\n",
    "            spine.set_color('none')  # don't draw spine\n",
    "\n",
    "    # turn off ticks where there is no spine\n",
    "    if 'left' in spines:\n",
    "        ax.yaxis.set_ticks_position('left')\n",
    "    else:\n",
    "        # no yaxis ticks\n",
    "        ax.yaxis.set_ticks([])\n",
    "\n",
    "    if 'bottom' in spines:\n",
    "        ax.xaxis.set_ticks_position('bottom')\n",
    "    else:\n",
    "        # no xaxis ticks\n",
    "        ax.xaxis.set_ticks([])\n"
   ]
  },
  {
   "cell_type": "markdown",
   "metadata": {},
   "source": [
    "# Load the pre-processed data and display an example frame"
   ]
  },
  {
   "cell_type": "code",
   "execution_count": 4,
   "metadata": {},
   "outputs": [
    {
     "name": "stdout",
     "output_type": "stream",
     "text": [
      "<KeysViewHDF5 ['dataset']>\n",
      "25164\n"
     ]
    }
   ],
   "source": [
    "data_folder = 'example_data/tracking/'\n",
    "\n",
    "top_folder_0 = '/media/chrelli/Data0/recording_20200806-171004'\n",
    "top_folder_1 = '/media/chrelli/Data1/recording_20200806-171004'\n",
    "\n",
    "data_folder = top_folder_0\n",
    "\n",
    "\n",
    "# load ALL the frames as jagged lines \n",
    "with h5py.File(data_folder+'/pre_processed_frames.hdf5', mode='r') as hdf5_file:\n",
    "    print(hdf5_file.keys())\n",
    "    print(len(hdf5_file['dataset']))\n",
    "    jagged_lines = hdf5_file['dataset'][...] \n"
   ]
  },
  {
   "cell_type": "code",
   "execution_count": 5,
   "metadata": {},
   "outputs": [
    {
     "name": "stdout",
     "output_type": "stream",
     "text": [
      "[1 1 1 2 3 1 1 1 1 1 1 2 2 3 3 1 1 1]\n",
      "(2232, 3)\n"
     ]
    }
   ],
   "source": [
    "from utils.cuda_tracking_utils import unpack_from_jagged, cheap4d\n",
    "# kill first 6 secs of the frames (delay is ~180)\n",
    "start_frame = 20*60\n",
    "pos, pos_weights, keyp, pkeyp, ikeyp = unpack_from_jagged(jagged_lines[start_frame])\n",
    "print(ikeyp)\n",
    "print(pos.shape)\n",
    "fig = plt.gcf()\n",
    "plt.title(\"N positions is {}\".format(pos.shape))\n",
    "plt.show()\n",
    "cheap4d(pos,keyp,ikeyp)\n"
   ]
  },
  {
   "cell_type": "markdown",
   "metadata": {},
   "source": [
    "<img src=\"figs/tracking_01.png\" width = 50%>"
   ]
  },
  {
   "cell_type": "markdown",
   "metadata": {},
   "source": [
    "# Initialize tracking with a click"
   ]
  },
  {
   "cell_type": "code",
   "execution_count": 6,
   "metadata": {},
   "outputs": [
    {
     "name": "stderr",
     "output_type": "stream",
     "text": [
      "/home/chrelli/git/macayla/ebbesen_froemke_2020_code/analysis/utils/clicking.py:105: MatplotlibDeprecationWarning: Adding an axes using the same arguments as a previous axes currently reuses the earlier instance.  In a future version, a new instance will always be created and returned.  Meanwhile, this warning can be suppressed, and the future behavior ensured, by passing a unique label to each axes instance.\n",
      "  plt.axes().set_aspect('equal', 'datalim')\n",
      "/home/chrelli/git/macayla/ebbesen_froemke_2020_code/analysis/utils/clicking.py:131: MatplotlibDeprecationWarning: Adding an axes using the same arguments as a previous axes currently reuses the earlier instance.  In a future version, a new instance will always be created and returned.  Meanwhile, this warning can be suppressed, and the future behavior ensured, by passing a unique label to each axes instance.\n",
      "  plt.axes().set_aspect('equal', 'datalim')\n"
     ]
    },
    {
     "name": "stdout",
     "output_type": "stream",
     "text": [
      "tensor([[ 0.0000, -2.8578,  0.8000,  0.0000,  0.0000,  0.1399, -0.0425,  0.0918,\n",
      "          0.0220,  0.0000, -2.5673,  0.8000,  0.0000, -0.2313,  0.0801, -0.0996,\n",
      "          0.0220]], device='cuda:0')\n",
      "torch.Size([1, 17])\n",
      "torch.Size([2232, 3])\n"
     ]
    }
   ],
   "source": [
    "from utils.cuda_tracking_utils_weights_for_figures import body_constants, particles_to_distance_cuda, clean_keyp_by_r\n",
    "from utils.cuda_tracking_utils_weights_for_figures import loading_wrapper\n",
    "from utils.clicking import *\n",
    "\n",
    "click_start = True\n",
    "if True:\n",
    "    pos,pos_weights,keyp,ikeyp = loading_wrapper(start_frame,jagged_lines)\n",
    "    x0_start,click_holder = initialize_x0(pos.cpu().numpy(),click_start=click_start)\n",
    "\n",
    "x0_start = x0_start[[1,2,3,4,5,6,7,8,9,11,12,13,15,16,17,18,19]]\n",
    "    \n",
    "part = torch.Tensor(x0_start).to(torch_device).unsqueeze(0)\n",
    "# no need for the the particle to have gradients\n",
    "part.requires_grad = False\n",
    "keyp,ikeyp = clean_keyp_by_r(part,keyp,ikeyp)\n",
    "\n",
    "print(part)\n",
    "print(part.shape)\n",
    "print(pos.shape)"
   ]
  },
  {
   "cell_type": "markdown",
   "metadata": {},
   "source": [
    "<img src=\"figs/tracking_02.png\" width = 50%>"
   ]
  },
  {
   "cell_type": "markdown",
   "metadata": {},
   "source": [
    "# Plot the clicked start"
   ]
  },
  {
   "cell_type": "code",
   "execution_count": 7,
   "metadata": {},
   "outputs": [],
   "source": [
    "plt.close('all')\n",
    "positions = pos.cpu().numpy()\n",
    "import cmocean\n",
    "###############\n",
    "# Show a 2D plot and ask for two clicks\n",
    "###############\n",
    "plt.figure(figsize = (4,4))\n",
    "plt.scatter(positions[:,0],positions[:,1],c=positions[:,2]/np.max(positions[:,2]),s=5,cmap=cmocean.cm.algae_r)\n",
    "ax = plt.gca\n",
    "# plt.axes().set_aspect('equal', 'datalim')\n",
    "# plt.title('click center of hip, then mid, then head of mouse!')\n",
    "w,h = 570,800\n",
    "# plt.get_current_fig_manager().window.setGeometry(1920-w-10,60,w,h)\n",
    "\n",
    "clicks = np.vstack(click_holder)\n",
    "plt.plot(clicks[:3,0],clicks[:3,1],'o-',c=cmpl[1],lw=2)\n",
    "plt.plot(clicks[3:,0],clicks[3:,1],'o-',c=cmpl[1],lw=2)\n",
    "\n",
    "plt.plot([.15,.2],[-.16,-.16],'-k')\n",
    "\n",
    "# plt.xticks([])\n",
    "# plt.yticks([])\n",
    "plt.axis('equal')\n",
    "plt.axis('off')\n",
    "# plt.xlabel('x [m]')\n",
    "# plt.ylabel('y [m]')\n",
    "ax = plt.gca()\n",
    "# adjust_spines(ax,['bottom','left'])\n",
    "plt.tight_layout()\n",
    "\n",
    "plt.show()"
   ]
  },
  {
   "cell_type": "markdown",
   "metadata": {},
   "source": [
    "<img src=\"figs/tracking_03.png\" width = 50%>"
   ]
  },
  {
   "cell_type": "markdown",
   "metadata": {},
   "source": [
    "# Import the actual particle filter tracking engine, 'MousePFilt', and fit the first frame"
   ]
  },
  {
   "cell_type": "code",
   "execution_count": 8,
   "metadata": {},
   "outputs": [
    {
     "name": "stdout",
     "output_type": "stream",
     "text": [
      "tensor([[   inf,    inf, 1.0000, 1.0467,    inf,    inf,    inf, 0.0700,    inf,\n",
      "            inf, 1.0000, 1.0467,    inf,    inf,    inf, 0.0700]],\n",
      "       device='cuda:0')\n"
     ]
    }
   ],
   "source": [
    "# get the limits for the tracking and the residual functions\n",
    "from utils.cuda_tracking_utils_weights_for_figures import search_cone, global_min, global_max\n",
    "from utils.cuda_tracking_utils_weights_for_figures import add_implant_residual,add_body_residual,add_ass_residual, add_ear_residual, add_nose_residual\n",
    "\n",
    "# for single mice\n",
    "# global_min = global_min[:3,4:]\n",
    "# global_max = global_max[:,:3]\n",
    "from utils.cuda_tracking_utils_weights_for_figures import search_cone_noimp, global_min_noimp, global_max_noimp\n",
    "\n",
    "print(global_max_noimp)"
   ]
  },
  {
   "cell_type": "code",
   "execution_count": 9,
   "metadata": {},
   "outputs": [
    {
     "name": "stdout",
     "output_type": "stream",
     "text": [
      "it 0 of 5, best loss is 0.01458489615470171, time 0.03833114999724785\n",
      "it 1 of 5, best loss is 0.012882950715720654, time 0.04120013699866831\n",
      "it 2 of 5, best loss is 0.012748819775879383, time 0.017799650002416456\n",
      "it 3 of 5, best loss is 0.012287097051739693, time 0.01777367199974833\n",
      "it 4 of 5, best loss is 0.012141633778810501, time 0.017760439000994666\n"
     ]
    }
   ],
   "source": [
    "from utils.cuda_tracking_utils_weights_for_figures import MousePFilt, make_some_bounds,particles_to_body_supports_cuda\n",
    "\n",
    "has_implant = False\n",
    "if has_implant:\n",
    "    upper_bound,lower_bound = make_some_bounds(part,search_cone,global_max,global_min)\n",
    "    pzo = MousePFilt(swarm_size = 200)\n",
    "\n",
    "else:\n",
    "    part_noimp = part[:,[0,1,2,4,5,6,7,8,9,10,11,12,13,14,15,16]]\n",
    "    upper_bound,lower_bound = make_some_bounds(part_noimp,search_cone_noimp,global_max_noimp,global_min_noimp)    \n",
    "    pzo = MousePFilt(swarm_size = 200,has_implant = False) # fix\n",
    "\n",
    "pzo.search_space(upper_bound,lower_bound)\n",
    "\n",
    "# populate the tracker\n",
    "pzo.populate(sobol = True)\n",
    "\n",
    "# send the data for tracking\n",
    "pzo.pos = pos\n",
    "pzo.pos_weights = pos_weights\n",
    "pzo.keyp = keyp\n",
    "pzo.ikeyp = ikeyp\n",
    "\n",
    "pzo.max_iterations = 5\n",
    "self = pzo\n",
    "pzo.run2(cinema=False)\n"
   ]
  },
  {
   "cell_type": "code",
   "execution_count": 10,
   "metadata": {},
   "outputs": [
    {
     "data": {
      "text/plain": [
       "tensor([[ 0.4320, -3.0842,  0.8075,  0.3197,  0.4766, -0.0493,  0.0899,  0.0163,\n",
       "          0.2467, -3.0072,  0.7549,  0.7694, -1.2755,  0.0773, -0.0998,  0.0159]],\n",
       "       device='cuda:0')"
      ]
     },
     "execution_count": 10,
     "metadata": {},
     "output_type": "execute_result"
    }
   ],
   "source": [
    "self.meanwinner"
   ]
  },
  {
   "cell_type": "markdown",
   "metadata": {},
   "source": [
    "# You can plot without estimating a single fit to view filter behavior..."
   ]
  },
  {
   "cell_type": "code",
   "execution_count": 11,
   "metadata": {},
   "outputs": [],
   "source": [
    "# like, after 1,5 and 10 iterations\n",
    "plt.close('all')\n",
    "pzo.plot_status_noimpl(reduce_mean=False,keep_open=True,plot_ellipsoids=True)"
   ]
  },
  {
   "cell_type": "markdown",
   "metadata": {},
   "source": [
    "<img src=\"figs/tracking_1it.png\" width=\"50%\">\n",
    "<img src=\"figs/tracking_5it.png\" width=\"50%\">\n",
    "<img src=\"figs/tracking_final.png\" width=\"50%\">"
   ]
  },
  {
   "cell_type": "markdown",
   "metadata": {},
   "source": [
    "# ...or make a point estimate and plot the ellipsoids"
   ]
  },
  {
   "cell_type": "code",
   "execution_count": 12,
   "metadata": {},
   "outputs": [],
   "source": [
    "plt.close('all')\n",
    "pzo.plot_status_noimpl(reduce_mean=True,keep_open=True,plot_ellipsoids=True)"
   ]
  },
  {
   "cell_type": "markdown",
   "metadata": {},
   "source": [
    "<img src=\"figs/tracking_final_reduce.png\" width=\"50%\">\n"
   ]
  },
  {
   "cell_type": "markdown",
   "metadata": {},
   "source": [
    "# Make a wrapper to run the particle filter across all frames, set options"
   ]
  },
  {
   "cell_type": "code",
   "execution_count": 13,
   "metadata": {},
   "outputs": [],
   "source": [
    "\n",
    "if has_implant:\n",
    "    pzo = MousePFilt(swarm_size = 200)\n",
    "    def pzo_wrapper(part,pos,pos_weights,keyp,ikeyp,pzo):\n",
    "\n",
    "        upper_bound,lower_bound = make_some_bounds(part,search_cone,global_max,global_min)\n",
    "\n",
    "        pzo.search_space(upper_bound,lower_bound)\n",
    "        pzo.populate(sobol = True)\n",
    "\n",
    "        pzo.pos = pos\n",
    "        pzo.pos_weights = pos_weights\n",
    "\n",
    "        pzo.keyp = keyp\n",
    "        pzo.ikeyp = ikeyp\n",
    "\n",
    "        pzo.max_iterations = 5\n",
    "\n",
    "        pzo.run2(verbose=False,use_weights = False,barrier = True,fast_sort = True)\n",
    "\n",
    "        return pzo.meanwinner\n",
    "else:\n",
    "    pzo = MousePFilt(swarm_size = 200,has_implant = False) # fix\n",
    "    def pzo_wrapper(part,pos,pos_weights,keyp,ikeyp,pzo):\n",
    "        upper_bound,lower_bound = make_some_bounds(part,search_cone_noimp,global_max_noimp,global_min_noimp)    \n",
    "\n",
    "        pzo.search_space(upper_bound,lower_bound)\n",
    "        pzo.populate(sobol = True)\n",
    "\n",
    "        pzo.pos = pos\n",
    "        pzo.pos_weights = pos_weights\n",
    "\n",
    "        pzo.keyp = keyp\n",
    "        pzo.ikeyp = ikeyp\n",
    "\n",
    "        pzo.max_iterations = 5\n",
    "\n",
    "        pzo.run2(verbose=False,use_weights = False,barrier = True,fast_sort = True)\n",
    "\n",
    "        return pzo.meanwinner\n"
   ]
  },
  {
   "cell_type": "markdown",
   "metadata": {},
   "source": [
    "# Make a function to dump plots during tracking"
   ]
  },
  {
   "cell_type": "code",
   "execution_count": 14,
   "metadata": {},
   "outputs": [],
   "source": [
    "plt.close('all')\n",
    "\n",
    "from utils.plotting_during_tracking import *\n",
    "\n",
    "def plot_single_frame(part,pos, keyp, ikeyp,frame):\n",
    "    plt.ioff()\n",
    "    plt.close('all')\n",
    "    # the winning mouse is the one, with the lowest final loss\n",
    "    #end_loss = [np.mean(ll[-1:]) for ll in ll_holder]\n",
    "    dist0,_,body_support_0 = particles_to_distance_cuda(part[:,:9],pos,implant = True)\n",
    "    dist1,_,body_support_1 = particles_to_distance_cuda(part[:,9:],pos,implant = False)\n",
    "    body_supports = [body_support_0,body_support_1]\n",
    "    \n",
    "    #best_idx = np.argmin(end_loss)\n",
    "    #best_mouse = best_holder[best_idx]\n",
    "\n",
    "    fig = plt.figure(figsize=(7.5,7.5))\n",
    "\n",
    "    ax = fig.add_subplot(1, 1, 1, projection='3d')\n",
    "    plot_particles_new_nose(ax,part.cpu().numpy(),pos.cpu().numpy(),body_constants,alpha = .5,keyp = keyp.cpu(), ikeyp = ikeyp.cpu(),body_supports = [ [i.cpu() for i in j] for j in body_supports] )\n",
    "    \n",
    "    plt.axis('tight')\n",
    "    \n",
    "    ax.set_xlim(-.10,.20)\n",
    "    ax.set_ylim(-.20,.1)\n",
    "    ax.set_zlim(0,.3)\n",
    "    \n",
    "\n",
    "    ax.view_init(elev=60., azim=-147.)\n",
    "\n",
    "    \n",
    "    plt.savefig('frames/frame_'+str(frame).zfill(6)+'.png')\n",
    "#     plt.show()\n",
    "    \n",
    "    plt.close('all')\n",
    "    \n",
    "# frame = start_frame\n",
    "# plot_single_frame(part,pos, keyp, ikeyp,frame)"
   ]
  },
  {
   "cell_type": "markdown",
   "metadata": {},
   "source": [
    "# And import a bank for online filtering and prediction"
   ]
  },
  {
   "cell_type": "code",
   "execution_count": 15,
   "metadata": {},
   "outputs": [],
   "source": [
    "plt.close('all')\n",
    "\n",
    "from utils.cuda_tracking_utils import rls_bank\n",
    "\n",
    "def ML_predict(bank,i_frame,embedding,tracking_holder,guessing_holder):\n",
    "    # # do the RLS step to predict the next step\n",
    "    if (i_frame > embedding + 2)*True:\n",
    "        x_train = np.flip( tracking_holder[:-1,(i_frame-embedding):i_frame],axis = 1)\n",
    "        y_train = tracking_holder[:-1,i_frame]\n",
    "        d = torch.from_numpy(y_train.copy())\n",
    "        x = torch.from_numpy(x_train.copy())\n",
    "        # make sure the type is right\n",
    "        d = torch.tensor(d,dtype = torch.float32)\n",
    "        x = torch.tensor(x,dtype = torch.float32)\n",
    "\n",
    "        # and send to the holder\n",
    "        bank.adapt(d,x)\n",
    "\n",
    "        # guess the upcoming step!\n",
    "        x_predict = torch.cat((d.unsqueeze(1),x[:,:-1]),1)\n",
    "        \n",
    "        part_guess = bank.predict(x_predict)\n",
    "        if ( i_frame +1 ) < ( guessing_holder.shape[1] - 2 ):\n",
    "            guessing_holder[:-1,i_frame+1] = part_guess[:].numpy()\n",
    "        return bank,part_guess.unsqueeze(0),guessing_holder\n",
    "    else:\n",
    "        return bank,0.,guessing_holder\n",
    "    "
   ]
  },
  {
   "cell_type": "markdown",
   "metadata": {},
   "source": [
    "# Now, run the tracking across all frames and save to disk"
   ]
  },
  {
   "cell_type": "code",
   "execution_count": 20,
   "metadata": {},
   "outputs": [
    {
     "name": "stderr",
     "output_type": "stream",
     "text": [
      "/home/chrelli/git/macayla/ebbesen_froemke_2020_code/analysis/utils/clicking.py:105: MatplotlibDeprecationWarning: Adding an axes using the same arguments as a previous axes currently reuses the earlier instance.  In a future version, a new instance will always be created and returned.  Meanwhile, this warning can be suppressed, and the future behavior ensured, by passing a unique label to each axes instance.\n",
      "  plt.axes().set_aspect('equal', 'datalim')\n",
      "/home/chrelli/git/macayla/ebbesen_froemke_2020_code/analysis/utils/clicking.py:131: MatplotlibDeprecationWarning: Adding an axes using the same arguments as a previous axes currently reuses the earlier instance.  In a future version, a new instance will always be created and returned.  Meanwhile, this warning can be suppressed, and the future behavior ensured, by passing a unique label to each axes instance.\n",
      "  plt.axes().set_aspect('equal', 'datalim')\n"
     ]
    },
    {
     "data": {
      "application/vnd.jupyter.widget-view+json": {
       "model_id": "ef14de5c226746d188c215a5a93252dc",
       "version_major": 2,
       "version_minor": 0
      },
      "text/plain": [
       "HBox(children=(IntProgress(value=0, max=3600), HTML(value='')))"
      ]
     },
     "metadata": {},
     "output_type": "display_data"
    },
    {
     "name": "stdout",
     "output_type": "stream",
     "text": [
      "saving tracking at frame 0 of 4800...\n",
      "tracking saved!\n"
     ]
    },
    {
     "name": "stderr",
     "output_type": "stream",
     "text": [
      "/home/chrelli/anaconda2/envs/mousepose/lib/python3.6/site-packages/ipykernel_launcher.py:13: UserWarning: To copy construct from a tensor, it is recommended to use sourceTensor.clone().detach() or sourceTensor.clone().detach().requires_grad_(True), rather than torch.tensor(sourceTensor).\n",
      "  del sys.path[0]\n",
      "/home/chrelli/anaconda2/envs/mousepose/lib/python3.6/site-packages/ipykernel_launcher.py:14: UserWarning: To copy construct from a tensor, it is recommended to use sourceTensor.clone().detach() or sourceTensor.clone().detach().requires_grad_(True), rather than torch.tensor(sourceTensor).\n",
      "  \n"
     ]
    },
    {
     "name": "stdout",
     "output_type": "stream",
     "text": [
      "\n",
      "pickling tracking at frame 3599...\n",
      "behavior tracking pickled!\n"
     ]
    }
   ],
   "source": [
    "start_frame =  20*60\n",
    "\n",
    "n_frames = len(jagged_lines)-1-start_frame\n",
    "\n",
    "# do 1000 frames!\n",
    "# n_frames = 10000\n",
    "# do two mins for profiling\n",
    "n_frames = 1*60*60 \n",
    "\n",
    "end_frame = start_frame + n_frames\n",
    "\n",
    "# ### START ###\n",
    "pos,pos_weights,keyp,ikeyp = loading_wrapper(start_frame,jagged_lines)\n",
    "x0_start,clicked_points = initialize_x0(pos.cpu().numpy(),click_start=True)\n",
    "x0_start = x0_start[[1,2,3,4,5,6,7,8,9,11,12,13,15,16,17,18,19]]\n",
    "    \n",
    "if has_implant:\n",
    "    part = torch.Tensor(x0_start).to(torch_device).unsqueeze(0)\n",
    "    pzo = MousePFilt(swarm_size = 200)\n",
    "    part = pzo_wrapper(part,pos,pos_weights,keyp,ikeyp,pzo)\n",
    "\n",
    "else:\n",
    "    part = torch.Tensor(x0_start[[0,1,2,4,5,6,7,8,9,10,11,12,13,14,15,16]]).to(torch_device).unsqueeze(0)   \n",
    "    pzo = MousePFilt(swarm_size = 200,has_implant = False)\n",
    "    part = pzo_wrapper(part,pos,pos_weights,keyp,ikeyp,pzo)\n",
    "\n",
    "\n",
    "embedding = 5\n",
    "bank = rls_bank(n_vars = part.shape[1], embedding=embedding)\n",
    "bank.mu = .99\n",
    "\n",
    "x0_trace = []\n",
    "frame_trace = []\n",
    "history_trace = []\n",
    "# just make a numpy holder for it directly\n",
    "# and a frame index which tells us which frame we're currently tracking\n",
    "tracking_holder = np.zeros((part.shape[1]+1,n_frames))\n",
    "guessing_holder = np.zeros((part.shape[1]+1,n_frames))*np.nan\n",
    "\n",
    "from tqdm import tqdm\n",
    "\n",
    "with torch.no_grad():\n",
    "    for i_frame, this_frame in enumerate(tqdm_notebook(range(start_frame,start_frame+n_frames))):\n",
    "        # if we've learned, preditc\n",
    "\n",
    "        # load and fit\n",
    "        pos,pos_weights,keyp,ikeyp = pos,pos_weights,keyp,ikeyp = loading_wrapper(this_frame,jagged_lines)\n",
    "        pos = pos#[::4]\n",
    "\n",
    "        keyp,ikeyp = clean_keyp_by_r(part,keyp,ikeyp,has_implant=has_implant)\n",
    "    #     part,history = klm_routine(part,pos,keyp,ikeyp,max_iters = 100,verbose=False,save_history = True,ftol = 1e-4)\n",
    "    #     part, histo = pzo_step(part,pos,keyp,ikeyp)\n",
    "        part = pzo_wrapper(part,pos,pos_weights,keyp,ikeyp,pzo)\n",
    "        # 3. add to fitting history\n",
    "        x0_trace.append(part.cpu().numpy())\n",
    "        frame_trace.append(this_frame)\n",
    "    #     history_trace.append(history)\n",
    "        # and update the frame index and the tracking_holder\n",
    "        tracking_holder[:-1,i_frame] = part[0,:].cpu().numpy()\n",
    "        tracking_holder[-1,i_frame] = this_frame\n",
    "\n",
    "        # always adapt!\n",
    "        if True:\n",
    "            bank,part_guess,guessing_holder = ML_predict(bank,i_frame,embedding,tracking_holder,guessing_holder)\n",
    "\n",
    "        if i_frame > 150 and True:\n",
    "            # do prediction after the first 150 frames\n",
    "            pass\n",
    "    #         part_guess[:,[5,13]] = part[:,[5,13]]\n",
    "    #         part = part_guess\n",
    "    #         part[:,[0,1,2,6,7,8,9,10,11,14,15,16]] = part_guess[:,[0,1,2,6,7,8,9,10,11,14,15,16]]\n",
    "            if has_implant:\n",
    "                part[:,[6,7,8,14,15,16]] = part_guess[:,[6,7,8,14,15,16]].to(torch_device)\n",
    "            else:\n",
    "                part[:,[5,6,7,13,14,15]] = part_guess[:,[5,6,7,13,14,15]].to(torch_device)\n",
    "                \n",
    "        if i_frame%2 == 0 and False:\n",
    "            # fully update the \n",
    "            if i_frame > 150:\n",
    "                plot_single_frame(part_guess.to(torch_device),pos, keyp, ikeyp,this_frame)    \n",
    "            else:\n",
    "                plot_single_frame(part,pos, keyp, ikeyp,this_frame)    \n",
    "\n",
    "        if i_frame%6000 == 0:\n",
    "            top_folder = 'frames/'\n",
    "            print(\"saving tracking at frame {} of {}...\".format(i_frame,start_frame+n_frames))\n",
    "            np.save(top_folder+'tracking_holder.npy',tracking_holder)\n",
    "            np.save(top_folder+'guessing_holder.npy',guessing_holder)\n",
    "            np.save(top_folder+'body_constants.npy',body_constants)\n",
    "            print(\"tracking saved!\")    \n",
    "\n",
    "            \n",
    "# TODO also add the date of the folder as a string?\n",
    "tracked_behavior = {\n",
    "    \"var\": ['b','c','s','psi','theta','phi','x','y','z','b','c','s','theta','phi','x','y','z'],\n",
    "    \"ivar\": ['b0','c0','s0','psi0','theta0','phi0','x0','y0','z0','b1','c1','s1','theta1','phi1','x1','y1','z1'],\n",
    "    \"body_constants\": body_constants,\n",
    "    \"start_frame\": start_frame,\n",
    "    \"end_frame\": end_frame,\n",
    "    \"tracking_holder\": tracking_holder,\n",
    "    \"guessing_holder\": guessing_holder,\n",
    "    \"data_folder\": data_folder\n",
    "}\n",
    "\n",
    "print(\"pickling tracking at frame {}...\".format(i_frame))\n",
    "with open(data_folder +'/tracked_behavior.pkl', 'wb+') as f:\n",
    "    pickle.dump(tracked_behavior,f)\n",
    "print(\"behavior tracking pickled!\")                "
   ]
  },
  {
   "cell_type": "code",
   "execution_count": 21,
   "metadata": {},
   "outputs": [],
   "source": [
    "#%% Plot tracked data to see that everything is fine\n",
    "plt.close('all')\n",
    "plt.figure()\n",
    "\n",
    "NNN = ['b','c','s','psi','theta','phi','x','y','z','b','c','s','theta','phi','x','y','z']\n",
    "for ii,name in enumerate(NNN):\n",
    "    plt.subplot(len(NNN),1,ii+1)\n",
    "    index = np.arange(tracking_holder.shape[1])\n",
    "    plt.plot(index[:i_frame],tracking_holder[ii,:i_frame])\n",
    "    plt.plot(index[:i_frame],guessing_holder[ii,:i_frame])\n",
    "    plt.ylabel(str(ii)+'_'+name)\n",
    "plt.show()\n",
    " "
   ]
  },
  {
   "cell_type": "code",
   "execution_count": null,
   "metadata": {},
   "outputs": [],
   "source": []
  }
 ],
 "metadata": {
  "kernelspec": {
   "display_name": "Python 3",
   "language": "python",
   "name": "python3"
  },
  "language_info": {
   "codemirror_mode": {
    "name": "ipython",
    "version": 3
   },
   "file_extension": ".py",
   "mimetype": "text/x-python",
   "name": "python",
   "nbconvert_exporter": "python",
   "pygments_lexer": "ipython3",
   "version": "3.6.9"
  }
 },
 "nbformat": 4,
 "nbformat_minor": 4
}
